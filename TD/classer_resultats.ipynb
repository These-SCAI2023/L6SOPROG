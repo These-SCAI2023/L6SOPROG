{
 "cells": [
  {
   "cell_type": "code",
   "execution_count": 6,
   "metadata": {},
   "outputs": [],
   "source": [
    "def lire_fichier(chemin):\n",
    "    with open(\"/home/rundimeco/Documents/corpora/corpus_paralleles/\"+chemin, encoding=\"utf-8\") as f:\n",
    "        chaine = f.read()\n",
    "    return chaine\n",
    "import glob\n"
   ]
  },
  {
   "cell_type": "code",
   "execution_count": 2,
   "metadata": {},
   "outputs": [
    {
     "name": "stderr",
     "output_type": "stream",
     "text": [
      "/home/rundimeco/anaconda3/lib/python3.7/site-packages/torch/cuda/__init__.py:52: UserWarning: CUDA initialization: Found no NVIDIA driver on your system. Please check that you have an NVIDIA GPU and installed a driver from http://www.nvidia.com/Download/index.aspx (Triggered internally at  /pytorch/c10/cuda/CUDAFunctions.cpp:100.)\n",
      "  return torch._C._cuda_getDeviceCount() > 0\n"
     ]
    },
    {
     "ename": "FileNotFoundError",
     "evalue": "[Errno 2] No such file or directory: 'index.json'",
     "output_type": "error",
     "traceback": [
      "\u001b[0;31m---------------------------------------------------------------------------\u001b[0m",
      "\u001b[0;31mFileNotFoundError\u001b[0m                         Traceback (most recent call last)",
      "\u001b[0;32m<ipython-input-2-fc74b3aa5e7f>\u001b[0m in \u001b[0;36m<module>\u001b[0;34m\u001b[0m\n\u001b[1;32m      1\u001b[0m \u001b[0;32mimport\u001b[0m \u001b[0mspacy\u001b[0m\u001b[0;34m\u001b[0m\u001b[0;34m\u001b[0m\u001b[0m\n\u001b[0;32m----> 2\u001b[0;31m \u001b[0;32mwith\u001b[0m \u001b[0mopen\u001b[0m\u001b[0;34m(\u001b[0m\u001b[0;34m\"index.json\"\u001b[0m\u001b[0;34m)\u001b[0m \u001b[0;32mas\u001b[0m \u001b[0mf\u001b[0m\u001b[0;34m:\u001b[0m\u001b[0;34m\u001b[0m\u001b[0;34m\u001b[0m\u001b[0m\n\u001b[0m\u001b[1;32m      3\u001b[0m     \u001b[0mindex\u001b[0m \u001b[0;34m=\u001b[0m \u001b[0mjson\u001b[0m\u001b[0;34m.\u001b[0m\u001b[0mload\u001b[0m\u001b[0;34m(\u001b[0m\u001b[0mf\u001b[0m\u001b[0;34m)\u001b[0m\u001b[0;34m\u001b[0m\u001b[0;34m\u001b[0m\u001b[0m\n\u001b[1;32m      4\u001b[0m \u001b[0mnlp\u001b[0m \u001b[0;34m=\u001b[0m \u001b[0mspacy\u001b[0m\u001b[0;34m.\u001b[0m\u001b[0mload\u001b[0m\u001b[0;34m(\u001b[0m\u001b[0;34m\"fr_core_news_sm\"\u001b[0m\u001b[0;34m)\u001b[0m\u001b[0;34m\u001b[0m\u001b[0;34m\u001b[0m\u001b[0m\n",
      "\u001b[0;31mFileNotFoundError\u001b[0m: [Errno 2] No such file or directory: 'index.json'"
     ]
    }
   ],
   "source": [
    "import spacy\n",
    "with open(\"index.json\") as f:\n",
    "    index = json.load(f)\n",
    "nlp = spacy.load(\"fr_core_news_sm\")"
   ]
  },
  {
   "cell_type": "code",
   "execution_count": 7,
   "metadata": {},
   "outputs": [],
   "source": [
    "#input: liste textes et requête\n",
    "liste_textes = [\n",
    "  \"corpus_multi/fr/appr/2009-05-07_celex_IP-09-710.fr.html\",\n",
    "  \"corpus_multi/fr/appr/2009-07-13_celex_IP-09-1118.fr.html\",\n",
    "  \"corpus_multi/fr/appr/2009-09-28_celex_IP-09-1364.fr.html\",\n",
    "  \"corpus_multi/fr/appr/2009-11-12_celex_IP-09-1703.fr.html\",\n",
    "  \"corpus_multi/fr/appr/2009-11-10_celex_IP-09-1688.fr.html\"\n",
    "]\n"
   ]
  },
  {
   "cell_type": "code",
   "execution_count": 10,
   "metadata": {},
   "outputs": [
    {
     "name": "stdout",
     "output_type": "stream",
     "text": [
      "[[1.         0.54185457 0.59520573 0.55809128 0.61178602 0.03035097]\n",
      " [0.54185457 1.         0.57086039 0.52104137 0.63247129 0.00272773]\n",
      " [0.59520573 0.57086039 1.         0.5541309  0.64418027 0.01090097]\n",
      " [0.55809128 0.52104137 0.5541309  1.         0.59904276 0.0044195 ]\n",
      " [0.61178602 0.63247129 0.64418027 0.59904276 1.         0.02374134]\n",
      " [0.03035097 0.00272773 0.01090097 0.0044195  0.02374134 1.        ]]\n"
     ]
    }
   ],
   "source": [
    "corpus = []\n",
    "for chemin in liste_textes:\n",
    "    chaine = lire_fichier(chemin)\n",
    "    corpus.append(chaine)\n",
    "\n",
    "requete = \"faire baisser prix\"\n",
    "corpus.append(requete)\n",
    "#vectoriser\n",
    "from sklearn.feature_extraction.text import TfidfVectorizer\n",
    "\n",
    "vectorizer = TfidfVectorizer()\n",
    "X = vectorizer.fit_transform(corpus)\n",
    "#print(X)\n",
    "#similarité\n",
    "from sklearn.metrics.pairwise import cosine_similarity\n",
    "import json\n",
    "#for doc in corpus:\n",
    "#    print(doc)\n",
    "matrix = cosine_similarity(X.toarray())\n",
    "print(matrix)\n",
    "#output: textes par ordre décroissant de pertinence"
   ]
  },
  {
   "cell_type": "code",
   "execution_count": 29,
   "metadata": {},
   "outputs": [
    {
     "name": "stdout",
     "output_type": "stream",
     "text": [
      "[0.03035097 0.00272773 0.01090097 0.0044195  0.02374134 1.        ]\n",
      "[\n",
      "  [\n",
      "    0.030350969162175702,\n",
      "    \"corpus_multi/corpus_multi/fr/appr/2009-05-07_celex_IP-09-710.fr.html\"\n",
      "  ],\n",
      "  [\n",
      "    0.023741340112292657,\n",
      "    \"corpus_multi/corpus_multi/fr/appr/2009-11-10_celex_IP-09-1688.fr.html\"\n",
      "  ],\n",
      "  [\n",
      "    0.010900971822863807,\n",
      "    \"corpus_multi/corpus_multi/fr/appr/2009-09-28_celex_IP-09-1364.fr.html\"\n",
      "  ],\n",
      "  [\n",
      "    0.004419496020852154,\n",
      "    \"corpus_multi/corpus_multi/fr/appr/2009-11-12_celex_IP-09-1703.fr.html\"\n",
      "  ],\n",
      "  [\n",
      "    0.002727726737311629,\n",
      "    \"corpus_multi/corpus_multi/fr/appr/2009-07-13_celex_IP-09-1118.fr.html\"\n",
      "  ]\n",
      "]\n"
     ]
    }
   ],
   "source": [
    "similarite_requete = matrix[-1]\n",
    "print(similarite_requete)\n",
    "liste_res = []\n",
    "cpt= 0\n",
    "for similarite in similarite_requete[:-1]:#on regarde pas le dernier\n",
    "    chemin = liste_textes[cpt]\n",
    "    liste_res.append([similarite, chemin])\n",
    "    cpt+=1\n",
    "resultat_trie = sorted(liste_res, reverse=True)\n",
    "print(json.dumps(resultat_trie, indent=2))\n"
   ]
  },
  {
   "cell_type": "code",
   "execution_count": 37,
   "metadata": {},
   "outputs": [],
   "source": [
    "import re\n",
    "def afficher_contextes(chaine, terme, taille_contexte = 30):\n",
    "   match = re.search(terme, chaine)\n",
    "   contexts = []\n",
    "   while match is not None:\n",
    "     #Les bornes gauche et droite autour du mot :\n",
    "     gauche = max(match.start()-taille_contexte-1, 0)\n",
    "     droite =  match.end()+1+taille_contexte\n",
    "     contexts.append(chaine[gauche:droite])\n",
    "     chaine = chaine[match.end():]\n",
    "     match = re.search(terme, chaine)\n",
    "   for c in contexts:\n",
    "     print(c)\n",
    "\n",
    "def afficher_contextes_mots(chaine, terme, taille_contexte = 5):\n",
    "   doc = nlp(chaine)\n",
    "   liste_mots = []\n",
    "   liste_positions = []\n",
    "   cpt = 0\n",
    "   for token in doc:\n",
    "     liste_mots.append(str(token))\n",
    "     if terme == str(token):\n",
    "        liste_positions.append(cpt)\n",
    "     cpt+=1    \n",
    "   contexts = []\n",
    "   for position in liste_positions:\n",
    "     #Les bornes gauche et droite autour du mot :\n",
    "     gauche = max(position-taille_contexte, 0)\n",
    "     droite =  position+1+taille_contexte\n",
    "     contexts.append(liste_mots[gauche:droite])\n",
    "   for c in contexts:\n",
    "     print(\" \".join(c))        "
   ]
  },
  {
   "cell_type": "code",
   "execution_count": null,
   "metadata": {},
   "outputs": [
    {
     "name": "stdout",
     "output_type": "stream",
     "text": [
      "corpus_multi/corpus_multi/fr/appr/2009-05-07_celex_IP-09-710.fr.html\n",
      "--------------------\n",
      "\n",
      "régulation. Cela permettra de faire converger les tarifs de termin\n",
      "régulation . Cela permettra de faire converger les tarifs de terminaison\n",
      "next?\n",
      "téléphonie à travers l'UE fera baisser les prix des appels\n",
      "vocaux dan\n",
      "à travers l' UE fera baisser les prix des appels \n",
      "\n",
      "next?\n",
      "élimination des distorsions de prix entre les opérateurs\n",
      "de téléph\n",
      " travers l'UE fera baisser les prix des appels\n",
      "vocaux dans et entr\n",
      "erminaison qui ne sont pas des prix fixés par le marché,\n",
      "mais qui \n",
      "xe-mobile ou offres\n",
      "d'appels à prix compétitifs). \n",
      "Les tarifs de t\n",
      "L' élimination des distorsions de prix entre les opérateurs \n",
      " de\n",
      "l' UE fera baisser les prix des appels \n",
      " vocaux dans\n",
      "qui ne sont pas des prix fixés par le marché ,\n",
      "offres \n",
      " d' appels à prix compétitifs ) . \n",
      " Les\n",
      "next?\n",
      "corpus_multi/corpus_multi/fr/appr/2009-11-10_celex_IP-09-1688.fr.html\n",
      "--------------------\n",
      " mais nous pouvons bien sûr en faire davantage, et telle est notre \n",
      "en trente-sept points visant à faire baisser le taux d’erreur à moy\n",
      "ismes de contrôle possibles et faire en sorte d’utiliser les ressou\n",
      "compter sur la Commission pour faire de son mieux afin que chaque e\n",
      "nous pouvons bien sûr en faire davantage , et telle est\n",
      "en trente-sept points visant à faire baisser le taux d’ erreur\n",
      "mécanismes de contrôle possibles et faire en sorte d’ utiliser les\n",
      "compter sur la Commission pour faire de son mieux afin que\n",
      "next?\n",
      "nte-sept points visant à faire baisser le taux d’erreur à moyen terme\n",
      "ons tous voir le taux d’erreur baisser aussi vite que possible. Je su\n",
      "trente-sept points visant à faire baisser le taux d’ erreur à\n",
      "voir le taux d’ erreur baisser aussi vite que possible .\n"
     ]
    }
   ],
   "source": [
    "mots_requete = requete.split()\n",
    "for sim, chemin in resultat_trie:\n",
    "    chaine = lire_fichier(chemin)\n",
    "    print(chemin)\n",
    "    print(\"-\"*20)\n",
    "    for mot in mots_requete:\n",
    "        afficher_contextes(chaine, mot)\n",
    "        afficher_contextes_mots(chaine, mot)\n",
    "        dd=input(\"next?\")"
   ]
  },
  {
   "cell_type": "code",
   "execution_count": null,
   "metadata": {},
   "outputs": [],
   "source": []
  }
 ],
 "metadata": {
  "kernelspec": {
   "display_name": "Python 3",
   "language": "python",
   "name": "python3"
  },
  "language_info": {
   "codemirror_mode": {
    "name": "ipython",
    "version": 3
   },
   "file_extension": ".py",
   "mimetype": "text/x-python",
   "name": "python",
   "nbconvert_exporter": "python",
   "pygments_lexer": "ipython3",
   "version": "3.7.5"
  }
 },
 "nbformat": 4,
 "nbformat_minor": 2
}
