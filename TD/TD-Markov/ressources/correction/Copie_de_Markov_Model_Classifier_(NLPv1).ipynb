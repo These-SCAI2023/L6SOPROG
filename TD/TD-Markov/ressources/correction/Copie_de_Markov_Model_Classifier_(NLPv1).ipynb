{
  "nbformat": 4,
  "nbformat_minor": 0,
  "metadata": {
    "colab": {
      "provenance": []
    },
    "kernelspec": {
      "name": "python3",
      "display_name": "Python 3"
    },
    "language_info": {
      "name": "python"
    }
  },
  "cells": [
    {
      "cell_type": "code",
      "metadata": {
        "id": "lNdUJtX6pYw1",
        "colab": {
          "base_uri": "https://localhost:8080/"
        },
        "outputId": "4ca18732-46b4-4aec-893b-43ec12b6ba78"
      },
      "source": [
        "!wget -nc https://raw.githubusercontent.com/lazyprogrammer/machine_learning_examples/master/hmm_class/edgar_allan_poe.txt\n",
        "!wget -nc https://raw.githubusercontent.com/lazyprogrammer/machine_learning_examples/master/hmm_class/robert_frost.txt"
      ],
      "execution_count": null,
      "outputs": [
        {
          "output_type": "stream",
          "name": "stdout",
          "text": [
            "File ‘edgar_allan_poe.txt’ already there; not retrieving.\n",
            "\n",
            "File ‘robert_frost.txt’ already there; not retrieving.\n",
            "\n"
          ]
        }
      ]
    },
    {
      "cell_type": "code",
      "metadata": {
        "id": "0G51aRvypoIR"
      },
      "source": [
        "import numpy as np\n",
        "import matplotlib.pyplot as plt\n",
        "import string\n",
        "from sklearn.model_selection import train_test_split"
      ],
      "execution_count": null,
      "outputs": []
    },
    {
      "cell_type": "code",
      "metadata": {
        "id": "PC9SH-fqrS2X"
      },
      "source": [
        "input_files = [\n",
        "  'edgar_allan_poe.txt',\n",
        "  'robert_frost.txt',\n",
        "]"
      ],
      "execution_count": null,
      "outputs": []
    },
    {
      "cell_type": "code",
      "metadata": {
        "id": "kXW2aicIreKF",
        "colab": {
          "base_uri": "https://localhost:8080/"
        },
        "outputId": "8a9f7249-b662-4355-825a-6f5e918597e2"
      },
      "source": [
        "!head edgar_allan_poe.txt"
      ],
      "execution_count": null,
      "outputs": [
        {
          "output_type": "stream",
          "name": "stdout",
          "text": [
            "LO! Death hath rear'd himself a throne\n",
            "In a strange city, all alone,\n",
            "Far down within the dim west\n",
            "Where the good, and the bad, and the worst, and the best,\n",
            "Have gone to their eternal rest.\n",
            " \n",
            "There shrines, and palaces, and towers\n",
            "Are not like any thing of ours\n",
            "Oh no! O no! ours never loom\n",
            "To heaven with that ungodly gloom!\n"
          ]
        }
      ]
    },
    {
      "cell_type": "code",
      "metadata": {
        "id": "IqxSVzPFrgMC",
        "colab": {
          "base_uri": "https://localhost:8080/"
        },
        "outputId": "83398b98-d2f5-464a-a226-725882959479"
      },
      "source": [
        "!head robert_frost.txt"
      ],
      "execution_count": null,
      "outputs": [
        {
          "output_type": "stream",
          "name": "stdout",
          "text": [
            "Two roads diverged in a yellow wood,\n",
            "And sorry I could not travel both\n",
            "And be one traveler, long I stood\n",
            "And looked down one as far as I could\n",
            "To where it bent in the undergrowth; \n",
            "\n",
            "Then took the other, as just as fair,\n",
            "And having perhaps the better claim\n",
            "Because it was grassy and wanted wear,\n",
            "Though as for that the passing there\n"
          ]
        }
      ]
    },
    {
      "cell_type": "code",
      "metadata": {
        "id": "fZnTo_I9uUgN",
        "colab": {
          "base_uri": "https://localhost:8080/"
        },
        "outputId": "0a39b90f-aae0-4fa2-f6a6-def245fe2d20"
      },
      "source": [
        "# collect data into lists\n",
        "input_texts = []\n",
        "labels = []\n",
        "\n",
        "for label, f in enumerate(input_files):\n",
        "  print(f\"{f} corresponds to label {label}\")\n",
        "\n",
        "  for line in open(f):\n",
        "    line = line.rstrip().lower()\n",
        "    if line:\n",
        "      # remove punctuation\n",
        "      line = line.translate(str.maketrans('', '', string.punctuation))\n",
        "\n",
        "      input_texts.append(line)\n",
        "      labels.append(label)"
      ],
      "execution_count": null,
      "outputs": [
        {
          "output_type": "stream",
          "name": "stdout",
          "text": [
            "edgar_allan_poe.txt corresponds to label 0\n",
            "robert_frost.txt corresponds to label 1\n"
          ]
        }
      ]
    },
    {
      "cell_type": "code",
      "metadata": {
        "id": "Z99HFrNKuyWQ"
      },
      "source": [
        "train_text, test_text, Ytrain, Ytest = train_test_split(input_texts, labels)"
      ],
      "execution_count": null,
      "outputs": []
    },
    {
      "cell_type": "code",
      "metadata": {
        "id": "2AF1JALytzvH",
        "colab": {
          "base_uri": "https://localhost:8080/"
        },
        "outputId": "4ddefa2b-3e21-4a66-b94b-8da74b106e4c"
      },
      "source": [
        "len(Ytrain), len(Ytest)"
      ],
      "execution_count": null,
      "outputs": [
        {
          "output_type": "execute_result",
          "data": {
            "text/plain": [
              "(1615, 539)"
            ]
          },
          "metadata": {},
          "execution_count": 128
        }
      ]
    },
    {
      "cell_type": "code",
      "metadata": {
        "id": "70LeSBq6u88m",
        "colab": {
          "base_uri": "https://localhost:8080/"
        },
        "outputId": "91ecdbcc-e4d4-4531-9c3e-b0da0a55baeb"
      },
      "source": [
        "train_text[:5]"
      ],
      "execution_count": null,
      "outputs": [
        {
          "output_type": "execute_result",
          "data": {
            "text/plain": [
              "['rather than tip a table for you let me',\n",
              " 'mother yes we could too son tell the truth for once',\n",
              " 'you must be learned thats what you see in it',\n",
              " 'who alterest all things with thy peering eyes',\n",
              " 'they found hed gnawed the four posts of his bed']"
            ]
          },
          "metadata": {},
          "execution_count": 129
        }
      ]
    },
    {
      "cell_type": "code",
      "metadata": {
        "id": "OC-Iq30Rvb4J",
        "colab": {
          "base_uri": "https://localhost:8080/"
        },
        "outputId": "9926f81b-f764-4844-9076-c9d739db885d"
      },
      "source": [
        "Ytrain[:5]"
      ],
      "execution_count": null,
      "outputs": [
        {
          "output_type": "execute_result",
          "data": {
            "text/plain": [
              "[1, 1, 1, 0, 1]"
            ]
          },
          "metadata": {},
          "execution_count": 130
        }
      ]
    },
    {
      "cell_type": "code",
      "metadata": {
        "id": "iADTvOyvpuOf"
      },
      "source": [
        "idx = 1\n",
        "word2idx = {'<unk>': 0}"
      ],
      "execution_count": null,
      "outputs": []
    },
    {
      "cell_type": "code",
      "metadata": {
        "id": "b4uo1OFNrPkd"
      },
      "source": [
        "# populate word2idx\n",
        "for text in train_text:\n",
        "    tokens = text.split()\n",
        "    for token in tokens:\n",
        "      if token not in word2idx:\n",
        "        word2idx[token] = idx\n",
        "        idx += 1"
      ],
      "execution_count": null,
      "outputs": []
    },
    {
      "cell_type": "code",
      "metadata": {
        "id": "mxpMYMuMrrZn",
        "colab": {
          "base_uri": "https://localhost:8080/"
        },
        "outputId": "cd876a0b-abcc-449f-e1e4-74aa2d150348"
      },
      "source": [
        "word2idx"
      ],
      "execution_count": null,
      "outputs": [
        {
          "output_type": "execute_result",
          "data": {
            "text/plain": [
              "{'<unk>': 0,\n",
              " 'rather': 1,\n",
              " 'than': 2,\n",
              " 'tip': 3,\n",
              " 'a': 4,\n",
              " 'table': 5,\n",
              " 'for': 6,\n",
              " 'you': 7,\n",
              " 'let': 8,\n",
              " 'me': 9,\n",
              " 'mother': 10,\n",
              " 'yes': 11,\n",
              " 'we': 12,\n",
              " 'could': 13,\n",
              " 'too': 14,\n",
              " 'son': 15,\n",
              " 'tell': 16,\n",
              " 'the': 17,\n",
              " 'truth': 18,\n",
              " 'once': 19,\n",
              " 'must': 20,\n",
              " 'be': 21,\n",
              " 'learned': 22,\n",
              " 'thats': 23,\n",
              " 'what': 24,\n",
              " 'see': 25,\n",
              " 'in': 26,\n",
              " 'it': 27,\n",
              " 'who': 28,\n",
              " 'alterest': 29,\n",
              " 'all': 30,\n",
              " 'things': 31,\n",
              " 'with': 32,\n",
              " 'thy': 33,\n",
              " 'peering': 34,\n",
              " 'eyes': 35,\n",
              " 'they': 36,\n",
              " 'found': 37,\n",
              " 'hed': 38,\n",
              " 'gnawed': 39,\n",
              " 'four': 40,\n",
              " 'posts': 41,\n",
              " 'of': 42,\n",
              " 'his': 43,\n",
              " 'bed': 44,\n",
              " 'greenest': 45,\n",
              " 'our': 46,\n",
              " 'valleys': 47,\n",
              " 'tis': 48,\n",
              " 'not': 49,\n",
              " 'that': 50,\n",
              " 'flowers': 51,\n",
              " 'twenty': 52,\n",
              " 'springs': 53,\n",
              " 'and': 54,\n",
              " 'since': 55,\n",
              " 'there': 56,\n",
              " 'was': 57,\n",
              " 'no': 58,\n",
              " 'other': 59,\n",
              " 'way': 60,\n",
              " 'to': 61,\n",
              " 'look': 62,\n",
              " 'several': 63,\n",
              " 'times': 64,\n",
              " 'over': 65,\n",
              " 'by': 66,\n",
              " 'marrying': 67,\n",
              " 'father': 68,\n",
              " 'but': 69,\n",
              " 'though': 70,\n",
              " 'runs': 71,\n",
              " 'unbridled': 72,\n",
              " 'off': 73,\n",
              " 'its': 74,\n",
              " 'course': 75,\n",
              " 'groan': 76,\n",
              " 'as': 77,\n",
              " 'roll': 78,\n",
              " 'down': 79,\n",
              " 'mount': 80,\n",
              " 'yaanek': 81,\n",
              " 'such': 82,\n",
              " 'few': 83,\n",
              " 'people': 84,\n",
              " 'out': 85,\n",
              " 'plowed': 86,\n",
              " 'ground': 87,\n",
              " 'cold': 88,\n",
              " 'digger': 89,\n",
              " 'one': 90,\n",
              " 'clasps': 91,\n",
              " 'her': 92,\n",
              " 'heart': 93,\n",
              " 'laughed': 94,\n",
              " 'together': 95,\n",
              " 'stardials': 96,\n",
              " 'pointed': 97,\n",
              " 'morn': 98,\n",
              " 'until': 99,\n",
              " 'id': 100,\n",
              " 'had': 101,\n",
              " 'him': 102,\n",
              " 'worn': 103,\n",
              " 'skin': 104,\n",
              " 'bones': 105,\n",
              " 'thrown': 106,\n",
              " 'away': 107,\n",
              " 'then': 108,\n",
              " 'asked': 109,\n",
              " 'anything': 110,\n",
              " 'stone': 111,\n",
              " 'lead': 112,\n",
              " 'unprotected': 113,\n",
              " 'glass': 114,\n",
              " 'like': 115,\n",
              " 'wild': 116,\n",
              " 'geese': 117,\n",
              " 'on': 118,\n",
              " 'lake': 119,\n",
              " 'before': 120,\n",
              " 'storm': 121,\n",
              " 'or': 122,\n",
              " 'i': 123,\n",
              " 'cant': 124,\n",
              " 'give': 125,\n",
              " 'myself': 126,\n",
              " 'hear': 127,\n",
              " 'voices': 128,\n",
              " 'bird': 129,\n",
              " 'singing': 130,\n",
              " 'now': 131,\n",
              " 'think': 132,\n",
              " 'these': 133,\n",
              " 'weak': 134,\n",
              " 'lines': 135,\n",
              " 'are': 136,\n",
              " 'written': 137,\n",
              " 'tho': 138,\n",
              " 'faith': 139,\n",
              " 'godliness': 140,\n",
              " 'whose': 141,\n",
              " 'throne': 142,\n",
              " 'blame': 143,\n",
              " 'being': 144,\n",
              " 'brought': 145,\n",
              " 'up': 146,\n",
              " 'oh': 147,\n",
              " 'kept': 148,\n",
              " 'first': 149,\n",
              " 'another': 150,\n",
              " 'day': 151,\n",
              " 'old': 152,\n",
              " 'peckerfretted': 153,\n",
              " 'apple': 154,\n",
              " 'trees': 155,\n",
              " 'repeatedly': 156,\n",
              " 'he': 157,\n",
              " 'strove': 158,\n",
              " 'where': 159,\n",
              " 'shall': 160,\n",
              " 'meet': 161,\n",
              " 'again': 162,\n",
              " 'an': 163,\n",
              " 'eden': 164,\n",
              " 'bland': 165,\n",
              " 'repose': 166,\n",
              " 'set': 167,\n",
              " 'so': 168,\n",
              " 'far': 169,\n",
              " 'halfway': 170,\n",
              " 'fought': 171,\n",
              " 'battle': 172,\n",
              " 'two': 173,\n",
              " 'oldbelievers': 174,\n",
              " 'did': 175,\n",
              " 'talking': 176,\n",
              " 'motorcars': 177,\n",
              " 'im': 178,\n",
              " 'if': 179,\n",
              " 'summer': 180,\n",
              " 'when': 181,\n",
              " 'passed': 182,\n",
              " 'place': 183,\n",
              " 'eye': 184,\n",
              " 'man': 185,\n",
              " 'noted': 186,\n",
              " 'dim': 187,\n",
              " 'auber': 188,\n",
              " 'receipted': 189,\n",
              " 'cock': 190,\n",
              " 'is': 191,\n",
              " 'yard': 192,\n",
              " 'bill': 193,\n",
              " 'twas': 194,\n",
              " 'have': 195,\n",
              " 'money': 196,\n",
              " 'us': 197,\n",
              " 'from': 198,\n",
              " 'new': 199,\n",
              " 'fountains': 200,\n",
              " 'overflow': 201,\n",
              " 'both': 202,\n",
              " 'either': 203,\n",
              " 'looking': 204,\n",
              " 'finding': 205,\n",
              " 'something': 206,\n",
              " 'read': 207,\n",
              " 'ive': 208,\n",
              " 'never': 209,\n",
              " 'listened': 210,\n",
              " 'among': 211,\n",
              " 'sounds': 212,\n",
              " 'skies': 213,\n",
              " 'angel': 214,\n",
              " 'trod': 215,\n",
              " 'how': 216,\n",
              " 'many': 217,\n",
              " 'scenes': 218,\n",
              " 'departed': 219,\n",
              " 'bliss': 220,\n",
              " 'speaking': 221,\n",
              " 'bandmusic': 222,\n",
              " 'playing': 223,\n",
              " 'seems': 224,\n",
              " 'hes': 225,\n",
              " 'helpless': 226,\n",
              " 'dimremembered': 227,\n",
              " 'story': 228,\n",
              " 'why': 229,\n",
              " 'ever': 230,\n",
              " 'cared': 231,\n",
              " 'himself': 232,\n",
              " 'between': 233,\n",
              " 'house': 234,\n",
              " 'barn': 235,\n",
              " 'gale': 236,\n",
              " 'has': 237,\n",
              " 'always': 238,\n",
              " 'been': 239,\n",
              " 'much': 240,\n",
              " 'spoke': 241,\n",
              " 'themselves': 242,\n",
              " 'fur': 243,\n",
              " 'trade': 244,\n",
              " 'upon': 245,\n",
              " 'upturned': 246,\n",
              " 'faces': 247,\n",
              " 'thousand': 248,\n",
              " 'while': 249,\n",
              " 'am': 250,\n",
              " 'dead': 251,\n",
              " 'yet': 252,\n",
              " 'alive': 253,\n",
              " 'astartes': 254,\n",
              " 'bediamonded': 255,\n",
              " 'crescent': 256,\n",
              " 'know': 257,\n",
              " 'valley': 258,\n",
              " 'streams': 259,\n",
              " 'aroused': 260,\n",
              " 'took': 261,\n",
              " 'just': 262,\n",
              " 'fair': 263,\n",
              " 'sadder': 264,\n",
              " 'any': 265,\n",
              " 'words': 266,\n",
              " 'little': 267,\n",
              " 'child': 268,\n",
              " 'comes': 269,\n",
              " 'wasnt': 270,\n",
              " 'toffile': 271,\n",
              " 'bright': 272,\n",
              " 'idea': 273,\n",
              " 'deareye': 274,\n",
              " 'most': 275,\n",
              " 'would': 276,\n",
              " 'expense': 277,\n",
              " 'sometimes': 278,\n",
              " 'seemed': 279,\n",
              " 'yield': 280,\n",
              " 'memory': 281,\n",
              " 'more': 282,\n",
              " 'accursed': 283,\n",
              " 'vow': 284,\n",
              " 'near': 285,\n",
              " 'present': 286,\n",
              " 'pathway': 287,\n",
              " 'part': 288,\n",
              " 'hours': 289,\n",
              " 'flew': 290,\n",
              " 'brightly': 291,\n",
              " 'estelle': 292,\n",
              " 'hadnt': 293,\n",
              " 'long': 294,\n",
              " 'suspected': 295,\n",
              " 'were': 296,\n",
              " 'meaning': 297,\n",
              " 'rode': 298,\n",
              " 'everything': 299,\n",
              " 'dank': 300,\n",
              " 'tarn': 301,\n",
              " 'replied': 302,\n",
              " 'this': 303,\n",
              " 'nothing': 304,\n",
              " 'dreaming': 305,\n",
              " 'less': 306,\n",
              " 'traveled': 307,\n",
              " 'isola': 308,\n",
              " 'doro': 309,\n",
              " 'fior': 310,\n",
              " 'di': 311,\n",
              " 'levante': 312,\n",
              " 'carried': 313,\n",
              " 'itself': 314,\n",
              " 'pile': 315,\n",
              " 'dishes': 316,\n",
              " 'voted': 317,\n",
              " 'only': 318,\n",
              " 'case': 319,\n",
              " 'kind': 320,\n",
              " 'called': 321,\n",
              " 'weather': 322,\n",
              " 'breeder': 323,\n",
              " 'heat': 324,\n",
              " 'slowly': 325,\n",
              " 'hazes': 326,\n",
              " 'sun': 327,\n",
              " 'shoes': 328,\n",
              " 'primped': 329,\n",
              " 'dance': 330,\n",
              " 'cried': 331,\n",
              " 'surely': 332,\n",
              " 'october': 333,\n",
              " 'heard': 334,\n",
              " 'throve': 335,\n",
              " 'israfelis': 336,\n",
              " 'fire': 337,\n",
              " 'lets': 338,\n",
              " 'trap': 339,\n",
              " 'open': 340,\n",
              " 'door': 341,\n",
              " 'attic': 342,\n",
              " 'perhaps': 343,\n",
              " 'ended': 344,\n",
              " 'at': 345,\n",
              " 'strange': 346,\n",
              " 'sound': 347,\n",
              " 'harpstring': 348,\n",
              " 'broken': 349,\n",
              " 'nor': 350,\n",
              " 'ghoulhaunted': 351,\n",
              " 'woodland': 352,\n",
              " 'weir': 353,\n",
              " 'holy': 354,\n",
              " 'rays': 355,\n",
              " 'heaven': 356,\n",
              " 'come': 357,\n",
              " 'spirit': 358,\n",
              " 'knew': 359,\n",
              " 'hour': 360,\n",
              " 'darkest': 361,\n",
              " 'evening': 362,\n",
              " 'year': 363,\n",
              " 'prospect': 364,\n",
              " 'terminates': 365,\n",
              " 'thee': 366,\n",
              " 'lying': 367,\n",
              " 'die': 368,\n",
              " 'suddenly': 369,\n",
              " 'arisen': 370,\n",
              " 'do': 371,\n",
              " 'hole': 372,\n",
              " 'wonder': 373,\n",
              " 'drinking': 374,\n",
              " 'goblet': 375,\n",
              " 'grail': 376,\n",
              " 'gives': 377,\n",
              " 'harness': 378,\n",
              " 'bells': 379,\n",
              " 'shake': 380,\n",
              " 'united': 381,\n",
              " 'strengths': 382,\n",
              " 'sat': 383,\n",
              " 'floor': 384,\n",
              " 'shouted': 385,\n",
              " 'expanding': 386,\n",
              " 'room': 387,\n",
              " 'whos': 388,\n",
              " 'got': 389,\n",
              " 'button': 390,\n",
              " 'them': 391,\n",
              " 'lethean': 392,\n",
              " 'peace': 393,\n",
              " 'buttons': 394,\n",
              " 'poured': 395,\n",
              " 'lap': 396,\n",
              " 'wont': 397,\n",
              " 'mormon': 398,\n",
              " 'swimming': 399,\n",
              " 'gave': 400,\n",
              " 'end': 401,\n",
              " 'path': 402,\n",
              " 'liquescent': 403,\n",
              " 'their': 404,\n",
              " 'throats': 405,\n",
              " 'dry': 406,\n",
              " 'rattling': 407,\n",
              " 'shutter': 408,\n",
              " 'legended': 409,\n",
              " 'tomb': 410,\n",
              " 'which': 411,\n",
              " 'wrong': 412,\n",
              " 'my': 413,\n",
              " 'lane': 414,\n",
              " 'might': 415,\n",
              " 'married': 416,\n",
              " 'left': 417,\n",
              " 'resignedly': 418,\n",
              " 'beneath': 419,\n",
              " 'sky': 420,\n",
              " 'whom': 421,\n",
              " 'thine': 422,\n",
              " 'absence': 423,\n",
              " 'night': 424,\n",
              " 'chimneys': 425,\n",
              " 'false': 426,\n",
              " 'whats': 427,\n",
              " 'about': 428,\n",
              " 'she': 429,\n",
              " 'go': 430,\n",
              " 'surpassing': 431,\n",
              " 'beauty': 432,\n",
              " 'riddle': 433,\n",
              " 'your': 434,\n",
              " 'genealogy': 435,\n",
              " 'plain': 436,\n",
              " 'statement': 437,\n",
              " 'relationship': 438,\n",
              " 'fun': 439,\n",
              " 'gets': 440,\n",
              " 'bedeviled': 441,\n",
              " 'sacred': 442,\n",
              " 'weeping': 443,\n",
              " 'bless': 444,\n",
              " 'last': 445,\n",
              " 'years': 446,\n",
              " 'berries': 447,\n",
              " 'shining': 448,\n",
              " 'scarlet': 449,\n",
              " 'red': 450,\n",
              " 'brushed': 451,\n",
              " 'across': 452,\n",
              " 'mind': 453,\n",
              " 'pushed': 454,\n",
              " 'upstairs': 455,\n",
              " 'light': 456,\n",
              " 'pens': 457,\n",
              " 'thrills': 458,\n",
              " 'doth': 459,\n",
              " 'oer': 460,\n",
              " 'pass': 461,\n",
              " 'th': 462,\n",
              " 'lo': 463,\n",
              " 'stir': 464,\n",
              " 'air': 465,\n",
              " 'nearest': 466,\n",
              " 'resembles': 467,\n",
              " 'worship': 468,\n",
              " 'remember': 469,\n",
              " 'rural': 470,\n",
              " 'letterbox': 471,\n",
              " 'said': 472,\n",
              " 'lajway': 473,\n",
              " 'shelfs': 474,\n",
              " 'clock': 475,\n",
              " 'vase': 476,\n",
              " 'picture': 477,\n",
              " 'theres': 478,\n",
              " 'keeping': 479,\n",
              " 'back': 480,\n",
              " 'should': 481,\n",
              " 'shouldnt': 482,\n",
              " 'youre': 483,\n",
              " 'dont': 484,\n",
              " 'build': 485,\n",
              " 'chimney': 486,\n",
              " 'shelf': 487,\n",
              " 'cellar': 488,\n",
              " 'makebelieve': 489,\n",
              " 'disturbed': 490,\n",
              " 'doubt': 491,\n",
              " 'thought': 492,\n",
              " 'leak': 493,\n",
              " 'emptied': 494,\n",
              " 'forty': 495,\n",
              " 'isle': 496,\n",
              " 'fairest': 497,\n",
              " 'daylight': 498,\n",
              " 'birth': 499,\n",
              " 'seen': 500,\n",
              " 'visions': 501,\n",
              " 'consult': 502,\n",
              " 'warriors': 503,\n",
              " 'unknown': 504,\n",
              " 'foe': 505,\n",
              " 'love': 506,\n",
              " 'simple': 507,\n",
              " 'duty': 508,\n",
              " 'elsewhere': 509,\n",
              " 'town': 510,\n",
              " 'settle': 511,\n",
              " 'hence': 512,\n",
              " 'merry': 513,\n",
              " 'thrilling': 514,\n",
              " 'right': 515,\n",
              " 'say': 516,\n",
              " 'stay': 517,\n",
              " 'scarified': 518,\n",
              " 'silver': 519,\n",
              " 'tinkling': 520,\n",
              " 'raspberry': 521,\n",
              " 'vines': 522,\n",
              " 'lost': 523,\n",
              " 'tongue': 524,\n",
              " 'own': 525,\n",
              " 'fervor': 526,\n",
              " 'power': 527,\n",
              " 'every': 528,\n",
              " 'time': 529,\n",
              " 'fold': 530,\n",
              " 'ridgepole': 531,\n",
              " 'stride': 532,\n",
              " 'broomstick': 533,\n",
              " 'faster': 534,\n",
              " 'slower': 535,\n",
              " 'chanced': 536,\n",
              " 'sure': 537,\n",
              " 'will': 538,\n",
              " 'aright': 539,\n",
              " 'facts': 540,\n",
              " 'want': 541,\n",
              " 'under': 542,\n",
              " 'spell': 543,\n",
              " 'ones': 544,\n",
              " 'find': 545,\n",
              " 'birds': 546,\n",
              " 'outer': 547,\n",
              " 'windowsill': 548,\n",
              " 'mad': 549,\n",
              " 'pride': 550,\n",
              " 'intellectuality': 551,\n",
              " 'natures': 552,\n",
              " 'green': 553,\n",
              " 'gold': 554,\n",
              " 'ask': 555,\n",
              " 'joe': 556,\n",
              " 'hope': 557,\n",
              " 'utter': 558,\n",
              " 'spells': 559,\n",
              " 'inscription': 560,\n",
              " 'garden': 561,\n",
              " 'wall': 562,\n",
              " 'henceforth': 563,\n",
              " 'hold': 564,\n",
              " 'flowerenameled': 565,\n",
              " 'shore': 566,\n",
              " 'makes': 567,\n",
              " 'worse': 568,\n",
              " 'here': 569,\n",
              " 'waters': 570,\n",
              " 'watering': 571,\n",
              " 'pearl': 572,\n",
              " 'ruby': 573,\n",
              " 'glowing': 574,\n",
              " 'lipbegotten': 575,\n",
              " 'ought': 576,\n",
              " 'rain': 577,\n",
              " 'sometime': 578,\n",
              " 'take': 579,\n",
              " 'show': 580,\n",
              " 'fix': 581,\n",
              " 'tremulous': 582,\n",
              " 'flickers': 583,\n",
              " 'through': 584,\n",
              " 'winds': 585,\n",
              " 'blow': 586,\n",
              " 'grassy': 587,\n",
              " 'places': 588,\n",
              " 'bleak': 589,\n",
              " 'home': 590,\n",
              " 'remembering': 591,\n",
              " 'tower': 592,\n",
              " 'ashes': 593,\n",
              " 'whence': 594,\n",
              " 'spring': 595,\n",
              " 'grow': 596,\n",
              " 'johns': 597,\n",
              " 'bad': 598,\n",
              " 'farmer': 599,\n",
              " 'blaming': 600,\n",
              " 'lot': 601,\n",
              " 'record': 602,\n",
              " 'song': 603,\n",
              " 'colonial': 604,\n",
              " 'boy': 605,\n",
              " 'grave': 606,\n",
              " 'word': 607,\n",
              " 'ill': 608,\n",
              " 'hardly': 609,\n",
              " 'breathe': 610,\n",
              " 'oho': 611,\n",
              " 'roads': 612,\n",
              " 'diverged': 613,\n",
              " 'yellow': 614,\n",
              " 'wood': 615,\n",
              " 'hillside': 616,\n",
              " 'harmodious': 617,\n",
              " 'gallant': 618,\n",
              " 'good': 619,\n",
              " 'sends': 620,\n",
              " 'rustle': 621,\n",
              " 'rushes': 622,\n",
              " 'leaves': 623,\n",
              " 'swarm': 624,\n",
              " 'still': 625,\n",
              " 'ran': 626,\n",
              " 'scuttled': 627,\n",
              " 'fast': 628,\n",
              " 'unhouse': 629,\n",
              " 'else': 630,\n",
              " 'some': 631,\n",
              " 'remoteness': 632,\n",
              " 'defied': 633,\n",
              " 'creases': 634,\n",
              " 'greatly': 635,\n",
              " 'afraid': 636,\n",
              " 'mockery': 637,\n",
              " 'boast': 638,\n",
              " 'merrily': 639,\n",
              " 'live': 640,\n",
              " 'couldnt': 641,\n",
              " 'fence': 642,\n",
              " 'hens': 643,\n",
              " 'range': 644,\n",
              " 'cane': 645,\n",
              " 'knock': 646,\n",
              " 'laurels': 647,\n",
              " 'belong': 648,\n",
              " 'those': 649,\n",
              " 'champions': 650,\n",
              " 'devoted': 651,\n",
              " 'brave': 652,\n",
              " 'changed': 653,\n",
              " 'tin': 654,\n",
              " 'box': 655,\n",
              " 'cupboard': 656,\n",
              " 'piano': 657,\n",
              " 'paint': 658,\n",
              " 'disappeared': 659,\n",
              " 'wave': 660,\n",
              " 'ripple': 661,\n",
              " 'tottering': 662,\n",
              " 'above': 663,\n",
              " 'lifelike': 664,\n",
              " 'posture': 665,\n",
              " 'allowed': 666,\n",
              " 'upside': 667,\n",
              " 'world': 668,\n",
              " 'gentle': 669,\n",
              " 'ways': 670,\n",
              " 'john': 671,\n",
              " 'threw': 672,\n",
              " 'wide': 673,\n",
              " 'didnt': 674,\n",
              " 'enter': 675,\n",
              " 'timeeaten': 676,\n",
              " 'towers': 677,\n",
              " 'tremble': 678,\n",
              " 'vast': 679,\n",
              " 'forms': 680,\n",
              " 'move': 681,\n",
              " 'fantastically': 682,\n",
              " 'reason': 683,\n",
              " 'enough': 684,\n",
              " 'property': 685,\n",
              " 'blushes': 686,\n",
              " 'hate': 687,\n",
              " 'gone': 688,\n",
              " 'talkedof': 689,\n",
              " 'mystery': 690,\n",
              " 'forgot': 691,\n",
              " 'make': 692,\n",
              " 'wanted': 693,\n",
              " 'shrines': 694,\n",
              " 'palaces': 695,\n",
              " 'into': 696,\n",
              " 'each': 697,\n",
              " 'fell': 698,\n",
              " 'silverysilken': 699,\n",
              " 'veil': 700,\n",
              " 'swollen': 701,\n",
              " 'tight': 702,\n",
              " 'buried': 703,\n",
              " 'snow': 704,\n",
              " 'downstairs': 705,\n",
              " 'stood': 706,\n",
              " 'stopped': 707,\n",
              " 'feet': 708,\n",
              " 'farmers': 709,\n",
              " 'around': 710,\n",
              " 'twice': 711,\n",
              " 'well': 712,\n",
              " 'untidy': 713,\n",
              " 'thence': 714,\n",
              " 'sprung': 715,\n",
              " 'numerous': 716,\n",
              " 'tribe': 717,\n",
              " 'also': 718,\n",
              " 'great': 719,\n",
              " 'planets': 720,\n",
              " 'woods': 721,\n",
              " 'frozen': 722,\n",
              " 'standing': 723,\n",
              " 'river': 724,\n",
              " 'road': 725,\n",
              " 'pretend': 726,\n",
              " 'done': 727,\n",
              " 'bewitched': 728,\n",
              " 'longer': 729,\n",
              " 'full': 730,\n",
              " 'possessed': 731,\n",
              " 'keep': 732,\n",
              " 'accounts': 733,\n",
              " 'can': 734,\n",
              " 'misting': 735,\n",
              " 'eddy': 736,\n",
              " 'toppling': 737,\n",
              " 'passionate': 738,\n",
              " 'fit': 739,\n",
              " 'blotting': 740,\n",
              " 'utterly': 741,\n",
              " 'high': 742,\n",
              " 'dust': 743,\n",
              " 'feather': 744,\n",
              " 'name': 745,\n",
              " 'stark': 746,\n",
              " 'gathered': 747,\n",
              " 'bow': 748,\n",
              " 'tangle': 749,\n",
              " 'withered': 750,\n",
              " 'weeds': 751,\n",
              " 'dispose': 752,\n",
              " 'baby': 753,\n",
              " 'happier': 754,\n",
              " 'sweet': 755,\n",
              " 'thus': 756,\n",
              " 'pacified': 757,\n",
              " 'psyche': 758,\n",
              " 'kissed': 759,\n",
              " 'fulllength': 760,\n",
              " 'wasps': 761,\n",
              " 'went': 762,\n",
              " 'missing': 763,\n",
              " 'bullets': 764,\n",
              " 'against': 765,\n",
              " 'nailed': 766,\n",
              " 'birch': 767,\n",
              " 'hell': 768,\n",
              " 'sort': 769,\n",
              " 'swear': 770,\n",
              " 'awful': 771,\n",
              " 'ah': 772,\n",
              " 'front': 773,\n",
              " 'grafton': 774,\n",
              " 'county': 775,\n",
              " 'going': 776,\n",
              " 'resemble': 777,\n",
              " 'ours': 778,\n",
              " 'melancholy': 779,\n",
              " 'isnt': 780,\n",
              " 'lie': 781,\n",
              " 'heartstrings': 782,\n",
              " 'cheeks': 783,\n",
              " 'worm': 784,\n",
              " 'dies': 785,\n",
              " 'sold': 786,\n",
              " 'farm': 787,\n",
              " 'slippery': 788,\n",
              " 'rocks': 789,\n",
              " 'beside': 790,\n",
              " 'waterfall': 791,\n",
              " 'idled': 792,\n",
              " 'made': 793,\n",
              " 'master': 794,\n",
              " 'grange': 795,\n",
              " 'try': 796,\n",
              " 'length': 797,\n",
              " 'dear': 798,\n",
              " 'dian': 799,\n",
              " 'sank': 800,\n",
              " 'sight': 801,\n",
              " 'fervour': 802,\n",
              " 'leave': 803,\n",
              " 'mark': 804,\n",
              " 'boys': 805,\n",
              " 'hunters': 806,\n",
              " 'known': 807,\n",
              " 'lifts': 808,\n",
              " 'existence': 809,\n",
              " 'plane': 810,\n",
              " 'ye': 811,\n",
              " 'avengers': 812,\n",
              " 'libertys': 813,\n",
              " 'wrongs': 814,\n",
              " 'judged': 815,\n",
              " 'crystal': 816,\n",
              " 'chill': 817,\n",
              " 'softmurmured': 818,\n",
              " 'return': 819,\n",
              " 'lovelight': 820,\n",
              " 'wetelbowed': 821,\n",
              " 'wetkneed': 822,\n",
              " 'struck': 823,\n",
              " 'recognize': 824,\n",
              " 'even': 825,\n",
              " 'tempted': 826,\n",
              " 'gloom': 827,\n",
              " 'fate': 828,\n",
              " 'sorrow': 829,\n",
              " 'hard': 830,\n",
              " 'bottom': 831,\n",
              " 'someone': 832,\n",
              " 'saw': 833,\n",
              " 'family': 834,\n",
              " 'troubles': 835,\n",
              " 'discordant': 836,\n",
              " 'melody': 837,\n",
              " 'life': 838,\n",
              " 'start': 839,\n",
              " 'lately': 840,\n",
              " 'slept': 841,\n",
              " 'apathy': 842,\n",
              " 'fathers': 843,\n",
              " 'side': 844,\n",
              " 'trembled': 845,\n",
              " 'stirred': 846,\n",
              " 'braced': 847,\n",
              " 'arctic': 848,\n",
              " 'pole': 849,\n",
              " 'safely': 850,\n",
              " 'may': 851,\n",
              " 'trust': 852,\n",
              " 'gleaming': 853,\n",
              " 'matter': 854,\n",
              " 'miles': 855,\n",
              " 'dallied': 856,\n",
              " 'headed': 857,\n",
              " 'for—': 858,\n",
              " 'seraphic': 859,\n",
              " 'glancing': 860,\n",
              " 'signify': 861,\n",
              " 'donkeys': 862,\n",
              " 'cars': 863,\n",
              " 'bottle': 864,\n",
              " 'secret': 865,\n",
              " 'communing': 866,\n",
              " 'held': 867,\n",
              " 'west': 868,\n",
              " 'getting': 869,\n",
              " 'hers': 870,\n",
              " 'growing': 871,\n",
              " 'grown': 872,\n",
              " 'childrens': 873,\n",
              " 'i—': 874,\n",
              " 'seal': 875,\n",
              " 'yelp': 876,\n",
              " 'came': 877,\n",
              " 'despite': 878,\n",
              " 'lion': 879,\n",
              " 'god': 880,\n",
              " 'guess': 881,\n",
              " 'sell': 882,\n",
              " 'consideration': 883,\n",
              " 'hath': 884,\n",
              " 'palsied': 885,\n",
              " 'alias': 886,\n",
              " 'mean': 887,\n",
              " 'moon': 888,\n",
              " 'waiting': 889,\n",
              " 'effect': 890,\n",
              " 'news': 891,\n",
              " 'carry—if': 892,\n",
              " 'swift': 893,\n",
              " 'friends': 894,\n",
              " 'stand': 895,\n",
              " 'craters': 896,\n",
              " 'verge': 897,\n",
              " 'ready': 898,\n",
              " 'almost': 899,\n",
              " 'doesnt': 900,\n",
              " 'marry': 901,\n",
              " 'plumes': 902,\n",
              " 'till': 903,\n",
              " 'trailed': 904,\n",
              " 'sinners': 905,\n",
              " 'sacrifice': 906,\n",
              " 'uttered': 907,\n",
              " 'alone': 908,\n",
              " 'signals': 909,\n",
              " 'fifty': 910,\n",
              " 'dollars': 911,\n",
              " 'langshang': 912,\n",
              " 'sitting': 913,\n",
              " 'chose': 914,\n",
              " 'speak': 915,\n",
              " 'shes': 916,\n",
              " 'along': 917,\n",
              " 'stop': 918,\n",
              " 'shouting': 919,\n",
              " 'shoulders': 920,\n",
              " 'dragging': 921,\n",
              " 'strands': 922,\n",
              " 'listening': 923,\n",
              " 'arthur': 924,\n",
              " 'amy': 925,\n",
              " 'stars': 926,\n",
              " 'drawn': 927,\n",
              " 'forth': 928,\n",
              " 'vault': 929,\n",
              " 'ulalume': 930,\n",
              " 'undone': 931,\n",
              " 'particular': 932,\n",
              " 'oclock': 933,\n",
              " 'founts': 934,\n",
              " 'agony': 935,\n",
              " 'sobbed': 936,\n",
              " 'letting': 937,\n",
              " 'sink': 938,\n",
              " 'failed': 939,\n",
              " 'force': 940,\n",
              " 'strait': 941,\n",
              " 'cannot': 942,\n",
              " 'guide': 943,\n",
              " 'sills': 944,\n",
              " 'extended': 945,\n",
              " 'swish': 946,\n",
              " 'grass': 947,\n",
              " 'others': 948,\n",
              " 'whir': 949,\n",
              " 'sober': 950,\n",
              " 'seriously': 951,\n",
              " 'bearings': 952,\n",
              " 'theyre': 953,\n",
              " 'worth': 954,\n",
              " 'alas': 955,\n",
              " 'feel': 956,\n",
              " 'feeling': 957,\n",
              " 'text': 958,\n",
              " 'bidden': 959,\n",
              " 'ancestry': 960,\n",
              " 'yankees': 961,\n",
              " 'holding': 962,\n",
              " 'none': 963,\n",
              " 'unembodied': 964,\n",
              " 'essence': 965,\n",
              " 'sweetest': 966,\n",
              " 'voice': 967,\n",
              " 'gods': 968,\n",
              " 'creatures': 969,\n",
              " 'rejected': 970,\n",
              " 'carry': 971,\n",
              " 'girl': 972,\n",
              " 'halted': 973,\n",
              " 'likely': 974,\n",
              " 'regard': 975,\n",
              " 'storms': 976,\n",
              " 'meanwhile': 977,\n",
              " 'mustnt': 978,\n",
              " 'hurried': 979,\n",
              " 'bowed': 980,\n",
              " 'outward': 981,\n",
              " 'mountain': 982,\n",
              " 'really': 983,\n",
              " 'creaking': 984,\n",
              " 'sleep': 985,\n",
              " 'dream': 986,\n",
              " 'often': 987,\n",
              " 'forget': 988,\n",
              " 'lone': 989,\n",
              " 'fault': 990,\n",
              " 'husband': 991,\n",
              " 'tears': 992,\n",
              " 'acquainted': 993,\n",
              " 'explain': 994,\n",
              " 'gazing': 995,\n",
              " 'entranced': 996,\n",
              " 'adown': 997,\n",
              " 'gorgeous': 998,\n",
              " 'vista': 999,\n",
              " ...}"
            ]
          },
          "metadata": {},
          "execution_count": 133
        }
      ]
    },
    {
      "cell_type": "code",
      "metadata": {
        "id": "ZRkbRV4OruLh",
        "colab": {
          "base_uri": "https://localhost:8080/"
        },
        "outputId": "08fec76a-e3db-44f3-927e-ed2e891645e4"
      },
      "source": [
        "len(word2idx)"
      ],
      "execution_count": null,
      "outputs": [
        {
          "output_type": "execute_result",
          "data": {
            "text/plain": [
              "2510"
            ]
          },
          "metadata": {},
          "execution_count": 134
        }
      ]
    },
    {
      "cell_type": "code",
      "metadata": {
        "id": "Ef1uKOayv5ny"
      },
      "source": [
        "# convert data into integer format\n",
        "train_text_int = []\n",
        "test_text_int = []\n",
        "\n",
        "for text in train_text:\n",
        "  tokens = text.split()\n",
        "  line_as_int = [word2idx[token] for token in tokens]\n",
        "  train_text_int.append(line_as_int)\n",
        "\n",
        "for text in test_text:\n",
        "  tokens = text.split()\n",
        "  line_as_int = [word2idx.get(token, 0) for token in tokens]\n",
        "  test_text_int.append(line_as_int)"
      ],
      "execution_count": null,
      "outputs": []
    },
    {
      "cell_type": "code",
      "metadata": {
        "id": "LC2zbBbXwXv5",
        "colab": {
          "base_uri": "https://localhost:8080/"
        },
        "outputId": "3c13d81d-9b47-4a96-9303-39eb771ecd73"
      },
      "source": [
        "train_text_int[100:105]"
      ],
      "execution_count": null,
      "outputs": [
        {
          "output_type": "execute_result",
          "data": {
            "text/plain": [
              "[[42, 19, 386],\n",
              " [27, 57, 79, 66, 17, 300, 301, 42, 188],\n",
              " [123, 302, 303, 191, 304, 69, 305],\n",
              " [74, 32, 197, 26, 17, 387, 70, 74, 17, 105],\n",
              " [388, 389, 17, 390, 123, 276, 195, 391, 257]]"
            ]
          },
          "metadata": {},
          "execution_count": 136
        }
      ]
    },
    {
      "cell_type": "code",
      "metadata": {
        "id": "2o8pjSl7ryyI"
      },
      "source": [
        "# initialize A and pi matrices - for both classes\n",
        "V = len(word2idx)\n",
        "\n",
        "A0 = np.ones((V, V))\n",
        "pi0 = np.ones(V)\n",
        "\n",
        "A1 = np.ones((V, V))\n",
        "pi1 = np.ones(V)"
      ],
      "execution_count": null,
      "outputs": []
    },
    {
      "cell_type": "code",
      "metadata": {
        "id": "EIhTNBzKsBt7"
      },
      "source": [
        "# compute counts for A and pi\n",
        "def compute_counts(text_as_int, A, pi):\n",
        "  for tokens in text_as_int:\n",
        "    last_idx = None\n",
        "    for idx in tokens:\n",
        "      if last_idx is None:\n",
        "        # it's the first word in a sentence\n",
        "        pi[idx] += 1\n",
        "      else:\n",
        "        # the last word exists, so count a transition\n",
        "        A[last_idx, idx] += 1\n",
        "\n",
        "      # update last idx\n",
        "      last_idx = idx\n",
        "\n",
        "\n",
        "compute_counts([t for t, y in zip(train_text_int, Ytrain) if y == 0], A0, pi0)\n",
        "compute_counts([t for t, y in zip(train_text_int, Ytrain) if y == 1], A1, pi1)"
      ],
      "execution_count": null,
      "outputs": []
    },
    {
      "cell_type": "code",
      "metadata": {
        "id": "zEvLh5nVsb-Z"
      },
      "source": [
        "# normalize A and pi so they are valid probability matrices\n",
        "# convince yourself that this is equivalent to the formulas shown before\n",
        "A0 /= A0.sum(axis=1, keepdims=True)\n",
        "pi0 /= pi0.sum()\n",
        "\n",
        "A1 /= A1.sum(axis=1, keepdims=True)\n",
        "pi1 /= pi1.sum()"
      ],
      "execution_count": null,
      "outputs": []
    },
    {
      "cell_type": "code",
      "metadata": {
        "id": "xLjNJe2U3x-B"
      },
      "source": [
        "# log A and pi since we don't need the actual probs\n",
        "logA0 = np.log(A0)\n",
        "logpi0 = np.log(pi0)\n",
        "\n",
        "logA1 = np.log(A1)\n",
        "logpi1 = np.log(pi1)"
      ],
      "execution_count": null,
      "outputs": []
    },
    {
      "cell_type": "code",
      "metadata": {
        "id": "LdP_NGkE6Q1W",
        "colab": {
          "base_uri": "https://localhost:8080/"
        },
        "outputId": "5952d0d3-589e-4ad1-e533-2e5595ac30c1"
      },
      "source": [
        "# compute priors\n",
        "count0 = sum(y == 0 for y in Ytrain)\n",
        "count1 = sum(y == 1 for y in Ytrain)\n",
        "total = len(Ytrain)\n",
        "p0 = count0 / total\n",
        "p1 = count1 / total\n",
        "logp0 = np.log(p0)\n",
        "logp1 = np.log(p1)\n",
        "p0, p1"
      ],
      "execution_count": null,
      "outputs": [
        {
          "output_type": "execute_result",
          "data": {
            "text/plain": [
              "(0.3269349845201238, 0.6730650154798762)"
            ]
          },
          "metadata": {},
          "execution_count": 141
        }
      ]
    },
    {
      "cell_type": "code",
      "metadata": {
        "id": "H9XQ8pm3xENE"
      },
      "source": [
        "# build a classifier\n",
        "class Classifier:\n",
        "  def __init__(self, logAs, logpis, logpriors):\n",
        "    self.logAs = logAs\n",
        "    self.logpis = logpis\n",
        "    self.logpriors = logpriors\n",
        "    self.K = len(logpriors) # number of classes\n",
        "\n",
        "  def _compute_log_likelihood(self, input_, class_):\n",
        "    logA = self.logAs[class_]\n",
        "    logpi = self.logpis[class_]\n",
        "\n",
        "    last_idx = None\n",
        "    logprob = 0\n",
        "    for idx in input_:\n",
        "      if last_idx is None:\n",
        "        # it's the first token\n",
        "        logprob += logpi[idx]\n",
        "      else:\n",
        "        logprob += logA[last_idx, idx]\n",
        "\n",
        "      # update last_idx\n",
        "      last_idx = idx\n",
        "\n",
        "    return logprob\n",
        "\n",
        "  def predict(self, inputs):\n",
        "    predictions = np.zeros(len(inputs))\n",
        "    for i, input_ in enumerate(inputs):\n",
        "      posteriors = [self._compute_log_likelihood(input_, c) + self.logpriors[c] \\\n",
        "             for c in range(self.K)]\n",
        "      pred = np.argmax(posteriors)\n",
        "      predictions[i] = pred\n",
        "    return predictions"
      ],
      "execution_count": null,
      "outputs": []
    },
    {
      "cell_type": "code",
      "metadata": {
        "id": "36DmGT3966Ht"
      },
      "source": [
        "# each array must be in order since classes are assumed to index these lists\n",
        "clf = Classifier([logA0, logA1], [logpi0, logpi1], [logp0, logp1])"
      ],
      "execution_count": null,
      "outputs": []
    },
    {
      "cell_type": "code",
      "metadata": {
        "id": "qX6w3yme7BH3",
        "colab": {
          "base_uri": "https://localhost:8080/"
        },
        "outputId": "f707e4c9-9062-46ee-a0d5-226f3c6881d8"
      },
      "source": [
        "Ptrain = clf.predict(train_text_int)\n",
        "print(f\"Train acc: {np.mean(Ptrain == Ytrain)}\")"
      ],
      "execution_count": null,
      "outputs": [
        {
          "output_type": "stream",
          "name": "stdout",
          "text": [
            "Train acc: 0.9944272445820433\n"
          ]
        }
      ]
    },
    {
      "cell_type": "code",
      "metadata": {
        "id": "FTIUSFuV7Eqp",
        "colab": {
          "base_uri": "https://localhost:8080/"
        },
        "outputId": "a2faa464-c265-4922-c71e-e6a59827ab1a"
      },
      "source": [
        "Ptest = clf.predict(test_text_int)\n",
        "print(f\"Test acc: {np.mean(Ptest == Ytest)}\")"
      ],
      "execution_count": null,
      "outputs": [
        {
          "output_type": "stream",
          "name": "stdout",
          "text": [
            "Test acc: 0.8237476808905381\n"
          ]
        }
      ]
    },
    {
      "cell_type": "code",
      "metadata": {
        "id": "ir6oo26a7Qvx"
      },
      "source": [
        "from sklearn.metrics import confusion_matrix, f1_score\n",
        "\n",
        "# read about F-score: https://en.wikipedia.org/wiki/F-score"
      ],
      "execution_count": null,
      "outputs": []
    },
    {
      "cell_type": "code",
      "metadata": {
        "id": "K8B5hKOi75fJ",
        "colab": {
          "base_uri": "https://localhost:8080/"
        },
        "outputId": "6de46016-3b0f-4228-c346-416fd579e78c"
      },
      "source": [
        "cm = confusion_matrix(Ytrain, Ptrain)\n",
        "cm"
      ],
      "execution_count": null,
      "outputs": [
        {
          "output_type": "execute_result",
          "data": {
            "text/plain": [
              "array([[ 519,    9],\n",
              "       [   0, 1087]])"
            ]
          },
          "metadata": {},
          "execution_count": 147
        }
      ]
    },
    {
      "cell_type": "code",
      "metadata": {
        "id": "9t6uSpiq79Q5",
        "colab": {
          "base_uri": "https://localhost:8080/"
        },
        "outputId": "f75bbcb2-55b5-4616-844d-3c5612d9e20a"
      },
      "source": [
        "cm_test = confusion_matrix(Ytest, Ptest)\n",
        "cm_test"
      ],
      "execution_count": null,
      "outputs": [
        {
          "output_type": "execute_result",
          "data": {
            "text/plain": [
              "array([[104,  86],\n",
              "       [  9, 340]])"
            ]
          },
          "metadata": {},
          "execution_count": 148
        }
      ]
    },
    {
      "cell_type": "code",
      "metadata": {
        "id": "MICfOOlm8AIa",
        "colab": {
          "base_uri": "https://localhost:8080/"
        },
        "outputId": "574c5965-5201-4740-ee82-cdc04e709c6b"
      },
      "source": [
        "f1_score(Ytrain, Ptrain)"
      ],
      "execution_count": null,
      "outputs": [
        {
          "output_type": "execute_result",
          "data": {
            "text/plain": [
              "0.9958772331653688"
            ]
          },
          "metadata": {},
          "execution_count": 149
        }
      ]
    },
    {
      "cell_type": "code",
      "metadata": {
        "id": "y3IrWD2z8nkR",
        "colab": {
          "base_uri": "https://localhost:8080/"
        },
        "outputId": "14337e32-941d-4e8b-fb95-0f9ec7bd385f"
      },
      "source": [
        "f1_score(Ytest, Ptest)"
      ],
      "execution_count": null,
      "outputs": [
        {
          "output_type": "execute_result",
          "data": {
            "text/plain": [
              "0.8774193548387097"
            ]
          },
          "metadata": {},
          "execution_count": 150
        }
      ]
    }
  ]
}