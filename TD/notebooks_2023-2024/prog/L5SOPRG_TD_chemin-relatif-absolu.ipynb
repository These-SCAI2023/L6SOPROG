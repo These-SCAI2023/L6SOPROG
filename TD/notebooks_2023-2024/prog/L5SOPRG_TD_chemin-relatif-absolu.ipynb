{
 "cells": [
  {
   "cell_type": "markdown",
   "id": "e1058c4f",
   "metadata": {},
   "source": [
    "## Chemins relatif ou absolu\n",
    "\n"
   ]
  },
  {
   "cell_type": "code",
   "execution_count": 1,
   "id": "57a752a7",
   "metadata": {},
   "outputs": [
    {
     "name": "stdout",
     "output_type": "stream",
     "text": [
      "Chemin absolu :  /home/obtic2023/Documents/SORBONNE_2023-24/LSOPRG/TD_S5/data/13846-0.txt \n",
      "\n",
      " ﻿The Project Gutenberg EBook of Discours de la méthode, by René Descartes\n",
      "\n",
      "This eBook is for the use of anyone anywhere at no cost and with\n",
      "almost no \n",
      "\n",
      "\n",
      "\n",
      "Chemin relatif :  ../data/13846-0.txt \n",
      "\n",
      " ﻿The Project Gutenberg EBook of Discours de la méthode, by René Descartes\n",
      "\n",
      "This eBook is for the use of anyone anywhere at no cost and with\n",
      "almost no \n"
     ]
    }
   ],
   "source": [
    "#chemin absolu : c'est le chemin qui part de la racine de votre machine pour mener au fichier sur lequel vous souhaitez intervenir.\n",
    "#Le chemin absolu est propre à votre machine. Si vous utiliser un chemin absolu dans votre programme, un collègue ne pourra pas procéder à l'éxécution de l'ouverture du fichier sur sa propre machine.\n",
    "chemin =\"/home/obtic2023/Documents/SORBONNE_2023-24/LSOPRG/TD_S5/data/13846-0.txt\"\n",
    "fichier = open(chemin, \"r\")\n",
    "chaine=fichier.read()\n",
    "print(\"Chemin absolu : \",chemin,\"\\n\\n\",chaine[:150])\n",
    "\n",
    "print(\"\\n\\n\")\n",
    "\n",
    "#chemin relatif : La cible va être cherchée à partir du fichier exécuté.\n",
    "chemin =\"../data/13846-0.txt\"\n",
    "with open(chemin, \"r\", encoding=\"UTF-8\") as fichier:\n",
    "    chaine=fichier.read()\n",
    "print(\"Chemin relatif : \",chemin,\"\\n\\n\",chaine[:150])"
   ]
  },
  {
   "cell_type": "code",
   "execution_count": null,
   "id": "f0c11612",
   "metadata": {},
   "outputs": [],
   "source": []
  }
 ],
 "metadata": {
  "kernelspec": {
   "display_name": "Python 3 (ipykernel)",
   "language": "python",
   "name": "python3"
  },
  "language_info": {
   "codemirror_mode": {
    "name": "ipython",
    "version": 3
   },
   "file_extension": ".py",
   "mimetype": "text/x-python",
   "name": "python",
   "nbconvert_exporter": "python",
   "pygments_lexer": "ipython3",
   "version": "3.9.7"
  }
 },
 "nbformat": 4,
 "nbformat_minor": 5
}
