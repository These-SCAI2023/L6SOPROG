{
 "cells": [
  {
   "cell_type": "markdown",
   "id": "625bfb87",
   "metadata": {},
   "source": [
    "## Erreur avec l'extension de nom de fichier (.txt, .html, etc.)"
   ]
  },
  {
   "cell_type": "code",
   "execution_count": 1,
   "id": "972c6951",
   "metadata": {},
   "outputs": [
    {
     "name": "stdout",
     "output_type": "stream",
     "text": [
      "Chemin relatif :  ../data/Discours.txt.txt \n",
      "\n",
      " ﻿The Project Gutenberg eBook of Ulysses, by James Joyce\n",
      "\n",
      "This eBook is for the use of anyone anywhere in the United States and\n",
      "most other parts of the\n"
     ]
    }
   ],
   "source": [
    "#Vous souhaitez lire un fichier qui se nomme Discours.txt, ATTENTION à la manière dont il est nommé sur votre machine et aux extension de fichier : .txt ce n'est pas la même chose que .csv ou .html\n",
    "chemin =\"../data/Discours.txt\"# la cellule renvoie une erreure. Observer le nom du fichier dans l'explorateur de fichier. clique droit sur le fichier, proprité ...\n",
    "#procéder à la correction le cas échéant.\n",
    "with open(chemin, \"r\", encoding=\"UTF-8\") as fichier:\n",
    "    chaine=fichier.read()\n",
    "print(\"Chemin relatif : \",chemin,\"\\n\\n\",chaine[:150])"
   ]
  },
  {
   "cell_type": "code",
   "execution_count": null,
   "id": "15e12395",
   "metadata": {},
   "outputs": [],
   "source": []
  }
 ],
 "metadata": {
  "kernelspec": {
   "display_name": "Python 3 (ipykernel)",
   "language": "python",
   "name": "python3"
  },
  "language_info": {
   "codemirror_mode": {
    "name": "ipython",
    "version": 3
   },
   "file_extension": ".py",
   "mimetype": "text/x-python",
   "name": "python",
   "nbconvert_exporter": "python",
   "pygments_lexer": "ipython3",
   "version": "3.9.7"
  }
 },
 "nbformat": 4,
 "nbformat_minor": 5
}
