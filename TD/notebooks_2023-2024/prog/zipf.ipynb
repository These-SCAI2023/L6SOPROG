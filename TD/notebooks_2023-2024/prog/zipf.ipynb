{
 "cells": [
  {
   "cell_type": "markdown",
   "metadata": {},
   "source": [
    "<img width=\"150\" src=\"http://lettres.sorbonne-universite.fr/sites/default/files/media/2019-10/sorbonne-lettre_1.svg\"/>\n",
    "<h1> Loi de Zipf - Analyse de Brown Corpus </h1>\n",
    "<h2>UFR de sociologie et d'informatique pour les sciences humaines</h2>\n",
    "<h3>Programmation de Modèles Linguistiques (I)</h3> \n",
    "\n",
    "<h4>Carlos González et Gaël Lejeune</h4>\n",
    "\n",
    "    "
   ]
  },
  {
   "cell_type": "markdown",
   "metadata": {},
   "source": [
    "<h3><font color = 'red'>Installation de nltk si ce n'est pas déjà le cas</font></h3>\n",
    "\n",
    "https://www.nltk.org/install.html"
   ]
  },
  {
   "cell_type": "code",
   "execution_count": null,
   "metadata": {},
   "outputs": [],
   "source": [
    "! pip install nltk --user"
   ]
  },
  {
   "cell_type": "markdown",
   "metadata": {},
   "source": [
    "<h3><font color = 'blue'>Chargement de bibliothèques</font></h3>"
   ]
  },
  {
   "cell_type": "code",
   "execution_count": 10,
   "metadata": {},
   "outputs": [],
   "source": [
    "from nltk.corpus import brown#erreur le 12/10/2023 suggère les deux lignes suivantes \n",
    "#import nltk #suggestion\n",
    "#nltk.download('brown')#suggestion\n",
    "from functools import reduce\n",
    "import matplotlib.pyplot as pyplot\n",
    "import re"
   ]
  },
  {
   "cell_type": "markdown",
   "metadata": {},
   "source": [
    "<h3><font color = 'blue'>Définition des fonctions</font></h3>"
   ]
  },
  {
   "cell_type": "code",
   "execution_count": 11,
   "metadata": {},
   "outputs": [],
   "source": [
    "def load_brown_corpus():\n",
    "    p = re.compile('\\W')    \n",
    "    texte = [token.lower() for token in brown.words()]\n",
    "    texte = [token for token in texte if not p.match(token)]\n",
    "\n",
    "    return texte\n",
    "    \n",
    "    \n",
    "def texte_to_dict(texte):\n",
    "    texte_dict = {}\n",
    "    \n",
    "    for token in texte:\n",
    "        if token in texte_dict:\n",
    "            texte_dict[token] += 1\n",
    "        else:\n",
    "            texte_dict[token] = 1\n",
    "\n",
    "    return texte_dict\n",
    "\n",
    "\n",
    "def dict_to_list(texte_dict):\n",
    "    texte_list=[]\n",
    "\n",
    "    for mot in texte_dict.keys():\n",
    "        texte_list.append([texte_dict[mot], mot])    \n",
    "\n",
    "    texte_list.sort(reverse=True)\n",
    "    return texte_list\n",
    "\n",
    "\n",
    "def afficher_n(texte_list, n):\n",
    "    \n",
    "    cumul = 0\n",
    "    print(\"rang\\tmot\\tfrequence\\tfrequence(Zipf)\")    \n",
    "    print(\"-\"*50)\n",
    "    for _ in range(n):\n",
    "        cumul += texte_list[_][0]\n",
    "        print(\"{}\\t{}\\t{}\\t\\t{:.0f}\".format(_+1, texte_list[_][1], texte_list[_][0], texte_list[0][0]/(_+1)))\n",
    "    \n",
    "    total = reduce(lambda x, y: x+y, [_[0] for _ in texte_list])\n",
    "    prop = cumul/total*100\n",
    "    \n",
    "    print(\"-\"*50)\n",
    "    print(\"Ces {} mots représentent le {:0.2f}% du corpus\".format(n, prop))\n",
    "\n",
    "    \n",
    "def plot_zipf(texte_list, log=False):\n",
    "    pyplot.rcParams['figure.figsize'] = [15, 10]\n",
    "\n",
    "    y = [_[0] for _ in texte_list]\n",
    "\n",
    "    y_ = []\n",
    "    for _ in range(len(texte_list)):\n",
    "        y_.append(int(texte_list[0][0]/(_+1)))    \n",
    "\n",
    "    pyplot.plot(y, \"-\", label=\"Réelle\")\n",
    "    pyplot.plot(y_, \"--\", label=\"Approximation (Zipf)\") \n",
    "    \n",
    "    if log:\n",
    "        pyplot.yscale(\"log\")\n",
    "        pyplot.xscale(\"log\")     \n",
    "      \n",
    "    pyplot.legend()\n",
    "    pyplot.title(\"Loi de Zipf (Brown Corpus)\")\n",
    "    pyplot.xlabel(\"Rang\")\n",
    "    pyplot.ylabel(\"Fréquence\")\n",
    "    pyplot.show()    \n",
    "        "
   ]
  },
  {
   "cell_type": "markdown",
   "metadata": {},
   "source": [
    "<h3><font color = 'blue'>Analyse du corpus</font></h3>"
   ]
  },
  {
   "cell_type": "code",
   "execution_count": 12,
   "metadata": {},
   "outputs": [
    {
     "name": "stdout",
     "output_type": "stream",
     "text": [
      "Quantité des mots (tokens) : 1012528\n",
      "Quantité des mots differentes (types) : 49398\n"
     ]
    }
   ],
   "source": [
    "texte = load_brown_corpus()\n",
    "print(\"Quantité des mots (tokens) :\", len(texte))\n",
    "print(\"Quantité des mots differentes (types) :\", len(set(texte)))"
   ]
  },
  {
   "cell_type": "code",
   "execution_count": 13,
   "metadata": {},
   "outputs": [
    {
     "name": "stdout",
     "output_type": "stream",
     "text": [
      "['the', 'fulton', 'county', 'grand', 'jury', 'said', 'friday', 'an', 'investigation', 'of', \"atlanta's\", 'recent', 'primary', 'election', 'produced', 'no', 'evidence', 'that', 'any', 'irregularities', 'took', 'place', 'the', 'jury', 'further', 'said', 'in', 'term-end', 'presentments', 'that', 'the', 'city', 'executive', 'committee', 'which', 'had', 'over-all', 'charge', 'of', 'the', 'election', 'deserves', 'the', 'praise', 'and', 'thanks', 'of', 'the', 'city', 'of']\n"
     ]
    }
   ],
   "source": [
    "print(texte[:50])"
   ]
  },
  {
   "cell_type": "code",
   "execution_count": 14,
   "metadata": {},
   "outputs": [],
   "source": [
    "texte_dict = texte_to_dict(texte)"
   ]
  },
  {
   "cell_type": "code",
   "execution_count": 15,
   "metadata": {},
   "outputs": [
    {
     "name": "stdout",
     "output_type": "stream",
     "text": [
      "mot\tfrequence\n",
      "the\t69971\n",
      "of\t36412\n",
      "and\t28853\n",
      "i\t5164\n"
     ]
    }
   ],
   "source": [
    "mots = [\"the\", \"of\", \"and\", \"i\"]\n",
    "print(\"mot\\tfrequence\")\n",
    "for mot in mots:\n",
    "    print(\"{}\\t{}\".format(mot, texte_dict[mot]))"
   ]
  },
  {
   "cell_type": "code",
   "execution_count": 13,
   "metadata": {},
   "outputs": [],
   "source": [
    "texte_list = dict_to_list(texte_dict)"
   ]
  },
  {
   "cell_type": "code",
   "execution_count": 14,
   "metadata": {},
   "outputs": [
    {
     "name": "stdout",
     "output_type": "stream",
     "text": [
      "rang\tmot\tfrequence\tfrequence(Zipf)\n",
      "--------------------------------------------------\n",
      "1\tthe\t69971\t\t69971\n",
      "2\tof\t36412\t\t34986\n",
      "3\tand\t28853\t\t23324\n",
      "4\tto\t26158\t\t17493\n",
      "5\ta\t23195\t\t13994\n",
      "6\tin\t21337\t\t11662\n",
      "7\tthat\t10594\t\t9996\n",
      "8\tis\t10109\t\t8746\n",
      "9\twas\t9815\t\t7775\n",
      "10\the\t9548\t\t6997\n",
      "11\tfor\t9489\t\t6361\n",
      "12\tit\t8760\t\t5831\n",
      "13\twith\t7289\t\t5382\n",
      "14\tas\t7253\t\t4998\n",
      "15\this\t6996\t\t4665\n",
      "--------------------------------------------------\n",
      "Ces 15 mots représentent le 28.22% du corpus\n"
     ]
    }
   ],
   "source": [
    "afficher_n(texte_list, 15)"
   ]
  },
  {
   "cell_type": "markdown",
   "metadata": {},
   "source": [
    "## Compléter la cellule suivante pour afficher la courbe Zipf, et commenté les résultats"
   ]
  },
  {
   "cell_type": "code",
   "execution_count": 20,
   "metadata": {},
   "outputs": [
    {
     "data": {
      "image/png": "[encoded data removed]",
      "text/plain": [
       "<Figure size 1500x1000 with 1 Axes>"
      ]
     },
     "metadata": {},
     "output_type": "display_data"
    }
   ],
   "source": [
    "plot_zipf(texte_list[:], log=False)"
   ]
  },
  {
   "cell_type": "code",
   "execution_count": null,
   "metadata": {},
   "outputs": [],
   "source": []
  }
 ],
 "metadata": {
  "kernelspec": {
   "display_name": "Python 3 (ipykernel)",
   "language": "python",
   "name": "python3"
  },
  "language_info": {
   "codemirror_mode": {
    "name": "ipython",
    "version": 3
   },
   "file_extension": ".py",
   "mimetype": "text/x-python",
   "name": "python",
   "nbconvert_exporter": "python",
   "pygments_lexer": "ipython3",
   "version": "3.9.7"
  }
 },
 "nbformat": 4,
 "nbformat_minor": 4
}
