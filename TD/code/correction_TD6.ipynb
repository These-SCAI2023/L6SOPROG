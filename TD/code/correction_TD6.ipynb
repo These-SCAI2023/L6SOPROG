{
 "cells": [
  {
   "cell_type": "code",
   "execution_count": null,
   "metadata": {
    "lines_to_next_cell": 1
   },
   "outputs": [],
   "source": [
    "import math\n",
    "docA=[\"Le\",\"petit\",\"chat\",\"dort\"]\n",
    "docB=[\"Le\",\"chat\",\"dort\"]\n",
    "docC=[\"Jean\",\"dort\"]\n",
    "#base de données: un dictionaire de nom de documents vers liste de mots\n",
    "doc2mots={\"documentA\":docA,\n",
    "          \"documentB\":docB,\n",
    "          \"documentC\":docC}"
   ]
  },
  {
   "cell_type": "code",
   "execution_count": null,
   "metadata": {
    "lines_to_next_cell": 1
   },
   "outputs": [],
   "source": [
    "def createVocabFromDocs(doc2mots):\n",
    "    \"\"\"\n",
    "    à partir d'un dictionaire de l'identifiant du document vers une liste de mots, générer un vocabulaire (un ensemble de mots non répétitifs) \n",
    "    \"\"\"\n",
    "    vocabulaire = [] \n",
    "    for doc in doc2mots:\n",
    "        for mot in doc2mots[doc]:\n",
    "            vocabulaire.append(mot)\n",
    "    return set(vocabulaire)"
   ]
  },
  {
   "cell_type": "code",
   "execution_count": null,
   "metadata": {
    "lines_to_next_cell": 1
   },
   "outputs": [],
   "source": [
    "def createIndexFromDocsAndVocab(vocab, doc2mots):\n",
    "    myIndex={} #dictionaire {mot:liste de documents qui contiennent ce mot}\n",
    "    for m in vocab:\n",
    "        if not m in myIndex:\n",
    "            myIndex[m]=[]\n",
    "        for d in doc2mots:\n",
    "            if m in doc2mots[d]:\n",
    "                myIndex[m].append(d)            \n",
    "    return myIndex"
   ]
  },
  {
   "cell_type": "code",
   "execution_count": null,
   "metadata": {
    "lines_to_next_cell": 1
   },
   "outputs": [],
   "source": [
    "def moteurSimple(monIndex,req):\n",
    "    #demander la requête à l'utilisateur\n",
    "    if len(req)==1:\n",
    "        if req in monIndex:\n",
    "            print(monIndex[req])\n",
    "        else: \n",
    "            print(\"Il n'y a pas de document qui contient votre requête\")\n",
    "    else: #si la requête contient plusieurs mots\n",
    "        req2docListe = {}  #résultat partiel/intermédiaire\n",
    "        for r in req2: \n",
    "            if not r in monIndex:\n",
    "                print(\"Il n'y a pas de document qui contient le mot\",r)\n",
    "            else: \n",
    "                req2docListe[r]=monIndex[r]\n",
    "    #obtenir une intersection du résultat partiel\n",
    "    docsListeInter = req2docListe.values()\n",
    "    res = set(docsListeInter[0])\n",
    "    for r in docsListeInter:\n",
    "        res.intersection_update(set(r))\n",
    "    if len(res)==0: \n",
    "        return req2docListe #retourner un résultat partiel\n",
    "    else : \n",
    "        return res"
   ]
  },
  {
   "cell_type": "code",
   "execution_count": null,
   "metadata": {
    "lines_to_next_cell": 1
   },
   "outputs": [],
   "source": [
    "def calculateIdfFromIndex(myIndex):\n",
    "    mot2idf={}\n",
    "    for m in myIndex:\n",
    "        mot2idf[m]=math.log10(len(doc2mots)/len(myIndex[m]))\n",
    "    return mot2idf"
   ]
  },
  {
   "cell_type": "code",
   "execution_count": null,
   "metadata": {
    "lines_to_next_cell": 1
   },
   "outputs": [],
   "source": [
    "def getMot2TFfor1doc(document): #document: 1 liste des mots\n",
    "    wordCount={}\n",
    "    totalWords=0\n",
    "    for mot in document:\n",
    "        if not mot in wordCount:\n",
    "            wordCount[mot]=0\n",
    "        wordCount[mot]+=1\n",
    "        totalWords+=1\n",
    "    for m in wordCount:\n",
    "        wordCount[m]=wordCount[m]/totalWords #word2TF: Term frequency\n",
    "    return wordCount "
   ]
  },
  {
   "cell_type": "code",
   "execution_count": null,
   "metadata": {
    "lines_to_next_cell": 1
   },
   "outputs": [],
   "source": [
    "def getDocPresFromTFnIDF(mot2tfDoc,mot2idf):\n",
    "    mot2tfidf = {}\n",
    "    for m in mot2tfDoc:\n",
    "        mot2tfidf[m]=mot2tfDoc[m]*mot2idf[m]\n",
    "    return mot2tfidf"
   ]
  },
  {
   "cell_type": "code",
   "execution_count": null,
   "metadata": {},
   "outputs": [],
   "source": [
    "def getLengthVector(mot2valeur):\n",
    "    #fonction qui calcule la longeur d'un vecteur:\n",
    "    #math.sqrt(v0**2+v1**2+...)\n",
    "    somme = 0\n",
    "    for m in mot2valeur: \n",
    "        somme += mot2valeur[m]**2\n",
    "    return math.sqrt(somme)"
   ]
  },
  {
   "cell_type": "code",
   "execution_count": null,
   "metadata": {
    "lines_to_next_cell": 1
   },
   "outputs": [],
   "source": [
    "def simCos(mot2tfIdfReq, mot2tfIdfDoc):\n",
    "    somme=0\n",
    "    for m in mot2tfIdfReq :\n",
    "        somme += mot2tfIdfReq[m] * mot2tfIdfDoc.get(m,0)\n",
    "    print(\"longueurChat\",getLengthVector(mot2tfIdfReq))\n",
    "    print(\"longueurA\",getLengthVector(mot2tfIdfDoc))\n",
    "    return somme/(getLengthVector(mot2tfIdfReq)*getLengthVector(mot2tfIdfDoc))"
   ]
  },
  {
   "cell_type": "code",
   "execution_count": null,
   "metadata": {},
   "outputs": [],
   "source": [
    "if __name__==\"__main__\": #quand ce script est exécuté comme programme principal\n",
    "    vocabulaire = createVocabFromDocs(doc2mots)\n",
    "    print (\"vocabulaire\", vocabulaire)\n",
    "    myIndex = createIndexFromDocsAndVocab(vocabulaire, doc2mots)\n",
    "    print (\"myIndex\", myIndex)\n",
    "    mot2idf= calculateIdfFromIndex(myIndex)\n",
    "    req = {'chat':mot2idf[\"chat\"]}\n",
    "    mot2tfDocA= getMot2TFfor1doc(docA)\n",
    "    print(vocabulaire)\n",
    "    print(myIndex)\n",
    "    print(mot2idf)\n",
    "    print(\"mot2tfDocA\",mot2tfDocA)\n",
    "\n",
    "    mot2tfIdfDocA=getDocPresFromTFnIDF(mot2tfDocA,mot2idf)\n",
    "    print( getLengthVector(mot2tfIdfDocA))\n",
    "\n",
    "    mot2tfDocB = getMot2TFfor1doc(docB)\n",
    "    mot2tfIdfDocB=getDocPresFromTFnIDF(mot2tfDocB,mot2idf)\n",
    "    mot2tfDocC = getMot2TFfor1doc(docC)\n",
    "    mot2tfIdfDocC=getDocPresFromTFnIDF(mot2tfDocC,mot2idf)\n",
    "\n",
    "    print(simCos(req,mot2tfIdfDocA))\n",
    "    print(simCos(req,mot2tfIdfDocB))\n",
    "    print(simCos(req,mot2tfIdfDocC))"
   ]
  },
  {
   "cell_type": "code",
   "execution_count": null,
   "metadata": {},
   "outputs": [],
   "source": []
  }
 ],
 "metadata": {
  "jupytext": {
   "cell_metadata_filter": "-all",
   "encoding": "# -*- coding: utf-8 -*-",
   "notebook_metadata_filter": "-all",
   "text_representation": {
    "extension": ".py",
    "format_name": "light"
   }
  },
  "kernelspec": {
   "display_name": "Python 3",
   "language": "python",
   "name": "python3"
  },
  "language_info": {
   "codemirror_mode": {
    "name": "ipython",
    "version": 3
   },
   "file_extension": ".py",
   "mimetype": "text/x-python",
   "name": "python",
   "nbconvert_exporter": "python",
   "pygments_lexer": "ipython3",
   "version": "3.7.5"
  }
 },
 "nbformat": 4,
 "nbformat_minor": 2
}
