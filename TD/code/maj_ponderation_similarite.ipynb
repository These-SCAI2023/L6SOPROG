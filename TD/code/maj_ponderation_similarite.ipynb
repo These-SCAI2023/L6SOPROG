{
 "cells": [
  {
   "cell_type": "markdown",
   "metadata": {},
   "source": [
    "<img width=\"150\" src=\"http://lettres.sorbonne-universite.fr/sites/default/files/media/2019-10/sorbonne-lettre_1.svg\"/>\n",
    "\n",
    "\n",
    "# Similarité et Pondération : la vectorisation\n",
    "## UFR de sociologie et d'informatique pour les sciences humaines\n",
    "### Programmation de Modèles Linguistiques (I)\n",
    "\n",
    "#### Gaël Lejeune et Caroline Koudoro-Parfait\n",
    "\n",
    "---"
   ]
  },
  {
   "cell_type": "code",
   "execution_count": null,
   "metadata": {},
   "outputs": [],
   "source": [
    "#Si scikit-learn n'est pas installé exécuter la ligne suivante :\n",
    "#!python -m pip install scikit-learn --user"
   ]
  },
  {
   "cell_type": "code",
   "execution_count": 5,
   "metadata": {},
   "outputs": [],
   "source": [
    "##Les chaines de caractères utilisées pour l'anglais\n",
    "corpus = [\n",
    "     'This is the first document.',\n",
    "     'This document is the second document.',\n",
    "     'And this is the third one.',\n",
    " ]"
   ]
  },
  {
   "cell_type": "markdown",
   "metadata": {},
   "source": [
    "## Utiliser CountVectorizer() pour vectoriser les chaines de caractères"
   ]
  },
  {
   "cell_type": "code",
   "execution_count": 6,
   "metadata": {},
   "outputs": [
    {
     "name": "stdout",
     "output_type": "stream",
     "text": [
      "[[0 1 1 1 0 0 1 0 1]\n",
      " [0 2 0 1 0 1 1 0 1]\n",
      " [1 0 0 1 1 0 1 1 1]]\n"
     ]
    }
   ],
   "source": [
    "from sklearn.feature_extraction.text import CountVectorizer\n",
    "vectorizer = CountVectorizer()\n",
    "X = vectorizer.fit_transform(corpus)\n",
    "\n",
    "print(X.toarray())"
   ]
  },
  {
   "cell_type": "markdown",
   "metadata": {},
   "source": [
    "## Utiliser TfidfVectorizer() pour vectoriser les chaines de caractères"
   ]
  },
  {
   "cell_type": "code",
   "execution_count": 3,
   "metadata": {},
   "outputs": [
    {
     "name": "stdout",
     "output_type": "stream",
     "text": [
      "[[0 1 1 1 0 0 1 0 1]\n",
      " [0 2 0 1 0 1 1 0 1]\n",
      " [1 0 0 1 1 0 1 1 1]]\n",
      "[0.         0.46941728 0.61722732 0.3645444  0.         0.\n",
      " 0.3645444  0.         0.3645444 ]\n",
      "[0.         0.7284449  0.         0.28285122 0.         0.47890875\n",
      " 0.28285122 0.         0.28285122]\n",
      "[0.49711994 0.         0.         0.29360705 0.49711994 0.\n",
      " 0.29360705 0.49711994 0.29360705]\n"
     ]
    }
   ],
   "source": [
    "from sklearn.feature_extraction.text import TfidfVectorizer\n",
    "\n",
    "vectorizer = TfidfVectorizer()\n",
    "X = vectorizer.fit_transform(corpus)\n",
    "for ligne in X.toarray():\n",
    "    print(ligne)\n"
   ]
  },
  {
   "cell_type": "code",
   "execution_count": 8,
   "metadata": {},
   "outputs": [],
   "source": [
    "##Les chaines de caractères utilisées pour le français\n",
    "corpus_fr = [\n",
    "     'Je suis un lapin un',\n",
    "     'Je tu il il un suis',\n",
    "     'Encore un lapin. lapin ?',\n",
    "    'un lapin'\n",
    " ]"
   ]
  },
  {
   "cell_type": "code",
   "execution_count": 9,
   "metadata": {},
   "outputs": [
    {
     "name": "stdout",
     "output_type": "stream",
     "text": [
      "[0.         0.         0.47630811 0.38561247 0.47630811 0.\n",
      " 0.63052692]\n",
      "[0.         0.78353065 0.30887228 0.         0.30887228 0.39176533\n",
      " 0.2044394 ]\n",
      "[0.58702189 0.         0.         0.74937693 0.         0.\n",
      " 0.30633237]\n",
      "[0.         0.         0.         0.77419109 0.         0.\n",
      " 0.63295194]\n"
     ]
    }
   ],
   "source": [
    "vectorizer = TfidfVectorizer()\n",
    "X = vectorizer.fit_transform(corpus_fr)\n",
    "for ligne in X.toarray():\n",
    "    print(ligne)"
   ]
  },
  {
   "cell_type": "code",
   "execution_count": null,
   "metadata": {},
   "outputs": [],
   "source": [
    "## Calculer la similarité cosinus"
   ]
  },
  {
   "cell_type": "code",
   "execution_count": 10,
   "metadata": {},
   "outputs": [
    {
     "name": "stdout",
     "output_type": "stream",
     "text": [
      "Je suis un lapin un\n",
      "Je tu il il un suis\n",
      "Encore un lapin. lapin ?\n",
      "un lapin\n",
      "[[1.         0.42314129 0.48211989 0.69763097]\n",
      " [0.42314129 1.         0.06262641 0.12940032]\n",
      " [0.48211989 0.06262641 1.         0.77405461]\n",
      " [0.69763097 0.12940032 0.77405461 1.        ]]\n"
     ]
    }
   ],
   "source": [
    "from sklearn.metrics.pairwise import cosine_similarity\n",
    "import json\n",
    "for doc in corpus_fr:\n",
    "    print(doc)\n",
    "matrix = cosine_similarity(X.toarray())\n",
    "print(matrix)"
   ]
  },
  {
   "cell_type": "code",
   "execution_count": 11,
   "metadata": {},
   "outputs": [
    {
     "name": "stdout",
     "output_type": "stream",
     "text": [
      "Je suis un lapin un 0.6976309707372597\n",
      "Je tu il il un suis 0.12940031514346678\n",
      "Encore un lapin. lapin ? 0.774054610056261\n",
      "un lapin 1.0\n"
     ]
    }
   ],
   "source": [
    "similarite_avec_requete = matrix[-1]\n",
    "liste_res = []\n",
    "cpt = 0\n",
    "for doc in corpus_fr:\n",
    "    print(doc, similarite_avec_requete[cpt])\n",
    "    liste_res.append([similarite_avec_requete[cpt], doc])\n",
    "    cpt+=1"
   ]
  },
  {
   "cell_type": "code",
   "execution_count": 12,
   "metadata": {},
   "outputs": [
    {
     "name": "stdout",
     "output_type": "stream",
     "text": [
      "[1.0, 'un lapin']\n",
      "[0.774054610056261, 'Encore un lapin. lapin ?']\n",
      "[0.6976309707372597, 'Je suis un lapin un']\n",
      "[0.12940031514346678, 'Je tu il il un suis']\n"
     ]
    }
   ],
   "source": [
    "for l in sorted(liste_res, reverse=True):\n",
    "    print(l)"
   ]
  },
  {
   "cell_type": "code",
   "execution_count": null,
   "metadata": {},
   "outputs": [],
   "source": []
  }
 ],
 "metadata": {
  "kernelspec": {
   "display_name": "Python 3 (ipykernel)",
   "language": "python",
   "name": "python3"
  },
  "language_info": {
   "codemirror_mode": {
    "name": "ipython",
    "version": 3
   },
   "file_extension": ".py",
   "mimetype": "text/x-python",
   "name": "python",
   "nbconvert_exporter": "python",
   "pygments_lexer": "ipython3",
   "version": "3.9.7"
  }
 },
 "nbformat": 4,
 "nbformat_minor": 2
}
