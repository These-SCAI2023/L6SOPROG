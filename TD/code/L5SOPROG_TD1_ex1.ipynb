{
 "cells": [
  {
   "cell_type": "markdown",
   "metadata": {},
   "source": [
    "Nous allons implanter le calcul de la distribution des mots d’un texte (son vocabu-\n",
    "laire) en fonction de leur taille en caractères.\n",
    "\n",
    "**Constitution du corpus**\n",
    "\n",
    "Récupérez les 2 fichiers textes (plain text utf-8) accessibles à l'adresse suivante :\n",
    "\n",
    "* ”Le discours de la méthode” (fr) http://www.gutenberg.org/ebooks/13846\n",
    "* ”Ulysses” (en) http://www.gutenberg.org/ebooks/4300\n",
    "\n",
    "Les enregistrer à la racine de votre Notebook dans un dossier corpus.\n",
    "\n",
    "* **lire** les textes\n",
    "* **découper** en mots (ou tokeniser)\n",
    "* **compter** le nombre de mots par taille de caractères\n",
    "* **observer** les résultats chiffrés\n",
    "* **représenter** cela sur une courbe\n",
    "\n",
    "## Etape 1: lire le texte "
   ]
  },
  {
   "cell_type": "code",
   "execution_count": 4,
   "metadata": {},
   "outputs": [
    {
     "name": "stdout",
     "output_type": "stream",
     "text": [
      "['TD3.ipynb', 'corpus', 'Python_Install.tex', 'TD1.ipynb', 'L5SOPROG_TD1.ipynb', 'TD2.ipynb']\n"
     ]
    }
   ],
   "source": [
    "import glob #glob est une librairie Python qui nous permettra de parcourir les fichiers de votre disque\n",
    "print(glob.glob(\"*\"))\n",
    "#NB: observez que c'est une liste Python"
   ]
  },
  {
   "cell_type": "markdown",
   "metadata": {},
   "source": [
    "La **méthode** glob de la **librairie** du même nom prend en **paramètre** (entre parenthèses) un chemin (sous forme de chaîne de caractères). \n",
    "\n",
    "Ici \"*\" signifie que l'on demande à Python d'afficher tout le contenu du dossier courant. Vous n'avez pas forcément les mêmes fichiers que moi mais si vous avez bien suivi les instructions plus haut, vous avez aussi un dossier nommé corpus. \n",
    "Nous allons maintenant afficher son contenu:"
   ]
  },
  {
   "cell_type": "code",
   "execution_count": 9,
   "metadata": {},
   "outputs": [
    {
     "name": "stdout",
     "output_type": "stream",
     "text": [
      "['corpus/13846-0.txt', 'corpus/4300-0.txt']\n"
     ]
    }
   ],
   "source": [
    "print(glob.glob(\"corpus/*\"))#NB: \"/\" indique que l'on va chercher dans le dossier. "
   ]
  },
  {
   "cell_type": "markdown",
   "metadata": {},
   "source": [
    "NB : Si vous êtes sous Windows vous devrez peut être écrire \"corpus\\\\*\"\n",
    "\n",
    "Maitenant ouvrons ce fichier. Observez que la **fonction** open prend trois **paramètres** : le chemin, le mode d'ouverture (\"r\" pour _read_) et l'encodage (ou encoding)"
   ]
  },
  {
   "cell_type": "code",
   "execution_count": 12,
   "metadata": {},
   "outputs": [],
   "source": [
    "f = open(\"corpus/13846-0.txt\", \"r\", encoding = \"utf-8\")\n",
    "chaine = f.read()# La méthode read ouvre sous forme de chaîne de caractères\n",
    "f.close()#on ferme le fichier"
   ]
  },
  {
   "cell_type": "code",
   "execution_count": null,
   "metadata": {},
   "outputs": [],
   "source": []
  },
  {
   "cell_type": "markdown",
   "metadata": {},
   "source": [
    "### Manipulation de chaînes de caractères"
   ]
  },
  {
   "cell_type": "code",
   "execution_count": 15,
   "metadata": {},
   "outputs": [
    {
     "name": "stdout",
     "output_type": "stream",
     "text": [
      "﻿The Project Gutenberg EBook of Discours de la méthode, by René Descartes\n",
      "\n",
      "This eBook is for the use\n"
     ]
    }
   ],
   "source": [
    "#Les 100 premiers caractères :\n",
    "print(chaine[:100])"
   ]
  },
  {
   "cell_type": "code",
   "execution_count": 28,
   "metadata": {},
   "outputs": [
    {
     "name": "stdout",
     "output_type": "stream",
     "text": [
      "PUBLIÉES PAR VICTOR COUSIN.\n",
      "\n",
      "\n",
      "\n",
      "A\n",
      "\n",
      "M. ROYER-COLLARD,\n",
      "\n",
      "Professeur de l'histoire de la philosophie morale à la Faculté des\n",
      "Lettres de l'Académie de Paris\n"
     ]
    }
   ],
   "source": [
    "#Les caractèes 939 à 1089 (remarquez que l'on a les sauts de ligne):\n",
    "print(chaine[939:1089])"
   ]
  },
  {
   "cell_type": "code",
   "execution_count": 32,
   "metadata": {},
   "outputs": [
    {
     "name": "stdout",
     "output_type": "stream",
     "text": [
      " donations to the Project Gutenberg Literary\n",
      "Archive Foundation, how to help produce our new eBooks, and how to\n",
      "subscribe to our email newsletter to hear about new eBooks.\n",
      "\n",
      "*** END: FULL LICENSE ***\n",
      "\n",
      "\n"
     ]
    }
   ],
   "source": [
    "# Les 200 derniers caractères :\n",
    "print(chaine[-200:])"
   ]
  },
  {
   "cell_type": "markdown",
   "metadata": {},
   "source": [
    "## Etape 2 : Découpage en mots (tokenisation)\n",
    "\n",
    "NB: sur le formatage de chaînes de caractères (\"%i\"%variable dans cet exemple puis f\"{variable}\" par la suite) vous pouvez allez regarder le lien suivant : https://stackoverflow.com/questions/5082452/string-formatting-vs-format"
   ]
  },
  {
   "cell_type": "code",
   "execution_count": 39,
   "metadata": {},
   "outputs": [
    {
     "name": "stdout",
     "output_type": "stream",
     "text": [
      "['donations', 'to', 'the', 'Project', 'Gutenberg', 'Literary', 'Archive', 'Foundation,', 'how', 'to', 'help', 'produce', 'our', 'new', 'eBooks,', 'and', 'how', 'to', 'subscribe', 'to', 'our', 'email', 'newsletter', 'to', 'hear', 'about', 'new', 'eBooks.', '***', 'END:', 'FULL', 'LICENSE', '***']\n"
     ]
    }
   ],
   "source": [
    "#La méthode split permet de faire un découpage simple en mots. Exemple avec le segment de texte précédent :\n",
    "print(chaine[-200:].split())"
   ]
  },
  {
   "cell_type": "code",
   "execution_count": 43,
   "metadata": {},
   "outputs": [
    {
     "name": "stdout",
     "output_type": "stream",
     "text": [
      " Le texte contient au total 118787 mots\n"
     ]
    }
   ],
   "source": [
    "# Maintenant on le fait sur tout le texte mais on stocke au lieu de faire un print\n",
    "liste_mots = chaine .split ()\n",
    "print(\" Le texte contient au total %i mots\" %len(liste_mots))\n",
    "# \"%i\" permet d'insérer une variable de type \"Integer\" dans une chaîne de caractères. Equivalent à :\n",
    "#print(\" Le texte contient au total \"+ str(len(liste_mots)) + \" mots\" )"
   ]
  },
  {
   "cell_type": "markdown",
   "metadata": {},
   "source": [
    "## Etape 3 : Comptage des mots\n",
    "On va utiliser un **dictionnaire** Python (ou tableau associatif) où l'on va stocker pour chaque longueur en caractères le nombre de mots qu'on a rencontré.\n",
    "\n",
    "L'**algorithme** est le suivant:\n",
    "* pour chaque mot de la liste de mots, on calcule sa longueur\n",
    "* on vérifie si on a déjà rencontré un mot de cette longueur:\n",
    "  * Si c'est le premier mot pour cette longueur on crée une **clé** (une entrée dans le dictionnaire) pour cette longueur à laquelle on affecte la **valeur** 1 (on a vu cette longueur de mots 1 fois)\n",
    "  * Sinon, on **incrémente** de 1 la valeur existante (on a vu cette longueur 1 fois de plus)\n"
   ]
  },
  {
   "cell_type": "code",
   "execution_count": 51,
   "metadata": {},
   "outputs": [
    {
     "name": "stdout",
     "output_type": "stream",
     "text": [
      "Premier mot de 7 caractères : Project\n",
      "Premier mot de 9 caractères : Gutenberg\n",
      "Premier mot de 5 caractères : EBook\n",
      "Premier mot de 2 caractères : of\n",
      "Premier mot de 8 caractères : Discours\n",
      "Premier mot de 4 caractères : René\n",
      "Premier mot de 3 caractères : for\n",
      "Premier mot de 6 caractères : anyone\n",
      "On a 1 mots de 7 caractères\n",
      "On a 2 mots de 9 caractères\n",
      "On a 2 mots de 5 caractères\n",
      "On a 6 mots de 2 caractères\n",
      "On a 2 mots de 8 caractères\n",
      "On a 2 mots de 4 caractères\n",
      "On a 3 mots de 3 caractères\n",
      "On a 1 mots de 6 caractères\n",
      "{7: 1, 9: 2, 5: 2, 2: 6, 8: 2, 4: 2, 3: 3, 6: 1}\n"
     ]
    }
   ],
   "source": [
    "## Une première version sur un échantillon:\n",
    "dic_longueurs = {} #un dictionnaire vide\n",
    "\n",
    "for mot in liste_mots[1:20]: #on prend les mots 1 à 20 (arbitraire)\n",
    "  longueur = len(mot)#la longueur du mot\n",
    "  if longueur not in dic_longueurs: #on a jamais vu cette longueur de mot\n",
    "    dic_longueurs[longueur]=1 #\n",
    "    print(f\"Premier mot de {longueur} caractères : {mot}\")\n",
    "    #NB: précéder la chaîne de f permet d'ajouter des variables dans la chaîne à partir de leur nom\n",
    "  else: #on a vu cette longueur de mot\n",
    "    dic_longueurs[longueur]+=1\n",
    "\n",
    "for longueur, nombre in dic_longueurs.items():\n",
    "    print(f\"On a {nombre} mots de {longueur} caractères\")\n",
    "print(dic_longueurs)#pour avoir une vue de ce qu'on a fait"
   ]
  },
  {
   "cell_type": "markdown",
   "metadata": {},
   "source": [
    "#### NB: quand on va travailler sur tout le texte on ne va pas faire tous ces _print_ .  Les _print_ permettent de vérifier que ce que l'on fait marche bien"
   ]
  },
  {
   "cell_type": "code",
   "execution_count": 52,
   "metadata": {},
   "outputs": [
    {
     "name": "stdout",
     "output_type": "stream",
     "text": [
      "{4: 15694, 7: 9158, 9: 6051, 5: 13169, 2: 26680, 8: 6888, 3: 18999, 6: 9970, 12: 1476, 11: 2294, 17: 16, 10: 3986, 13: 861, 1: 2798, 14: 501, 15: 160, 16: 69, 18: 4, 20: 2, 38: 1, 24: 2, 22: 1, 39: 1, 30: 1, 21: 2, 29: 1, 19: 1, 23: 1}\n"
     ]
    }
   ],
   "source": [
    "dic_longueurs = {} #on réinititalise le dictionnaire (i.e. pour qu'il soit vide)\n",
    "\n",
    "for mot in liste_mots: \n",
    "  longueur = len(mot)\n",
    "  if longueur not in dic_longueurs:\n",
    "    dic_longueurs[longueur]=1 #\n",
    "  else:#on a vu cette longueur de mot\n",
    "    dic_longueurs[longueur]+=1\n",
    "\n",
    "print(dic_longueurs)"
   ]
  },
  {
   "cell_type": "markdown",
   "metadata": {},
   "source": [
    "## Etape 4 : Observation des résultats\n",
    "\n",
    "Un dictionnaire n'est pas une **structure de données** qui peut être directement triée (ou ordonnée). Pour vérifier que'on trouve des résultats proche de l'attendu, on va afficher le nombre d'occurences enregistré dans _dic_longueurs_ pour toutes les longueurs de 1 à 30 en utilisant **l'itérateur** _range_ pour afficher dans l'ordre croissant de taille en caractères."
   ]
  },
  {
   "cell_type": "code",
   "execution_count": 53,
   "metadata": {
    "scrolled": true
   },
   "outputs": [
    {
     "name": "stdout",
     "output_type": "stream",
     "text": [
      "Longueur 0, 0 occurrences\n",
      "Longueur 1, 2798 occurrences\n",
      "Longueur 2, 26680 occurrences\n",
      "Longueur 3, 18999 occurrences\n",
      "Longueur 4, 15694 occurrences\n",
      "Longueur 5, 13169 occurrences\n",
      "Longueur 6, 9970 occurrences\n",
      "Longueur 7, 9158 occurrences\n",
      "Longueur 8, 6888 occurrences\n",
      "Longueur 9, 6051 occurrences\n",
      "Longueur 10, 3986 occurrences\n",
      "Longueur 11, 2294 occurrences\n",
      "Longueur 12, 1476 occurrences\n",
      "Longueur 13, 861 occurrences\n",
      "Longueur 14, 501 occurrences\n",
      "Longueur 15, 160 occurrences\n",
      "Longueur 16, 69 occurrences\n",
      "Longueur 17, 16 occurrences\n",
      "Longueur 18, 4 occurrences\n",
      "Longueur 19, 1 occurrences\n",
      "Longueur 20, 2 occurrences\n",
      "Longueur 21, 2 occurrences\n",
      "Longueur 22, 1 occurrences\n",
      "Longueur 23, 1 occurrences\n",
      "Longueur 24, 2 occurrences\n",
      "Longueur 25, 0 occurrences\n",
      "Longueur 26, 0 occurrences\n",
      "Longueur 27, 0 occurrences\n",
      "Longueur 28, 0 occurrences\n",
      "Longueur 29, 1 occurrences\n"
     ]
    }
   ],
   "source": [
    "for toto in range(30):\n",
    "  if toto in dic_longueurs:\n",
    "    nbr_occurences = dic_longueurs[toto]\n",
    "  else:\n",
    "    nbr_occurences = 0\n",
    "  print(f\"Longueur {toto}, {nbr_occurences} occurrences\")\n"
   ]
  },
  {
   "cell_type": "markdown",
   "metadata": {},
   "source": [
    "### Etape 5 : Représentation graphique\n",
    "\n",
    "Et maintenant c'est magique, on va créer une courbe grâce à la **librairie** _pyplot_ de _matplotlib_. On va importer cette librairie et la renommer pour que ça soit plus court à écrire. Puis pour avoir les valeurs à mettre sur la courbe on va lire les valeurs dans l'ordre croissant pour les ranger dans une liste nommée _liste_effectifs_. _pyplot_ prend entrée un **vecteur** (i.e. une liste de valeurs ordonnées).\n",
    "\n",
    "NB: _il faut parfois valider deux fois la cellule suivante pour que la courbe s'affiche bien_."
   ]
  },
  {
   "cell_type": "code",
   "execution_count": 55,
   "metadata": {},
   "outputs": [
    {
     "data": {
      "image/png": "[encoded data removed]",
      "text/plain": [
       "<Figure size 432x288 with 1 Axes>"
      ]
     },
     "metadata": {
      "needs_background": "light"
     },
     "output_type": "display_data"
    }
   ],
   "source": [
    "import matplotlib.pyplot as pyplot #import avec alias\n",
    "\n",
    "liste_effectifs = []\n",
    "for toto in range(30):\n",
    "  if toto in dic_longueurs:#on a donc vu des mots de cette longueur\n",
    "    liste_effectifs.append(dic_longueurs[toto])\n",
    "  else:#on en n'a pas vu de cette longueur, on ajoute donc un 0\n",
    "    liste_effectifs.append(0)\n",
    "pyplot.plot(liste_effectifs)#on \"dessine\"\n",
    "pyplot.show()#\"on affiche\"\n"
   ]
  },
  {
   "cell_type": "markdown",
   "metadata": {},
   "source": [
    "Maintenant si on veut faire le même calcul pour l'autre texte on a juste à changer le nom du fichier dans l'étape 1 et à relancer toutes les cellules. Mais si on avait 100 textes à faire ça ne serait pas très pratique. Nous allons donc voir dans l'exercice suivant comment améliorer le code, comment le **factoriser**."
   ]
  },
  {
   "cell_type": "code",
   "execution_count": null,
   "metadata": {},
   "outputs": [],
   "source": []
  }
 ],
 "metadata": {
  "kernelspec": {
   "display_name": "Python 3 (ipykernel)",
   "language": "python",
   "name": "python3"
  },
  "language_info": {
   "codemirror_mode": {
    "name": "ipython",
    "version": 3
   },
   "file_extension": ".py",
   "mimetype": "text/x-python",
   "name": "python",
   "nbconvert_exporter": "python",
   "pygments_lexer": "ipython3",
   "version": "3.9.7"
  }
 },
 "nbformat": 4,
 "nbformat_minor": 2
}
