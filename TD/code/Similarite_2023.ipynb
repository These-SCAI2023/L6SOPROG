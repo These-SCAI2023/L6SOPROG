{
 "cells": [
  {
   "cell_type": "markdown",
   "metadata": {},
   "source": [
    "<img width=\"150\" src=\"http://lettres.sorbonne-universite.fr/sites/default/files/media/2019-10/sorbonne-lettre_1.svg\"/>\n",
    "\n",
    "\n",
    "# Index et Similarités\n",
    "## UFR de sociologie et d'informatique pour les sciences humaines\n",
    "### Programmation de Modèles Linguistiques (I)\n",
    "\n",
    "#### Gaël Lejeune et Caroline Koudoro-Parfait\n",
    "\n",
    "---\n",
    "    "
   ]
  },
  {
   "cell_type": "markdown",
   "metadata": {},
   "source": [
    "## Modèle Vectoriel Résumé\n",
    "\n",
    "**Du corpus à la matrice en passant par la matrice**\n",
    "\n",
    "* Des documents ( $I$ lignes de la matrice )\n",
    "* Des descripteurs ( $J$ colonnes )\n",
    "* Une valeur brute (effectif, fréquence) avec ou sans foction de pondération \n",
    "* Une valeur affectée ( $A_{i, j}$ )\n",
    "* Un algorithme de calcul de distance (ou de similarité)\n",
    "* Une nouvelle matrice, carrée: $M_{k, l}$ est la distance entre le document $k$ et le document $l$\n"
   ]
  },
  {
   "cell_type": "markdown",
   "metadata": {},
   "source": [
    "## Ensemble de documents\n",
    "\n",
    "`document1` : \"un trou noir empêche toute forme de matière ou de rayonnement de s' en échapper\"\n",
    "\n",
    "`document2` : \"le trou noir est un cocktail à base d' alcool généralement servi dans un shooter\"\n",
    "\n",
    "`document3` : \"les pays avérés du trou noir de le immobilier sont le Japon et l' Allemagne\"\n",
    "\n",
    "`document4` : \"un trou de ver relierait deux feuillets distincts un trou noir et un trou blanc\"\n",
    "\n",
    "`document5` : \"placer une saucisse cocktail au bord de une bande de pâte enrouler la pâte autour de la saucisse\""
   ]
  },
  {
   "cell_type": "code",
   "execution_count": 48,
   "metadata": {},
   "outputs": [],
   "source": [
    "#cellule 1\n",
    "\n",
    "document1 = \"un trou noir empêche toute forme de matière ou de rayonnement de s' en échapper\"\n",
    "\n",
    "document2 = \"le trou noir est un cocktail à base d' alcool généralement servi dans un shooter\"\n",
    "\n",
    "document3 = \"les pays avérés du trou noir de l'immobilier sont le Japon et l' Allemagne\"\n",
    "\n",
    "document4 = \"un trou de ver relierait deux feuillets distincts un trou noir et un trou blanc\"\n",
    "\n",
    "document5 = \"placer une saucisse cocktail au bord de une bande de pâte enrouler la pâte autour de la saucisse\"\n",
    "\n",
    "documents = {\"document1\": document1, \"document2\": document2, \"document3\": document3, \"document4\": document4, \"document5\": document5}"
   ]
  },
  {
   "cell_type": "markdown",
   "metadata": {},
   "source": [
    "## Obtention du vocabulaire et creation d'index"
   ]
  },
  {
   "cell_type": "code",
   "execution_count": 49,
   "metadata": {},
   "outputs": [
    {
     "name": "stdout",
     "output_type": "stream",
     "text": [
      "un ['document1', 'document2', 'document4']\n",
      "trou ['document1', 'document2', 'document3', 'document4']\n",
      "noir ['document1', 'document2', 'document3', 'document4']\n",
      "empêche ['document1']\n",
      "toute ['document1']\n",
      "forme ['document1']\n",
      "de ['document1', 'document3', 'document4', 'document5']\n",
      "matière ['document1']\n",
      "ou ['document1']\n",
      "rayonnement ['document1']\n",
      "s' ['document1']\n",
      "en ['document1']\n",
      "échapper ['document1']\n",
      "le ['document2', 'document3']\n",
      "est ['document2']\n",
      "cocktail ['document2', 'document5']\n",
      "à ['document2']\n",
      "base ['document2']\n",
      "d' ['document2']\n",
      "alcool ['document2']\n"
     ]
    }
   ],
   "source": [
    "def creer_index(docs):\n",
    "\n",
    "    index = {}\n",
    "\n",
    "    for nom, texte in docs.items():\n",
    "        for terme in texte.split():\n",
    "            if terme not in index:\n",
    "                index[terme] = set()\n",
    "            index[terme].add(nom)\n",
    "\n",
    "    index = {terme:sorted(list(noms)) for terme, noms in index.items()}        \n",
    "    return index\n",
    "\n",
    "index = creer_index(documents)\n",
    "for terme, noms in list(index.items())[:20]:\n",
    "    print(terme,noms)\n",
    "\n",
    "   \n"
   ]
  },
  {
   "cell_type": "code",
   "execution_count": 50,
   "metadata": {},
   "outputs": [],
   "source": [
    " ## Appliquer la fonction creer_index aux textes de DAUDET accessibles dans \"ressources_TD6\" en utilisant\n",
    " ## la fonction que nous utilisons dans les TD précédents pour lire les fichiers \n",
    " ## et la blibliothèque glob pour lire tous les fichiers qui se trouvent dans un même chemin.\n",
    "## !! Observez la strucutre de données de la variable \"documents\" dans la cellule 1 \n"
   ]
  },
  {
   "cell_type": "markdown",
   "metadata": {},
   "source": [
    "## Création de la \"matrice\" documents-termes\n",
    "\n",
    "\n",
    "**documents/termes** | $terme_1$ | $terme_2$ | $terme_3$ | $\\cdots$ | $terme_J$\n",
    " --- | --- | --- | --- | --- | ---\n",
    "$document_1$ | $A_{1,1}$ | $A_{1,2}$ | $A_{1,3}$ | $\\cdots$ | $A_{1, J}$\n",
    "$document_2$ | $A_{2,1}$ | $\\ddots$| | |$\\vdots$\n",
    "$document_3$ | $A_{3,1}$ |  |$\\ddots$  |  |$\\vdots$\n",
    "$\\vdots$ | $\\vdots$ |  |  | $\\ddots$  | $\\vdots$\n",
    "$document_I$ | $A_{I,1}$ | $\\cdots$ | $\\cdots$ | $\\cdots$ | $A_{I,J}$\n"
   ]
  },
  {
   "cell_type": "code",
   "execution_count": 51,
   "metadata": {},
   "outputs": [
    {
     "name": "stdout",
     "output_type": "stream",
     "text": [
      "{'document1': {'un': 1, 'trou': 1, 'noir': 1, 'empêche': 1, 'toute': 1, 'forme': 1, 'de': 3, 'matière': 1, 'ou': 1, 'rayonnement': 1, \"s'\": 1, 'en': 1, 'échapper': 1}, 'document2': {'le': 1, 'trou': 1, 'noir': 1, 'est': 1, 'un': 2, 'cocktail': 1, 'à': 1, 'base': 1, \"d'\": 1, 'alcool': 1, 'généralement': 1, 'servi': 1, 'dans': 1, 'shooter': 1}, 'document3': {'les': 1, 'pays': 1, 'avérés': 1, 'du': 1, 'trou': 1, 'noir': 1, 'de': 1, \"l'immobilier\": 1, 'sont': 1, 'le': 1, 'Japon': 1, 'et': 1, \"l'\": 1, 'Allemagne': 1}, 'document4': {'un': 3, 'trou': 3, 'de': 1, 'ver': 1, 'relierait': 1, 'deux': 1, 'feuillets': 1, 'distincts': 1, 'noir': 1, 'et': 1, 'blanc': 1}, 'document5': {'placer': 1, 'une': 2, 'saucisse': 2, 'cocktail': 1, 'au': 1, 'bord': 1, 'de': 3, 'bande': 1, 'pâte': 2, 'enrouler': 1, 'la': 2, 'autour': 1}}\n"
     ]
    }
   ],
   "source": [
    "def creer_index_inverse(docs):## Vérifier la traduction du terme \"index inversé\" de l'anglais au français. \n",
    "#     Peut on vraiment parler d'index et d'index inversé comme on le fait ??\n",
    "\n",
    "    index_inverse = {}\n",
    "\n",
    "    for nom, texte in docs.items():\n",
    "        index_inverse[nom] = dict()\n",
    "        for terme in texte.split():\n",
    "            if terme not in index_inverse[nom]:\n",
    "                index_inverse[nom][terme] = 1\n",
    "            else:\n",
    "                index_inverse[nom][terme] += 1\n",
    "\n",
    "    return index_inverse\n",
    "\n",
    "index_inverse = creer_index_inverse(documents)\n",
    "print(index_inverse)"
   ]
  },
  {
   "cell_type": "code",
   "execution_count": 52,
   "metadata": {},
   "outputs": [],
   "source": [
    " ## Appliquer la fonction creer_index_inverse aux texte de DAUDET accessible dans \"ressources_TD6\" "
   ]
  },
  {
   "cell_type": "markdown",
   "metadata": {},
   "source": [
    "## Requêter le corpus \n"
   ]
  },
  {
   "cell_type": "code",
   "execution_count": 54,
   "metadata": {},
   "outputs": [
    {
     "name": "stdout",
     "output_type": "stream",
     "text": [
      "['document1', 'document3', 'document4', 'document2']\n"
     ]
    }
   ],
   "source": [
    "def requeter_documents(requete, index):\n",
    "    documents_trouves = list()\n",
    "    requete_mots = requete.split() # découper la requête en mots\n",
    "    \n",
    "    # chercher pour chaque mot les documents où il apparaît\n",
    "    for mot in requete_mots: \n",
    "        if mot in index:\n",
    "            for document in index[mot]:\n",
    "                if document not in documents_trouves:\n",
    "                    documents_trouves.append(document)\n",
    "\n",
    "    return documents_trouves\n",
    "\n",
    "\n",
    "requete = \"matière et trou noir\"\n",
    "#Vous pouvez changer la requête et observer la réponse affichée\n",
    "documents_trouves = requeter_documets(requete, index)\n",
    "print(documents_trouves)\n"
   ]
  },
  {
   "cell_type": "code",
   "execution_count": 53,
   "metadata": {},
   "outputs": [],
   "source": [
    " ## Appliquer la fonction requeter_documents aux texte de DAUDET accessible dans \"ressources_TD6\" \n"
   ]
  },
  {
   "cell_type": "markdown",
   "metadata": {},
   "source": [
    "## À quoi ça serrt les similarités ?\n",
    "\n",
    "**Le calcul de similarité c'est utile pour déterminer si deux documents sont \"presque\" pareils ou très différents**;\n",
    "<br>\n",
    "**Il peut aussi permettre de déterminer le niveau de différence entre des documents**"
   ]
  },
  {
   "cell_type": "markdown",
   "metadata": {},
   "source": [
    "## Similarité de Jaccard\n",
    "\n",
    "$ J(A,B) = { {|A \\cap B| } \\over |A \\cup B| }$\n",
    "\n",
    "$|A \\cap B|$ : Taille de l'intersection des documents considérés \n",
    "\n",
    "$|A \\cup B|$ : Taille de l'union des documents considérés "
   ]
  },
  {
   "cell_type": "code",
   "execution_count": 56,
   "metadata": {},
   "outputs": [
    {
     "name": "stdout",
     "output_type": "stream",
     "text": [
      "L'indice de Jaccard pour ces deux phrases est : 0.5833333333333334\n"
     ]
    }
   ],
   "source": [
    "## Calculer l'indice de jaccard entre deux documents\n",
    "\n",
    "##Tokeniser les deux phrases choisie\n",
    "## Calculer l'ensemble pour chacune des phrases : set()\n",
    "## Calculer l'intersection de chaque ensemble avec la méthode .intersection()\n",
    "\n",
    "## Il faut calculer la Taille de l'intersection\n",
    "\n",
    "\n",
    "## Calculer l'union de chaque ensemble avec la méthode .union()\n",
    "\n",
    "#Taille de l'union des documents considérés \n",
    "\n",
    "\n",
    "## Diviser la taille de l'intersection par la taille de l'union en décommentant la ligne suivante\n",
    "#print(\"L'indice de Jaccard pour ces deux phrases est :\",taille_intersection/taille_union)"
   ]
  },
  {
   "cell_type": "markdown",
   "metadata": {},
   "source": [
    "* ### Marice de similarité (Jaccard) pour l'ensemble de documents"
   ]
  },
  {
   "cell_type": "code",
   "execution_count": 57,
   "metadata": {},
   "outputs": [
    {
     "name": "stdout",
     "output_type": "stream",
     "text": [
      "JACCARD\t\tdocument1\tdocument2\tdocument3\tdocument4\tdocument5\n",
      "document1\t1.000\t\t0.125\t\t0.125\t\t0.200\t\t0.042\t\t\n",
      "document2\t0.125\t\t1.000\t\t0.120\t\t0.136\t\t0.040\t\t\n",
      "document3\t0.125\t\t0.120\t\t1.000\t\t0.190\t\t0.040\t\t\n",
      "document4\t0.200\t\t0.136\t\t0.190\t\t1.000\t\t0.045\t\t\n",
      "document5\t0.042\t\t0.040\t\t0.040\t\t0.045\t\t1.000\t\t\n",
      "****************************************\n",
      "{'document1': {'document1': 1.0, 'document2': 0.125, 'document3': 0.125, 'document4': 0.2, 'document5': 0.041666666666666664}, 'document2': {'document1': 0.125, 'document2': 1.0, 'document3': 0.12, 'document4': 0.13636363636363635, 'document5': 0.04}, 'document3': {'document1': 0.125, 'document2': 0.12, 'document3': 1.0, 'document4': 0.19047619047619047, 'document5': 0.04}, 'document4': {'document1': 0.2, 'document2': 0.13636363636363635, 'document3': 0.19047619047619047, 'document4': 1.0, 'document5': 0.045454545454545456}, 'document5': {'document1': 0.041666666666666664, 'document2': 0.04, 'document3': 0.04, 'document4': 0.045454545454545456, 'document5': 1.0}}\n"
     ]
    }
   ],
   "source": [
    "def creer_matrice_jaccard(index_inverse):\n",
    "\n",
    "    matrice_sim = dict()\n",
    "    \n",
    "    for nom, termes_document in index_inverse.items():\n",
    "        matrice_sim[nom] = dict()\n",
    "        for nom_int, termes_document_int in index_inverse.items():\n",
    "            #Taille de l'intersection des documents considérés \n",
    "            intersection = len(set(termes_document).intersection(set(termes_document_int)))\n",
    "            #Taille de l'union des documents considérés \n",
    "            union = len(set(termes_document).union(set(termes_document_int)))\n",
    "            matrice_sim[nom][nom_int] = intersection/union\n",
    "\n",
    "    noms = matrice_sim.keys()\n",
    "    print(\"JACCARD\\t\\t\"+\"\\t\".join(noms))\n",
    "    for nom in noms:\n",
    "        print(nom, end=\"\\t\")\n",
    "        for nom_int in noms:\n",
    "            print(\"{:.3f}\".format(matrice_sim[nom][nom_int]), end=\"\\t\\t\")\n",
    "        print(\"\")\n",
    "    return matrice_sim\n",
    "\n",
    "matrice_sim = creer_matrice_jaccard(index_inverse)\n",
    "print(\"*\"*40)\n",
    "print(matrice_sim)"
   ]
  },
  {
   "cell_type": "code",
   "execution_count": 58,
   "metadata": {},
   "outputs": [],
   "source": [
    " ## Appliquer la fonction creer_matrice_jaccard aux texte de DAUDET accessible dans \"ressources_TD6\"\n"
   ]
  },
  {
   "cell_type": "markdown",
   "metadata": {},
   "source": [
    "* ### Pondération des resultats avec la similarité de Jaccard"
   ]
  },
  {
   "cell_type": "code",
   "execution_count": 59,
   "metadata": {},
   "outputs": [
    {
     "name": "stdout",
     "output_type": "stream",
     "text": [
      "['document1', 'document2', 'document3', 'document4']\n",
      "{'document1': 0.14285714285714285, 'document2': 0.13333333333333333, 'document3': 0.13333333333333333, 'document4': 0.2727272727272727}\n"
     ]
    }
   ],
   "source": [
    "def calculer_ponderation_jaccard(requete, index_inverse, documents_trouves):\n",
    "    \n",
    "    ponderations = dict()\n",
    "    requete_mots = requete.split()\n",
    "    \n",
    "    for document in documents_trouves:\n",
    "        #Termes du document trouvé\n",
    "        termes_document = index_inverse[document]\n",
    "        #Taille de l'intersection des documents considérés \n",
    "        intersection = len(set(termes_document).intersection(set(requete_mots)))\n",
    "        #Taille de l'union des documents considérés \n",
    "        union = len(set(termes_document).union(set(requete_mots)))\n",
    "        ponderations[document] = intersection/union\n",
    "    \n",
    "    return ponderations\n",
    "            \n",
    "requete = \"trou noir blanc\"\n",
    "documents_trouves = requeter_documets(requete, index)\n",
    "print(documents_trouves)\n",
    "ponderations_jaccard = calculer_ponderation_jaccard(requete,index_inverse, documents_trouves)\n",
    "print(ponderations_jaccard)"
   ]
  },
  {
   "cell_type": "code",
   "execution_count": 61,
   "metadata": {},
   "outputs": [],
   "source": [
    "## Appliquer la fonction calculer_ponderation_jaccard aux texte de DAUDET accessible dans \"ressources_TD6\""
   ]
  },
  {
   "cell_type": "markdown",
   "metadata": {},
   "source": [
    "## Similarité cosinus\n",
    "\n",
    "Permet de calculer la similarité entre deux documents ($A$ et $B$) à $n$ termes en déterminant le cosinus de l'angle entre eux. \n",
    "\n",
    "$sim(A,B) = \\cos(\\mathbf{A},\\mathbf{B}) = \\frac{\\mathbf{A} \\cdot \\mathbf{B}}{||\\mathbf{A}|| \\cdot ||\\mathbf{B}||} ; [-1,+1]$\n",
    "\n",
    "$\\mathbf{A} \\cdot \\mathbf{B} = \\sum_{i=1}^{n} A_iB_i $ ; produit scalaire entre $\\mathbf{A}$ et $\\mathbf{B}$\n",
    "\n",
    "$||\\mathbf{A}|| = \\sqrt{\\sum{_{i=1}^{n}}A_i^2}$ ; norme de $\\mathbf{A}$\n",
    "\n",
    "$||\\mathbf{B}|| = \\sqrt{\\sum{_{i=1}^{n}}B_i^2}$ ; norme de $\\mathbf{B}$\n",
    "\n",
    "\n",
    "---\n",
    "\n",
    "$A$ = le chat noir mignon\n",
    "\n",
    "$B$ = le chien blanc mingon\n",
    "\n",
    "**documents/termes** |le | chat | noir | chien | blanc | mignon\n",
    "--- | --- | --- | --- | --- | --- | ---\n",
    "$A$ | 1 | 1 | 1 | 0 | 0 | 1\n",
    "$B$ | 1 | 0 | 0 | 1 | 1 | 1\n",
    "\n",
    "\n",
    "$n = 6 $\n",
    "\n",
    "$\\mathbf{A} = (1,1,1,0,0,1)$\n",
    "\n",
    "$\\mathbf{B} = (1,0,0,1,1,1)$\n",
    "\n",
    "$\\mathbf{A} \\cdot \\mathbf{B} = \\sum_{i=1}^{n} A_iB_i = (1\\times1)+(1\\times0)+(1\\times0)+(0\\times1)+(0\\times1)+(1\\times1) = 2$\n",
    "\n",
    "$||\\mathbf{A}|| = \\sqrt{\\sum{_{i=1}^{n}}A_i^2} = \\sqrt{1^2+1^2+1^2+0^2+0^2+1^2} = \\sqrt{4} = 2$\n",
    " \n",
    "$||\\mathbf{B}|| = \\sqrt{\\sum{_{i=1}^{n}}B_i^2} = \\sqrt{1^2+0^2+0^2+1^2+1^2+1^2} = \\sqrt{4} = 2$\n",
    "\n",
    "$sim(A,B) = \\cos(\\mathbf{A},\\mathbf{B}) = \\frac{\\mathbf{A} \\cdot \\mathbf{B}}{||\\mathbf{A}|| \\cdot ||\\mathbf{B}||} = \\frac{2}{2 \\times 2} = \\frac{2}{4} = \\frac{1}{2} =  0.5$\n",
    "  "
   ]
  },
  {
   "cell_type": "markdown",
   "metadata": {},
   "source": [
    "* ### Calculer la similarité cosinus entre deux documents"
   ]
  },
  {
   "cell_type": "code",
   "execution_count": 43,
   "metadata": {},
   "outputs": [
    {
     "name": "stdout",
     "output_type": "stream",
     "text": [
      "0.21170244960998524\n"
     ]
    }
   ],
   "source": [
    "import math\n",
    "def calculer_sim_cosinus(docA, docB):\n",
    "    termes_communs = list(set(docA).intersection(set(docB)))\n",
    "    \n",
    "    #produit scalaire\n",
    "    AB = 0\n",
    "    for terme_commun in termes_communs:\n",
    "        AB += docA[terme_commun] * docB[terme_commun]\n",
    "\n",
    "    #norme A\n",
    "    A_norme = 0\n",
    "    for terme, freq in docA.items():\n",
    "        A_norme += pow(freq, 2)\n",
    "    A_norme = math.sqrt(A_norme)\n",
    "\n",
    "    #norme B\n",
    "    B_norme = 0\n",
    "    for terme, freq in docB.items():\n",
    "        B_norme += pow(freq, 2)\n",
    "    B_norme = math.sqrt(B_norme)\n",
    "    \n",
    "    sim_cosinus = AB / (A_norme * B_norme)\n",
    "    \n",
    "    return sim_cosinus\n",
    "\n",
    "r = calculer_sim_cosinus(index_inverse[\"document1\"], index_inverse[\"document2\"])\n",
    "print(r)"
   ]
  },
  {
   "cell_type": "code",
   "execution_count": 62,
   "metadata": {},
   "outputs": [],
   "source": [
    "## Appliquer la fonction calculer_sim_cosinus aux texte de DAUDET accessible dans \"ressources_TD6\""
   ]
  },
  {
   "cell_type": "markdown",
   "metadata": {},
   "source": [
    "* ### Matrice de similarité (Cosinus) pour l'ensemble de documents"
   ]
  },
  {
   "cell_type": "code",
   "execution_count": 46,
   "metadata": {},
   "outputs": [
    {
     "name": "stdout",
     "output_type": "stream",
     "text": [
      "COSINUS\t\tdocument1\tdocument2\tdocument3\tdocument4\tdocument5\n",
      "document1\t1.000\t\t0.212\t\t0.292\t\t0.420\t\t0.347\t\t\n",
      "document2\t0.212\t\t1.000\t\t0.194\t\t0.467\t\t0.043\t\t\n",
      "document3\t0.292\t\t0.194\t\t1.000\t\t0.309\t\t0.142\t\t\n",
      "document4\t0.420\t\t0.467\t\t0.309\t\t1.000\t\t0.102\t\t\n",
      "document5\t0.347\t\t0.043\t\t0.142\t\t0.102\t\t1.000\t\t\n",
      "****************************************\n",
      "{'document1': {'document2': 0.21170244960998524, 'document3': 0.2916059217599022, 'document4': 0.41996052556580804, 'document5': 0.3471825374147068}, 'document2': {'document1': 0.21170244960998524, 'document3': 0.19446111706564934, 'document4': 0.46676002800933664, 'document5': 0.042874646285627205}, 'document3': {'document1': 0.2916059217599022, 'document2': 0.19446111706564934, 'document4': 0.3086066999241838, 'document5': 0.1417366773784602}, 'document4': {'document1': 0.41996052556580804, 'document2': 0.46676002800933664, 'document3': 0.3086066999241838, 'document5': 0.10206207261596574}, 'document5': {'document1': 0.3471825374147068, 'document2': 0.042874646285627205, 'document3': 0.1417366773784602, 'document4': 0.10206207261596574}}\n"
     ]
    }
   ],
   "source": [
    "import itertools\n",
    "def creer_matrice_cosinus(index_inverse):\n",
    "\n",
    "    matrice_sim = dict()\n",
    "    paires_docs = list(itertools.permutations(index_inverse.keys(), 2))    \n",
    "    \n",
    "    for docA, docB in paires_docs:\n",
    "        if docA not in matrice_sim:\n",
    "            matrice_sim[docA] = dict()\n",
    "        a=calculer_sim_cosinus(index_inverse[docA], index_inverse[docB])\n",
    "        matrice_sim[docA][docB] = calculer_sim_cosinus(index_inverse[docA], index_inverse[docB])\n",
    "\n",
    "    noms = matrice_sim.keys()\n",
    "    print(\"COSINUS\\t\\t\"+\"\\t\".join(noms))\n",
    "    for nom in noms:\n",
    "        print(nom, end=\"\\t\")\n",
    "        for nom_int in noms:\n",
    "            if nom_int not in matrice_sim[nom]:\n",
    "                print(\"1.000\", end=\"\\t\\t\")    \n",
    "            else:\n",
    "             print(\"{:.3f}\".format(matrice_sim[nom][nom_int]), end=\"\\t\\t\")\n",
    "        print(\"\")\n",
    "    return matrice_sim\n",
    "\n",
    "matrice_sim = creer_matrice_cosinus(index_inverse)\n",
    "print(\"*\"*40)\n",
    "print(matrice_sim)"
   ]
  },
  {
   "cell_type": "code",
   "execution_count": 63,
   "metadata": {},
   "outputs": [],
   "source": [
    "## Appliquer la fonction creer_matrice_cosinus aux texte de DAUDET accessible dans \"ressources_TD6\""
   ]
  },
  {
   "cell_type": "markdown",
   "metadata": {},
   "source": [
    "## Distance Cosinus, Jaccard et autres métriques avec la bibliothèque $scikit learn$"
   ]
  },
  {
   "cell_type": "markdown",
   "metadata": {},
   "source": [
    "Pour calculer les similarités dans les étapes précedentes nous avons d'abord calculer une **matrice**.\n",
    "<br>\n",
    "<br>\n",
    "$CountVectorizer$ est un outil qui permet la **vectorisation** des mots d'un document et le **calcul de la matrice**. \n",
    "<br>\n",
    "<br>\n",
    "Tous les détails sur les différentes métrics que propose la bibliothèque $scikit learn$ :\n",
    "<a href=\"https://scikit-learn.org/stable/modules/generated/sklearn.metrics.DistanceMetric.html#sklearn.metrics.DistanceMetric\">sklearn.metrics.DistanceMetric</a>"
   ]
  },
  {
   "cell_type": "code",
   "execution_count": 3,
   "metadata": {},
   "outputs": [],
   "source": [
    "import sklearn\n",
    "from sklearn.neighbors import DistanceMetric\n",
    "from sklearn.feature_extraction.text import CountVectorizer"
   ]
  },
  {
   "cell_type": "markdown",
   "metadata": {},
   "source": [
    "* ### Calculer la distance de jaccard avec $CountVectorizer$"
   ]
  },
  {
   "cell_type": "code",
   "execution_count": 22,
   "metadata": {},
   "outputs": [
    {
     "name": "stdout",
     "output_type": "stream",
     "text": [
      "* La matrice calculée avec le CounVectorizer sur les textes : \n",
      "\n",
      "[[0 0 0 0 3 1 1 0 1 0 0 1 1 1 1 0 0 1 1 1 1]\n",
      " [1 1 1 1 0 0 0 1 0 1 1 0 1 0 0 1 1 0 1 2 0]] \n",
      "\n",
      "** Le tableau des distances calculé par la méthode de 'sklearn.metrics.pairwise.cosine_distances' : \n",
      "\n",
      "[[0.         0.85714286]\n",
      " [0.85714286 0.        ]] \n",
      "\n",
      "*** Le résultat pour la distances jaccard : \n",
      "\n",
      "[0.8571428571428571]\n"
     ]
    }
   ],
   "source": [
    "jaccard_distance =[]\n",
    "\n",
    "Vecteur = CountVectorizer(analyzer='word')\n",
    "matrice= Vecteur.fit_transform([document1, document2]).toarray()\n",
    "dist = DistanceMetric.get_metric(\"jaccard\")     \n",
    "print(\"* La matrice calculée avec le CounVectorizer sur les textes : \\n\")\n",
    "print(matrice,\"\\n\")\n",
    "\n",
    "dist_jacc_tab=dist.pairwise(matrice)\n",
    "print(\"** Le tableau des distances calculé par la méthode de 'sklearn.metrics.pairwise.cosine_distances' : \\n\")\n",
    "print(dist_jacc_tab,\"\\n\")   \n",
    "\n",
    "jaccard_distance.append(dist_jacc_tab[0][1])\n",
    "print(\"*** Le résultat pour la distances jaccard : \\n\")\n",
    "print(jaccard_distance)"
   ]
  },
  {
   "cell_type": "markdown",
   "metadata": {},
   "source": [
    "* ### Calculer la distance cosinus avec $CountVectorizer$"
   ]
  },
  {
   "cell_type": "code",
   "execution_count": 18,
   "metadata": {},
   "outputs": [
    {
     "name": "stdout",
     "output_type": "stream",
     "text": [
      "* La matrice calculée avec le CounVectorizer sur les textes : \n",
      "\n",
      "[[0 0 0 0 0 0 3 0 0 3 2 1 1 0 1 1 0 0 1 1 1 1 1 1 1 1 1 1 0 0 2 1 1 0 0 0\n",
      "  0 1 1 1 0 1 0 0 0 0 0 0 0 1 1 0 0 1 1 1 1 0 0 2 1 1 0 0 0 0 0 0 0 0 0 3\n",
      "  3 7 1 1 1 1 1 1 1 2 1 1 2 1 1 1 0 0 0 1 1 0 0 1 1 1 1 0 0 0 0 0 0 1 1 1\n",
      "  1 0 0 0 0 0 0 0 0 0 0 1 1 2 1 1 1 1 2 0 0 1 1 1 1 1 1 1 1 0 0 1 1 0 0 0\n",
      "  0 1 1 0 0 1 1 0 0 0 1 1 0 0 3 2 1 1 1 1 1 1 1 1 1 1 0 1 1 1 1 1 1 1 0 0\n",
      "  0 0 1 1 0 0 0 0 0 0 0 1 1 0 0 0 0 1 1 0 1 1 1 1 1 1 2 1 1 1 1 1 1 0 0 1\n",
      "  1 0 0 1 1 1 1 0 0 0 0 1 1]\n",
      " [1 1 1 1 1 1 2 1 1 0 1 0 0 1 0 0 1 1 0 0 1 1 0 0 0 0 2 0 1 1 1 0 1 2 2 1\n",
      "  1 0 0 1 1 0 1 1 2 1 1 1 1 0 0 1 1 0 0 0 0 1 1 0 0 0 1 1 2 1 1 1 1 1 1 0\n",
      "  0 2 1 0 0 0 0 0 1 1 1 0 1 0 1 2 1 1 1 0 0 1 1 0 0 0 0 1 1 1 1 1 1 1 1 0\n",
      "  0 1 1 2 1 1 1 1 2 1 1 0 0 1 0 1 0 0 2 1 1 0 0 0 0 0 0 1 1 1 1 1 1 1 1 1\n",
      "  1 1 1 1 1 0 0 2 1 1 0 0 1 1 1 1 0 0 0 0 0 0 0 1 1 1 1 0 0 0 0 0 1 1 1 1\n",
      "  1 1 0 0 2 1 1 1 1 1 1 2 0 1 1 1 1 1 0 1 0 0 0 0 1 1 1 0 1 2 2 0 0 1 1 0\n",
      "  0 1 1 0 0 0 0 1 1 1 1 0 0]] \n",
      "\n",
      "** Le tableau des distances calculé par la méthode de 'sklearn.metrics.pairwise.cosine_distances' : \n",
      "\n",
      "[[0.         0.64216997]\n",
      " [0.64216997 0.        ]] \n",
      "\n",
      "*** Le résultat pour la distances cosinus : \n",
      "\n",
      "[0.6421699732522046]\n"
     ]
    }
   ],
   "source": [
    "cosinus_distance=[]\n",
    "\n",
    "Vecteur = CountVectorizer(ngram_range=(2,3), analyzer='char') \n",
    "matrice = Vecteur.fit_transform([document1,document2]).toarray()\n",
    "print(\"* La matrice calculée avec le CounVectorizer sur les textes : \\n\")\n",
    "print(matrice,\"\\n\")\n",
    "\n",
    "dist_cos_tab=sklearn.metrics.pairwise.cosine_distances(matrice) # Distance avec cosinus\n",
    "print(\"** Le tableau des distances calculé par la méthode de 'sklearn.metrics.pairwise.cosine_distances' : \\n\")\n",
    "print(dist_cos_tab,\"\\n\")            \n",
    "\n",
    "cosinus_distance.append(dist_cos_tab[0][1])\n",
    "print(\"*** Le résultat pour la distances cosinus : \\n\")\n",
    "print(cosinus_distance)"
   ]
  },
  {
   "cell_type": "markdown",
   "metadata": {},
   "source": [
    "* ### Que remarquez-vous lorsque vous observez les matrices pour les deux distances ? Quelle est la cause de la différence ?\n",
    "\n",
    "* ### Manipulez les paramètres de la vectorisation et observer les résultats. "
   ]
  },
  {
   "cell_type": "markdown",
   "metadata": {},
   "source": [
    "#### --> Rédiger vos réponses ici\n"
   ]
  },
  {
   "cell_type": "markdown",
   "metadata": {},
   "source": [
    "* ### Tester d'autres métriques avec $CountVectorizer$"
   ]
  },
  {
   "cell_type": "markdown",
   "metadata": {},
   "source": [
    "1. Ecrivez un programme qui permet de calculer les distances entre 2 documents avec 4 métriques (par exemple : euclidien, braycurtis, etc.).\n",
    " - Ce programme prend en entrée les valeurs des variables pour deux documents (document1, document2, document3, document4, document5) \n",
    " - donne en sortie un tableau qui comprend le nom des documents comparés et les valeurs pour chaque métriques. \n",
    " - Le tableau doit être affiché avec pandas"
   ]
  },
  {
   "cell_type": "code",
   "execution_count": null,
   "metadata": {},
   "outputs": [],
   "source": []
  },
  {
   "cell_type": "markdown",
   "metadata": {},
   "source": [
    "* #### Observez-vous des différences entre les résultats donnés par les différentes métriques ? "
   ]
  },
  {
   "cell_type": "markdown",
   "metadata": {},
   "source": [
    "2. A partir du programme précédent écrivez une **fonction** qui permet de calculer les distances entre 2 documents avec 4 métriques (par exemple : euclidien, braycurtis, etc.).\n",
    " - Ce programme prend en entrée les valeurs des variables pour deux documents que vous trouverez dans le corpus **ressources_TD6**\n",
    " - donne en sortie un tableau* qui comprend le nom des documents comparés et les valeurs pour chaque métriques. \n",
    " - Le tableau doit être stocké avec csv"
   ]
  },
  {
   "cell_type": "code",
   "execution_count": null,
   "metadata": {},
   "outputs": [],
   "source": []
  }
 ],
 "metadata": {
  "kernelspec": {
   "display_name": "Python 3 (ipykernel)",
   "language": "python",
   "name": "python3"
  },
  "language_info": {
   "codemirror_mode": {
    "name": "ipython",
    "version": 3
   },
   "file_extension": ".py",
   "mimetype": "text/x-python",
   "name": "python",
   "nbconvert_exporter": "python",
   "pygments_lexer": "ipython3",
   "version": "3.9.7"
  }
 },
 "nbformat": 4,
 "nbformat_minor": 4
}
