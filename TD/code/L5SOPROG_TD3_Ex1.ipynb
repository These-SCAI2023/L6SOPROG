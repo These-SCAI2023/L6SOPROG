{
 "cells": [
  {
   "cell_type": "code",
   "execution_count": 10,
   "metadata": {},
   "outputs": [
    {
     "name": "stdout",
     "output_type": "stream",
     "text": [
      "data/et_pg44217.txt\n",
      "237\n",
      "231\n",
      "data/fi.txt\n",
      "223\n",
      "217\n",
      "data/it_gut.txt\n",
      "235\n",
      "229\n",
      "data/en_4300-0.txt\n",
      "126\n",
      "120\n",
      "data/pl_gut.txt\n",
      "147\n",
      "141\n",
      "data/fr_13846-0.txt\n",
      "105\n",
      "99\n"
     ]
    }
   ],
   "source": [
    "def lire_fichier(chemin):\n",
    "    with open(chemin, encoding=\"utf-8\") as f:\n",
    "        chaine = f.read()\n",
    "    return chaine\n",
    "\n",
    "import glob, re\n",
    "dic_langues = {}\n",
    "for chemin in glob.glob(\"data/*\"):#Adapter si besoin\n",
    "  print(chemin)#Si pas de chemin qui s'affiche, c'est pas bon !\n",
    "  chaine = lire_fichier(chemin)\n",
    "  # !! Si vous êtes sur Windows pour la ligne d'en dessous : re.split(\"\\\\\\\\\", chemin)\n",
    "  nom_fichier = re.split(\"/\", chemin)[-1]\n",
    "  nom_langue = nom_fichier[:2]\n",
    "  dic_caracteres = {} \n",
    "  for carac in chaine:\n",
    "    if carac not in dic_caracteres:\n",
    "      dic_caracteres[carac]=1 \n",
    "    else:\n",
    "      dic_caracteres[carac]+=1\n",
    "  print(len(dic_caracteres))#AVANT\n",
    "  for ponctuation in [\" \", \",\", \"'\", \":\", \"\\n\", \"-\"]:\n",
    "    #NB: vous pouvez ajouter des ponctuations \n",
    "    if ponctuation in dic_caracteres:\n",
    "        del dic_caracteres[ponctuation]#on supprime la clé\n",
    "  print(len(dic_caracteres))#APRES\n",
    "\n",
    "  liste_tri = [] #on va stocker dans une liste pour trier\n",
    "  for caractere, effectif in dic_caracteres.items():\n",
    "    liste_tri.append([effectif, caractere])#Pour le tri sur l'effectif\n",
    "  dic_langues[nom_langue] = sorted(liste_tri)\n"
   ]
  },
  {
   "cell_type": "code",
   "execution_count": 9,
   "metadata": {},
   "outputs": [
    {
     "name": "stdout",
     "output_type": "stream",
     "text": [
      "et\tfi\tit\ten\tpl\tfr\n",
      "----------------------------------------\n",
      "e\ta\te\te\te\te\n",
      "a\ti\ti\tt\ta\ts\n",
      "i\tt\ta\ta\t-\tn\n",
      "s\te\to\to\ti\tt\n",
      "t\tn\tn\tn\to\ti\n",
      "u\ts\tr\ti\tn\tu\n",
      "n\to\tt\ts\tz\tr\n",
      "o\tl\tl\tr\tr\ta\n",
      "l\tu\ts\th\tt\to\n",
      "r\tk\tc\tl\ts\tl\n"
     ]
    }
   ],
   "source": [
    "liste_langues = dic_langues.keys()\n",
    "print(\"\\t\".join(liste_langues))\n",
    "print(\"-\"*40)#40 tirets concaténés\n",
    "for cpt in range (1, 11):\n",
    "  l = []\n",
    "  for langue in liste_langues:\n",
    "    l.append(dic_langues[langue][-cpt][1])\n",
    "  print(\"\\t\".join(l))"
   ]
  },
  {
   "cell_type": "code",
   "execution_count": null,
   "metadata": {},
   "outputs": [],
   "source": []
  }
 ],
 "metadata": {
  "kernelspec": {
   "display_name": "Python 3",
   "language": "python",
   "name": "python3"
  },
  "language_info": {
   "codemirror_mode": {
    "name": "ipython",
    "version": 3
   },
   "file_extension": ".py",
   "mimetype": "text/x-python",
   "name": "python",
   "nbconvert_exporter": "python",
   "pygments_lexer": "ipython3",
   "version": "3.7.5"
  }
 },
 "nbformat": 4,
 "nbformat_minor": 2
}
