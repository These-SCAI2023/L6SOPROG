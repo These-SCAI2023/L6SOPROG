{
 "cells": [
  {
   "cell_type": "code",
   "execution_count": 19,
   "metadata": {},
   "outputs": [
    {
     "name": "stdout",
     "output_type": "stream",
     "text": [
      "dict_keys(['bg', 'cs', 'da', 'de', 'el', 'en', 'es', 'et', 'fi', 'fr', 'hu', 'it', 'lt', 'lv', 'mt', 'nl', 'pl', 'pt', 'ro', 'sk', 'sl', 'sv'])\n"
     ]
    }
   ],
   "source": [
    "import json\n",
    "with open(\"models.json\", \"r\", encoding=\"utf-8\") as toto:\n",
    "    dic_modeles=json.load(toto)\n",
    "print(dic_modeles.keys())"
   ]
  },
  {
   "cell_type": "code",
   "execution_count": 4,
   "metadata": {},
   "outputs": [],
   "source": [
    "def lire_fichier(chemin):\n",
    "    with open(chemin, encoding=\"utf-8\") as f:\n",
    "        chaine = f.read()\n",
    "    return chaine"
   ]
  },
  {
   "cell_type": "code",
   "execution_count": 30,
   "metadata": {},
   "outputs": [
    {
     "name": "stdout",
     "output_type": "stream",
     "text": [
      "Bonnes prédictions : 1193\n",
      "sur 1232 fichiers\n"
     ]
    }
   ],
   "source": [
    "import glob\n",
    "cpt=0\n",
    "for chemin in glob.glob(\"corpus_multi/*/*/test/*\"):\n",
    "    dossiers = chemin.split(\"\\\\\")\n",
    "    langue = dossiers [2]\n",
    "    chaine = lire_fichier(chemin)\n",
    "    mots = chaine.split()\n",
    "    dic_freq_texte = {}\n",
    "    for m in mots:\n",
    "        if m not in dic_freq_texte:\n",
    "            dic_freq_texte[m]=1\n",
    "        else:\n",
    "            dic_freq_texte[m]+=1\n",
    "    #print(dic_freq_texte)\n",
    "    paires = [[effectif,mot] for mot, effectif in dic_freq_texte.items()]\n",
    "    liste_paires = sorted(paires)[-10:]\n",
    "    plus_frequents = [mot for effectif, mot in liste_paires]\n",
    "    liste_pred = []\n",
    "    for langue_ref, modele in dic_modeles.items():\n",
    "    \n",
    "        mots_commun = set(plus_frequents).intersection(set(modele))\n",
    "        liste_pred.append([len(mots_commun), langue_ref])\n",
    "    langue_pred = sorted(liste_pred)[-1][1]\n",
    "    if langue_pred==langue:\n",
    "        cpt+=1\n",
    "print(\"Bonnes prédictions : %i\"%cpt)\n",
    "NB_fichiers = len(glob.glob(\"corpus_multi/*/*/test/*\"))\n",
    "print(\"sur %i fichiers\"%NB_fichiers)"
   ]
  },
  {
   "cell_type": "code",
   "execution_count": 31,
   "metadata": {},
   "outputs": [
    {
     "name": "stdout",
     "output_type": "stream",
     "text": [
      "0.9683441558441559\n"
     ]
    }
   ],
   "source": [
    "print(cpt/NB_fichiers)"
   ]
  },
  {
   "cell_type": "code",
   "execution_count": null,
   "metadata": {},
   "outputs": [],
   "source": []
  }
 ],
 "metadata": {
  "kernelspec": {
   "display_name": "Python 3",
   "language": "python",
   "name": "python3"
  },
  "language_info": {
   "codemirror_mode": {
    "name": "ipython",
    "version": 3
   },
   "file_extension": ".py",
   "mimetype": "text/x-python",
   "name": "python",
   "nbconvert_exporter": "python",
   "pygments_lexer": "ipython3",
   "version": "3.7.6"
  }
 },
 "nbformat": 4,
 "nbformat_minor": 4
}
