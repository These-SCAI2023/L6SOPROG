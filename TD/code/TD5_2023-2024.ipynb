{
 "cells": [
  {
   "cell_type": "markdown",
   "id": "cd67e56f",
   "metadata": {},
   "source": [
    "# Exercice 1 : Préparation du document d'annotation manuelle"
   ]
  },
  {
   "cell_type": "code",
   "execution_count": 1,
   "id": "a2095655",
   "metadata": {},
   "outputs": [],
   "source": [
    "import glob\n",
    "import re\n",
    "import spacy\n",
    "import csv\n",
    "\n"
   ]
  },
  {
   "cell_type": "code",
   "execution_count": 2,
   "id": "8876189f",
   "metadata": {},
   "outputs": [],
   "source": [
    "def read_text(path_corpora):\n",
    "        with open (path_corpora, \"r\", encoding=\"utf-8\") as fichier:\n",
    "            txt=fichier.read()\n",
    "        return txt\n",
    "nlp = spacy.load(\"fr_core_news_lg\")"
   ]
  },
  {
   "cell_type": "code",
   "execution_count": 4,
   "id": "18fc23ff",
   "metadata": {},
   "outputs": [
    {
     "name": "stdout",
     "output_type": "stream",
     "text": [
      "../corpus-REN_2023-2024/NOAILLES/NOAILLES_la-nouvelle-esperance.txt\n",
      "NOAILLES_la-nouvelle-esperance.txt  :  66089\n",
      "../corpus-REN_2023-2024/AIMARD_RIVIERE/AIMARD_belle-riviere.txt\n",
      "AIMARD_belle-riviere.txt  :  170907\n",
      "../corpus-REN_2023-2024/FLAUBERT/FLAUBERT_education-sentimentale.txt\n",
      "FLAUBERT_education-sentimentale.txt  :  183487\n"
     ]
    }
   ],
   "source": [
    "path_corpus=\"../corpus-REN_2023-2024/*/*.txt\"\n",
    "for path_file in glob.glob(path_corpus):\n",
    "    liste_tok=[]#initialise une liste pour stocker les tokens\n",
    "    print(path_file)\n",
    "    filename=path_file.split(\"/\")[-1]#quelle est la solution pour \n",
    "    # récupérer le nom du fichier ?\n",
    "    texte=read_text(path_file)\n",
    "    for ponctuation in [\"\\n\",\"  \",\"\\t\"]:#On peut ajouter d'autres \n",
    "    # ponctuations\n",
    "        texte=re.sub(ponctuation,\"$\",texte) \n",
    "   \n",
    "    doc = nlp(texte)\n",
    "    liste_tok=[]\n",
    "    with open(f'../corpus-REN_2023-2024_output/{filename}_annot.csv', 'a', newline='') as csvfile:\n",
    "            spamwriter = csv.writer(csvfile, delimiter=';',quotechar='\\t', quoting=csv.QUOTE_MINIMAL)\n",
    "            spamwriter.writerow([\"Token\",\"LOC\",\"PER\",\"ORG\",\"MISC\"])\n",
    "            for token in doc:\n",
    "            #     print(token.text)\n",
    "                    if token.text !=\"$\":\n",
    "                        liste_tok.append(token.text)\n",
    "                        spamwriter.writerow([token.text])           \n",
    "\n",
    "    print(filename,\" : \",len(liste_tok))"
   ]
  },
  {
   "cell_type": "markdown",
   "id": "8a2c253a",
   "metadata": {},
   "source": [
    "# Exercice 2 : Annotation avec spaCy"
   ]
  },
  {
   "cell_type": "code",
   "execution_count": 40,
   "id": "2d593658",
   "metadata": {},
   "outputs": [],
   "source": [
    "import pandas as pd\n",
    "import json"
   ]
  },
  {
   "cell_type": "code",
   "execution_count": 41,
   "id": "91b96bdc",
   "metadata": {},
   "outputs": [],
   "source": [
    "#stockage des données dans un format json pour une réutilisation des données\n",
    "def stocker(chemin, contenu):\n",
    "    w =open(chemin, \"w\")\n",
    "    w.write(json.dumps(contenu , indent = 2))\n",
    "    w.close()\n",
    "    # print(chemin)\n",
    "    \n",
    "    return chemin"
   ]
  },
  {
   "cell_type": "code",
   "execution_count": 42,
   "id": "661ba994",
   "metadata": {},
   "outputs": [],
   "source": [
    "path=\"../corpus-REN_2023-2024/AIMARD_RIVIERE/AIMARD_belle-riviere.txt\"\n",
    "text=read_text(path)"
   ]
  },
  {
   "cell_type": "code",
   "execution_count": 43,
   "id": "b706c3a1",
   "metadata": {},
   "outputs": [],
   "source": [
    "# chargement du modèle de langue de spaCy avec lequel vous souhaitez travailler\n",
    "#Vous pouvez changer le modèle de langue : 0=\"fr_core_news_lg\", 1=\"fr_core_news_md\", 2=\"fr_core_news_sm\"\n",
    "\n",
    "modele_langfr=[\"fr_core_news_lg\",\"fr_core_news_sm\"]\n",
    "modele=modele_langfr[1] \n",
    "nlp = spacy.load(modele) "
   ]
  },
  {
   "cell_type": "markdown",
   "id": "9942dc83",
   "metadata": {},
   "source": [
    "## displaCy"
   ]
  },
  {
   "cell_type": "code",
   "execution_count": 6,
   "id": "356bf933",
   "metadata": {},
   "outputs": [
    {
     "name": "stderr",
     "output_type": "stream",
     "text": [
      "/home/obtic2023/anaconda3/lib/python3.9/site-packages/spacy/displacy/__init__.py:106: UserWarning: [W011] It looks like you're calling displacy.serve from within a Jupyter notebook or a similar environment. This likely means you're already running a local web server, so there's no need to make displaCy start another one. Instead, you should be able to replace displacy.serve with displacy.render to show the visualization.\n",
      "  warnings.warn(Warnings.W011)\n"
     ]
    },
    {
     "data": {
      "text/html": [
       "<span class=\"tex2jax_ignore\"><!DOCTYPE html>\n",
       "<html lang=\"fr\">\n",
       "    <head>\n",
       "        <title>displaCy</title>\n",
       "    </head>\n",
       "\n",
       "    <body style=\"font-size: 16px; font-family: -apple-system, BlinkMacSystemFont, 'Segoe UI', Helvetica, Arial, sans-serif, 'Apple Color Emoji', 'Segoe UI Emoji', 'Segoe UI Symbol'; padding: 4rem 2rem; direction: ltr\">\n",
       "<figure style=\"margin-bottom: 6rem\">\n",
       "<div class=\"entities\" style=\"line-height: 2.5; direction: ltr\">\n",
       "<mark class=\"entity\" style=\"background: #ddd; padding: 0.45em 0.6em; margin: 0 0.25em; line-height: 1; border-radius: 0.35em;\">\n",
       "    Première\n",
       "    <span style=\"font-size: 0.8em; font-weight: bold; line-height: 1; border-radius: 0.35em; vertical-align: middle; margin-left: 0.5rem\">MISC</span>\n",
       "</mark>\n",
       " partie -- Le \n",
       "<mark class=\"entity\" style=\"background: #ff9561; padding: 0.45em 0.6em; margin: 0 0.25em; line-height: 1; border-radius: 0.35em;\">\n",
       "    Fort Duquesne \n",
       "I\n",
       "    <span style=\"font-size: 0.8em; font-weight: bold; line-height: 1; border-radius: 0.35em; vertical-align: middle; margin-left: 0.5rem\">LOC</span>\n",
       "</mark>\n",
       " -- Le \n",
       "<mark class=\"entity\" style=\"background: #ddd; padding: 0.45em 0.6em; margin: 0 0.25em; line-height: 1; border-radius: 0.35em;\">\n",
       "    comte de Jumonville\n",
       "    <span style=\"font-size: 0.8em; font-weight: bold; line-height: 1; border-radius: 0.35em; vertical-align: middle; margin-left: 0.5rem\">PER</span>\n",
       "</mark>\n",
       " </br>Peu de personnes le savent. </br>Sous \n",
       "<mark class=\"entity\" style=\"background: #ddd; padding: 0.45em 0.6em; margin: 0 0.25em; line-height: 1; border-radius: 0.35em;\">\n",
       "    Louis XIV\n",
       "    <span style=\"font-size: 0.8em; font-weight: bold; line-height: 1; border-radius: 0.35em; vertical-align: middle; margin-left: 0.5rem\">PER</span>\n",
       "</mark>\n",
       " et sous \n",
       "<mark class=\"entity\" style=\"background: #ddd; padding: 0.45em 0.6em; margin: 0 0.25em; line-height: 1; border-radius: 0.35em;\">\n",
       "    Louis XV\n",
       "    <span style=\"font-size: 0.8em; font-weight: bold; line-height: 1; border-radius: 0.35em; vertical-align: middle; margin-left: 0.5rem\">PER</span>\n",
       "</mark>\n",
       ", la plus grande partie de \n",
       "<mark class=\"entity\" style=\"background: #ff9561; padding: 0.45em 0.6em; margin: 0 0.25em; line-height: 1; border-radius: 0.35em;\">\n",
       "    l'Amérique\n",
       "    <span style=\"font-size: 0.8em; font-weight: bold; line-height: 1; border-radius: 0.35em; vertical-align: middle; margin-left: 0.5rem\">LOC</span>\n",
       "</mark>\n",
       " du Nord appartenait à \n",
       "<mark class=\"entity\" style=\"background: #ff9561; padding: 0.45em 0.6em; margin: 0 0.25em; line-height: 1; border-radius: 0.35em;\">\n",
       "    la France\n",
       "    <span style=\"font-size: 0.8em; font-weight: bold; line-height: 1; border-radius: 0.35em; vertical-align: middle; margin-left: 0.5rem\">LOC</span>\n",
       "</mark>\n",
       ". </br>Dans ces possessions se trouvait le vaste territoire connu aujourd'hui sous la dénomination de \n",
       "<mark class=\"entity\" style=\"background: #ff9561; padding: 0.45em 0.6em; margin: 0 0.25em; line-height: 1; border-radius: 0.35em;\">\n",
       "    Canada\n",
       "    <span style=\"font-size: 0.8em; font-weight: bold; line-height: 1; border-radius: 0.35em; vertical-align: middle; margin-left: 0.5rem\">LOC</span>\n",
       "</mark>\n",
       " , jadis nommé : \n",
       "<mark class=\"entity\" style=\"background: #ff9561; padding: 0.45em 0.6em; margin: 0 0.25em; line-height: 1; border-radius: 0.35em;\">\n",
       "    Nouvelle-France\n",
       "    <span style=\"font-size: 0.8em; font-weight: bold; line-height: 1; border-radius: 0.35em; vertical-align: middle; margin-left: 0.5rem\">LOC</span>\n",
       "</mark>\n",
       ". </br>De nos mains, cette terre si riche passa dans celles des \n",
       "<mark class=\"entity\" style=\"background: #ff9561; padding: 0.45em 0.6em; margin: 0 0.25em; line-height: 1; border-radius: 0.35em;\">\n",
       "    Anglais\n",
       "    <span style=\"font-size: 0.8em; font-weight: bold; line-height: 1; border-radius: 0.35em; vertical-align: middle; margin-left: 0.5rem\">LOC</span>\n",
       "</mark>\n",
       ". </br>L'\n",
       "<mark class=\"entity\" style=\"background: #ff9561; padding: 0.45em 0.6em; margin: 0 0.25em; line-height: 1; border-radius: 0.35em;\">\n",
       "    Angleterre\n",
       "    <span style=\"font-size: 0.8em; font-weight: bold; line-height: 1; border-radius: 0.35em; vertical-align: middle; margin-left: 0.5rem\">LOC</span>\n",
       "</mark>\n",
       " en possède actuellement une minime partie qui constitue une de ses plus riches colonies. </br>Que si l'on cher</div>\n",
       "</figure>\n",
       "</body>\n",
       "</html></span>"
      ],
      "text/plain": [
       "<IPython.core.display.HTML object>"
      ]
     },
     "metadata": {},
     "output_type": "display_data"
    },
    {
     "name": "stdout",
     "output_type": "stream",
     "text": [
      "\n",
      "Using the 'ent' visualizer\n",
      "Serving on http://0.0.0.0:5000 ...\n",
      "\n",
      "Shutting down server on port 5000.\n"
     ]
    }
   ],
   "source": [
    "# Importer le visualiseur Displacy de Spacy\n",
    "from spacy import displacy\n",
    "\n",
    "\n",
    "\n",
    "\n",
    "doc =  nlp(text[:520])\n",
    "displacy.serve(doc,style=\"ent\")"
   ]
  },
  {
   "cell_type": "markdown",
   "id": "9c3b4f12",
   "metadata": {},
   "source": [
    "## Pour annoter les 5000 premiers tokens uniquement "
   ]
  },
  {
   "cell_type": "code",
   "execution_count": 63,
   "id": "fddf70fb",
   "metadata": {},
   "outputs": [],
   "source": [
    "\n",
    "liste_tok=[]\n",
    "ponctuations=[\".\",\",\",\"!\",\"?\",\":\",\";\"]\n",
    "for token in doc:\n",
    "    liste_tok.append(token.text)\n",
    "\n",
    "for tok in liste_tok[:5000]:\n",
    "#     if tok == \".\" or tok==\",\" or tok==\"!\" or tok==\"?\" or tok==\":\" or tok==\";\":\n",
    "    fichier = open(\"../corpus-REN_2023-2024/AIMARD_RIVIERE/AIMARD_belle-riviere_5000.txt\", \"a\")\n",
    "    fichier.write(tok+\" \")\n",
    "#     else:\n",
    "#         fichier = open(\"../corpus-REN_2023-2024/AIMARD_RIVIERE/AIMARD_belle-riviere_5000.txt\", \"a\")\n",
    "#         fichier.write(\" \"+tok)\n",
    "        \n",
    "# text_5000=    \n",
    "#     fichier = open(\"../corpus-REN_2023-2024/AIMARD_RIVIERE/AIMARD_belle-riviere_5000.txt\", \"a\")\n",
    "#     fichier.write(token.text)\n",
    "\n",
    "    \n",
    "\n",
    "    \n",
    "    "
   ]
  },
  {
   "cell_type": "markdown",
   "id": "efb65dce",
   "metadata": {},
   "source": [
    "## REN avec spaCy"
   ]
  },
  {
   "cell_type": "code",
   "execution_count": 64,
   "id": "7a775090",
   "metadata": {},
   "outputs": [
    {
     "name": "stdout",
     "output_type": "stream",
     "text": [
      "Temps d'exécution : 2.8ms\n",
      "{'Entité_0': {'entité': 'Première', 'label': 'MISC'}, 'Entité_1': {'entité': 'Le Fort Duquesne \\n I', 'label': 'MISC'}, 'Entité_2': {'entité': 'comte de Jumonville \\n ', 'label': 'PER'}, 'Entité_3': {'entité': 'Louis XIV', 'label': 'PER'}, 'Entité_4': {'entité': 'Louis XV', 'label': 'PER'}, 'Entité_5': {'entité': 'Amérique du Nord', 'label': 'LOC'}, 'Entité_6': {'entité': 'la France', 'label': 'LOC'}, 'Entité_7': {'entité': 'Canada', 'label': 'LOC'}, 'Entité_8': {'entité': 'Anglais', 'label': 'LOC'}, 'Entité_9': {'entité': 'Angleterre', 'label': 'LOC'}, 'Entité_10': {'entité': 'Mississipiens', 'label': 'LOC'}, 'Entité_11': {'entité': 'Voltaire', 'label': 'PER'}, 'Entité_12': {'entité': 'la France', 'label': 'LOC'}, 'Entité_13': {'entité': 'Canada', 'label': 'LOC'}, 'Entité_14': {'entité': 'Européens', 'label': 'LOC'}, 'Entité_15': {'entité': 'Indiens', 'label': 'LOC'}, 'Entité_16': {'entité': \"baie d' Hudson\", 'label': 'LOC'}, 'Entité_17': {'entité': 'golfe du Mexique', 'label': 'LOC'}, 'Entité_18': {'entité': 'la France', 'label': 'LOC'}, 'Entité_19': {'entité': 'Canada', 'label': 'LOC'}, 'Entité_20': {'entité': 'Amérique du Nord', 'label': 'LOC'}, 'Entité_21': {'entité': 'Tels', 'label': 'LOC'}, 'Entité_22': {'entité': 'Ferney', 'label': 'LOC'}, 'Entité_23': {'entité': 'la France', 'label': 'LOC'}, 'Entité_24': {'entité': 'Amérique', 'label': 'LOC'}, 'Entité_25': {'entité': 'Anglais', 'label': 'LOC'}, 'Entité_26': {'entité': 'Français', 'label': 'LOC'}, 'Entité_27': {'entité': 'Anglais', 'label': 'LOC'}, 'Entité_28': {'entité': 'Ohio', 'label': 'LOC'}, 'Entité_29': {'entité': 'Belle-Rivière', 'label': 'LOC'}, 'Entité_30': {'entité': 'Virginie', 'label': 'LOC'}, 'Entité_31': {'entité': 'Angleterre', 'label': 'LOC'}, 'Entité_32': {'entité': 'Indiens', 'label': 'LOC'}, 'Entité_33': {'entité': 'Canadiens', 'label': 'LOC'}, 'Entité_34': {'entité': 'Dinwidie', 'label': 'PER'}, 'Entité_35': {'entité': 'Virginie', 'label': 'LOC'}, 'Entité_36': {'entité': 'Ohio', 'label': 'LOC'}, 'Entité_37': {'entité': 'Washington', 'label': 'PER'}, 'Entité_38': {'entité': 'Washington', 'label': 'LOC'}, 'Entité_39': {'entité': 'Angleterre', 'label': 'LOC'}, 'Entité_40': {'entité': 'Ward', 'label': 'PER'}, 'Entité_41': {'entité': 'Ohio', 'label': 'LOC'}, 'Entité_42': {'entité': 'Français', 'label': 'LOC'}, 'Entité_43': {'entité': 'M. de Contrecœur', 'label': 'PER'}, 'Entité_44': {'entité': 'fort Duquesne', 'label': 'LOC'}, 'Entité_45': {'entité': 'Pittsbourg', 'label': 'LOC'}, 'Entité_46': {'entité': 'États-Unis', 'label': 'LOC'}, 'Entité_47': {'entité': 'M. de Contrecœur', 'label': 'PER'}, 'Entité_48': {'entité': 'comte de Jumonville', 'label': 'PER'}, 'Entité_49': {'entité': 'Français', 'label': 'LOC'}, 'Entité_50': {'entité': 'M. de Contrecœur', 'label': 'PER'}, 'Entité_51': {'entité': 'comte de Jumonville', 'label': 'PER'}, 'Entité_52': {'entité': 'Canadiens', 'label': 'LOC'}, 'Entité_53': {'entité': 'Canadien', 'label': 'LOC'}, 'Entité_54': {'entité': 'Capitaine', 'label': 'PER'}, 'Entité_55': {'entité': 'Jumonville', 'label': 'LOC'}, 'Entité_56': {'entité': 'Canadien', 'label': 'LOC'}, 'Entité_57': {'entité': 'Berger', 'label': 'LOC'}, 'Entité_58': {'entité': 'M. de Jumonville', 'label': 'PER'}, 'Entité_59': {'entité': 'Berger', 'label': 'LOC'}, 'Entité_60': {'entité': 'Canadien', 'label': 'LOC'}, 'Entité_61': {'entité': 'Berger', 'label': 'LOC'}, 'Entité_62': {'entité': 'Anglais', 'label': 'LOC'}, 'Entité_63': {'entité': 'Bois-Brûlés', 'label': 'LOC'}, 'Entité_64': {'entité': 'comte de Jumonville', 'label': 'PER'}, 'Entité_65': {'entité': 'Berger', 'label': 'LOC'}, 'Entité_66': {'entité': 'Voyons', 'label': 'PER'}, 'Entité_67': {'entité': 'Canadien', 'label': 'LOC'}, 'Entité_68': {'entité': 'Berger', 'label': 'LOC'}, 'Entité_69': {'entité': 'Faites excuse', 'label': 'ORG'}, 'Entité_70': {'entité': 'M. de Jumonville', 'label': 'PER'}, 'Entité_71': {'entité': 'Canadien', 'label': 'LOC'}, 'Entité_72': {'entité': 'Berger', 'label': 'PER'}, 'Entité_73': {'entité': 'Capitaine', 'label': 'PER'}, 'Entité_74': {'entité': 'brave Berger', 'label': 'PER'}, 'Entité_75': {'entité': 'Baste', 'label': 'PER'}, 'Entité_76': {'entité': 'Berger', 'label': 'LOC'}, 'Entité_77': {'entité': 'Berger', 'label': 'LOC'}, 'Entité_78': {'entité': 'comte de Jumonville', 'label': 'PER'}, 'Entité_79': {'entité': 'Normands', 'label': 'MISC'}, 'Entité_80': {'entité': 'Tes ancêtres', 'label': 'MISC'}, 'Entité_81': {'entité': 'Parle', 'label': 'PER'}, 'Entité_82': {'entité': 'Merci', 'label': 'PER'}, 'Entité_83': {'entité': 'Canadien', 'label': 'LOC'}, 'Entité_84': {'entité': 'Québec', 'label': 'LOC'}, 'Entité_85': {'entité': 'comtes de', 'label': 'MISC'}, 'Entité_86': {'entité': 'Jumonville', 'label': 'LOC'}, 'Entité_87': {'entité': 'Berger', 'label': 'PER'}, 'Entité_88': {'entité': 'Nous avons le temps', 'label': 'MISC'}, 'Entité_89': {'entité': 'Oh \\xa0 !', 'label': 'MISC'}, 'Entité_90': {'entité': 'Amérique', 'label': 'LOC'}, 'Entité_91': {'entité': 'Canadien', 'label': 'LOC'}, 'Entité_92': {'entité': 'comte de Jumonville', 'label': 'PER'}, 'Entité_93': {'entité': 'Berger', 'label': 'LOC'}, 'Entité_94': {'entité': 'Ah \\xa0 !', 'label': 'MISC'}, 'Entité_95': {'entité': 'Capitaine', 'label': 'PER'}, 'Entité_96': {'entité': 'Carignan', 'label': 'LOC'}, 'Entité_97': {'entité': 'Amérique', 'label': 'LOC'}, 'Entité_98': {'entité': 'Canadien', 'label': 'LOC'}, 'Entité_99': {'entité': 'Ah \\xa0 !', 'label': 'MISC'}, 'Entité_100': {'entité': 'Européens', 'label': 'LOC'}, 'Entité_101': {'entité': 'M. de Jumonville', 'label': 'PER'}, 'Entité_102': {'entité': 'Dis', 'label': 'PER'}, 'Entité_103': {'entité': 'Oh \\xa0 !', 'label': 'MISC'}, 'Entité_104': {'entité': 'grommela', 'label': 'LOC'}, 'Entité_105': {'entité': 'M. de Jumonville', 'label': 'PER'}, 'Entité_106': {'entité': \"Rêve d' enfant \\xa0 !\", 'label': 'PER'}, 'Entité_107': {'entité': 'Berger', 'label': 'LOC'}, 'Entité_108': {'entité': 'Berger', 'label': 'LOC'}, 'Entité_109': {'entité': 'Votre père', 'label': 'MISC'}, 'Entité_110': {'entité': 'Berger', 'label': 'PER'}, 'Entité_111': {'entité': 'Grognon', 'label': 'LOC'}, 'Entité_112': {'entité': 'Aucun', 'label': 'LOC'}, 'Entité_113': {'entité': 'Dieu', 'label': 'MISC'}, 'Entité_114': {'entité': 'En somme', 'label': 'MISC'}, 'Entité_115': {'entité': 'Ah \\xa0 !', 'label': 'MISC'}, 'Entité_116': {'entité': 'Berger', 'label': 'LOC'}, 'Entité_117': {'entité': 'Anglais', 'label': 'LOC'}, 'Entité_118': {'entité': 'Hein', 'label': 'PER'}, 'Entité_119': {'entité': 'Es - tu fou', 'label': 'LOC'}, 'Entité_120': {'entité': 'M. de Jumonville', 'label': 'PER'}, 'Entité_121': {'entité': 'Canadien', 'label': 'LOC'}, 'Entité_122': {'entité': 'Frye', 'label': 'PER'}, 'Entité_123': {'entité': 'Washington', 'label': 'PER'}, 'Entité_124': {'entité': 'Un parlementaire', 'label': 'MISC'}, 'Entité_125': {'entité': 'La guerre', 'label': 'MISC'}, 'Entité_126': {'entité': 'Europe', 'label': 'LOC'}, 'Entité_127': {'entité': 'Anglais', 'label': 'LOC'}, 'Entité_128': {'entité': 'Berger', 'label': 'LOC'}, 'Entité_129': {'entité': 'Anglais', 'label': 'LOC'}, 'Entité_130': {'entité': 'Injuste', 'label': 'MISC'}, 'Entité_131': {'entité': 'Respecte', 'label': 'MISC'}, 'Entité_132': {'entité': 'Ça', 'label': 'MISC'}, 'Entité_133': {'entité': 'Berger', 'label': 'LOC'}, 'Entité_134': {'entité': 'Dieu', 'label': 'MISC'}, 'Entité_135': {'entité': 'Va', 'label': 'PER'}, 'Entité_136': {'entité': 'Berger', 'label': 'PER'}, 'Entité_137': {'entité': 'Indien', 'label': 'LOC'}, 'Entité_138': {'entité': 'Indien', 'label': 'LOC'}, 'Entité_139': {'entité': 'Canadien', 'label': 'LOC'}, 'Entité_140': {'entité': 'Berger', 'label': 'LOC'}, 'Entité_141': {'entité': 'Indien', 'label': 'LOC'}, 'Entité_142': {'entité': 'Indien', 'label': 'LOC'}, 'Entité_143': {'entité': 'Canadien', 'label': 'LOC'}, 'Entité_144': {'entité': 'Où va Sans-Piste', 'label': 'LOC'}, 'Entité_145': {'entité': 'Berger', 'label': 'LOC'}, 'Entité_146': {'entité': 'Sans-Piste', 'label': 'PER'}, 'Entité_147': {'entité': 'Première', 'label': 'MISC'}, 'Entité_148': {'entité': 'Le Fort Duquesne', 'label': 'MISC'}, 'Entité_149': {'entité': 'I', 'label': 'LOC'}, 'Entité_150': {'entité': 'comte de Jumonville', 'label': 'PER'}, 'Entité_151': {'entité': 'Louis XIV', 'label': 'PER'}, 'Entité_152': {'entité': 'Louis XV', 'label': 'PER'}, 'Entité_153': {'entité': 'Amérique du Nord', 'label': 'LOC'}, 'Entité_154': {'entité': 'la France', 'label': 'LOC'}, 'Entité_155': {'entité': 'Canada', 'label': 'LOC'}, 'Entité_156': {'entité': 'Anglais', 'label': 'LOC'}, 'Entité_157': {'entité': 'Angleterre', 'label': 'LOC'}, 'Entité_158': {'entité': 'Mississipiens', 'label': 'LOC'}, 'Entité_159': {'entité': 'Voltaire', 'label': 'PER'}, 'Entité_160': {'entité': 'la France', 'label': 'LOC'}, 'Entité_161': {'entité': 'Canada', 'label': 'LOC'}, 'Entité_162': {'entité': 'Européens', 'label': 'LOC'}, 'Entité_163': {'entité': 'Indiens', 'label': 'LOC'}, 'Entité_164': {'entité': \"baie d ' Hudson\", 'label': 'LOC'}, 'Entité_165': {'entité': 'golfe du Mexique', 'label': 'LOC'}, 'Entité_166': {'entité': 'la France', 'label': 'LOC'}, 'Entité_167': {'entité': 'Canada', 'label': 'LOC'}, 'Entité_168': {'entité': 'Amérique du Nord', 'label': 'LOC'}, 'Entité_169': {'entité': 'Ferney', 'label': 'LOC'}, 'Entité_170': {'entité': 'la France', 'label': 'LOC'}, 'Entité_171': {'entité': 'Amérique', 'label': 'LOC'}, 'Entité_172': {'entité': 'Anglais', 'label': 'LOC'}, 'Entité_173': {'entité': 'Français', 'label': 'LOC'}, 'Entité_174': {'entité': 'Anglais', 'label': 'LOC'}, 'Entité_175': {'entité': 'Ohio', 'label': 'LOC'}, 'Entité_176': {'entité': 'Belle-Rivière', 'label': 'LOC'}, 'Entité_177': {'entité': 'Virginie', 'label': 'LOC'}, 'Entité_178': {'entité': 'Angleterre', 'label': 'LOC'}, 'Entité_179': {'entité': 'Indiens', 'label': 'LOC'}, 'Entité_180': {'entité': 'Jugeant', 'label': 'PER'}, 'Entité_181': {'entité': 'Canadiens', 'label': 'LOC'}, 'Entité_182': {'entité': 'Dinwidie', 'label': 'PER'}, 'Entité_183': {'entité': 'Virginie', 'label': 'LOC'}, 'Entité_184': {'entité': 'Ohio', 'label': 'LOC'}, 'Entité_185': {'entité': 'Washington', 'label': 'PER'}, 'Entité_186': {'entité': 'Washington', 'label': 'LOC'}, 'Entité_187': {'entité': 'Angleterre', 'label': 'LOC'}, 'Entité_188': {'entité': 'Ward', 'label': 'PER'}, 'Entité_189': {'entité': 'Ohio', 'label': 'LOC'}, 'Entité_190': {'entité': 'Français', 'label': 'LOC'}, 'Entité_191': {'entité': 'Contrecœur', 'label': 'PER'}, 'Entité_192': {'entité': 'fort Duquesne', 'label': 'LOC'}, 'Entité_193': {'entité': 'Pittsbourg', 'label': 'LOC'}, 'Entité_194': {'entité': 'États-Unis', 'label': 'LOC'}, 'Entité_195': {'entité': 'M. de Contrecœur', 'label': 'PER'}, 'Entité_196': {'entité': 'comte de Jumonville', 'label': 'PER'}, 'Entité_197': {'entité': 'M. de Jumonville', 'label': 'PER'}, 'Entité_198': {'entité': 'Français', 'label': 'LOC'}, 'Entité_199': {'entité': 'M. de Contrecœur', 'label': 'PER'}, 'Entité_200': {'entité': 'comte de Jumonville', 'label': 'PER'}, 'Entité_201': {'entité': 'Canadiens', 'label': 'LOC'}, 'Entité_202': {'entité': 'Canadien', 'label': 'LOC'}, 'Entité_203': {'entité': 'Capitaine \\xa0  !', 'label': 'PER'}, 'Entité_204': {'entité': 'M. de Jumonville', 'label': 'PER'}, 'Entité_205': {'entité': 'Canadien', 'label': 'LOC'}, 'Entité_206': {'entité': 'Berger \\xa0  !', 'label': 'PER'}, 'Entité_207': {'entité': 'M. de Jumonville', 'label': 'PER'}, 'Entité_208': {'entité': 'Berger', 'label': 'LOC'}, 'Entité_209': {'entité': 'Canadien', 'label': 'LOC'}, 'Entité_210': {'entité': 'Berger', 'label': 'LOC'}, 'Entité_211': {'entité': 'Anglais', 'label': 'LOC'}, 'Entité_212': {'entité': 'Bois-Brûlés', 'label': 'LOC'}, 'Entité_213': {'entité': 'comte de Jumonville', 'label': 'PER'}, 'Entité_214': {'entité': 'Berger', 'label': 'LOC'}, 'Entité_215': {'entité': 'Canadien', 'label': 'LOC'}, 'Entité_216': {'entité': 'Berger', 'label': 'LOC'}, 'Entité_217': {'entité': 'M. de Jumonville', 'label': 'PER'}, 'Entité_218': {'entité': 'Canadien', 'label': 'LOC'}, 'Entité_219': {'entité': 'Berger', 'label': 'PER'}, 'Entité_220': {'entité': 'Capitaine', 'label': 'PER'}, 'Entité_221': {'entité': 'brave Berger', 'label': 'PER'}, 'Entité_222': {'entité': 'Baste \\xa0  !', 'label': 'PER'}, 'Entité_223': {'entité': 'Berger', 'label': 'LOC'}, 'Entité_224': {'entité': 'Berger', 'label': 'LOC'}, 'Entité_225': {'entité': 'comte de Jumonville', 'label': 'PER'}, 'Entité_226': {'entité': 'Normands', 'label': 'MISC'}, 'Entité_227': {'entité': 'Tes ancêtres', 'label': 'MISC'}, 'Entité_228': {'entité': 'Canadien', 'label': 'LOC'}, 'Entité_229': {'entité': 'Québec', 'label': 'LOC'}, 'Entité_230': {'entité': 'comtes de', 'label': 'MISC'}, 'Entité_231': {'entité': 'Jumonville', 'label': 'LOC'}, 'Entité_232': {'entité': 'Berger', 'label': 'PER'}, 'Entité_233': {'entité': 'Nous avons le temps', 'label': 'MISC'}, 'Entité_234': {'entité': 'Amérique', 'label': 'LOC'}, 'Entité_235': {'entité': 'Canadien', 'label': 'LOC'}, 'Entité_236': {'entité': 'comte de Jumonville', 'label': 'PER'}, 'Entité_237': {'entité': 'Berger', 'label': 'LOC'}, 'Entité_238': {'entité': 'Capitaine', 'label': 'PER'}, 'Entité_239': {'entité': 'Carignan', 'label': 'LOC'}, 'Entité_240': {'entité': 'Amérique', 'label': 'LOC'}, 'Entité_241': {'entité': 'Canadien', 'label': 'LOC'}, 'Entité_242': {'entité': 'À quoi bon', 'label': 'MISC'}, 'Entité_243': {'entité': 'Européens', 'label': 'LOC'}, 'Entité_244': {'entité': 'apprendrez', 'label': 'LOC'}, 'Entité_245': {'entité': 'Crois - tu \\xa0  ', 'label': 'LOC'}, 'Entité_246': {'entité': 'M. de Jumonville', 'label': 'PER'}, 'Entité_247': {'entité': 'Dis', 'label': 'PER'}, 'Entité_248': {'entité': 'grommela', 'label': 'LOC'}, 'Entité_249': {'entité': 'M. de Jumonville', 'label': 'PER'}, 'Entité_250': {'entité': 'Berger', 'label': 'LOC'}, 'Entité_251': {'entité': 'Berger', 'label': 'LOC'}, 'Entité_252': {'entité': 'Berger', 'label': 'PER'}, 'Entité_253': {'entité': 'Grognon \\xa0  !', 'label': 'PER'}, 'Entité_254': {'entité': 'Nous sommes dans les mains', 'label': 'MISC'}, 'Entité_255': {'entité': 'Dieu', 'label': 'MISC'}, 'Entité_256': {'entité': 'Berger', 'label': 'LOC'}, 'Entité_257': {'entité': 'Anglais', 'label': 'LOC'}, 'Entité_258': {'entité': 'Hein', 'label': 'PER'}, 'Entité_259': {'entité': 'M. de Jumonville', 'label': 'PER'}, 'Entité_260': {'entité': 'Canadien', 'label': 'LOC'}, 'Entité_261': {'entité': 'Frye', 'label': 'PER'}, 'Entité_262': {'entité': 'Washington', 'label': 'LOC'}, 'Entité_263': {'entité': 'La guerre', 'label': 'MISC'}, 'Entité_264': {'entité': 'Europe', 'label': 'LOC'}, 'Entité_265': {'entité': 'Anglais', 'label': 'LOC'}, 'Entité_266': {'entité': 'Anglais', 'label': 'LOC'}, 'Entité_267': {'entité': 'Respecte', 'label': 'MISC'}, 'Entité_268': {'entité': 'Ça', 'label': 'MISC'}, 'Entité_269': {'entité': 'Berger', 'label': 'LOC'}, 'Entité_270': {'entité': 'Berger', 'label': 'PER'}, 'Entité_271': {'entité': 'Indien', 'label': 'LOC'}, 'Entité_272': {'entité': 'Indien', 'label': 'LOC'}, 'Entité_273': {'entité': 'Canadien', 'label': 'LOC'}}\n"
     ]
    },
    {
     "data": {
      "text/plain": [
       "'../corpus-REN_2023-2024/AIMARD_RIVIERE/AIMARD_belle-riviere_fr_core_news_sm.json'"
      ]
     },
     "execution_count": 64,
     "metadata": {},
     "output_type": "execute_result"
    }
   ],
   "source": [
    "import time\n",
    "\n",
    "start = time.time()\n",
    "dico_en={}\n",
    "path_5000=\"../ressources/ressources_TD8/DAUDET/DAUDET_TesseractFra-PNG/*.txt\"\n",
    "text_5000=read_text(path_5000)\n",
    "doc =  nlp(text_5000)\n",
    "i=0\n",
    "\n",
    "for ent in doc.ents:\n",
    "    n_ent=\"Entité_\"+str(i)\n",
    "    dico_en[n_ent]={}\n",
    "    dico_en[n_ent][\"entité\"]=ent.text\n",
    "    dico_en[n_ent][\"label\"]=ent.label_\n",
    "\n",
    "    i=i+1\n",
    "\n",
    "    \n",
    "\n",
    "\n",
    "end = time.time()\n",
    "elapsed = end - start\n",
    "\n",
    "print(f'Temps d\\'exécution : {elapsed:.2}ms')\n",
    "print(dico_en)\n",
    "stocker(f\"../../ressources/ressources_TD8/DAUDET/DAUDET_TesseractFra-PNG/DAUDET_petit-chose_TesseractFra-PNG.txt_{modele}.json\",dico_en)"
   ]
  },
  {
   "cell_type": "markdown",
   "id": "2dd8f9e9",
   "metadata": {},
   "source": [
    "# Évaluation"
   ]
  },
  {
   "cell_type": "markdown",
   "id": "b1d453bd",
   "metadata": {},
   "source": [
    "## Diagramme de Venn"
   ]
  },
  {
   "cell_type": "code",
   "execution_count": 3,
   "id": "7b03508d",
   "metadata": {},
   "outputs": [],
   "source": [
    "import re, glob, json\n",
    "import matplotlib.pyplot as plt\n",
    "from matplotlib_venn import venn2, venn2_circles\n",
    "import pandas as pd\n",
    "\n",
    "#Lire les fichiers json \n",
    "def read_json (chemin):\n",
    "    with open(chemin) as json_data: \n",
    "        data =json.load(json_data)\n",
    "    return data\n",
    "\n",
    "# Les fonctions suivantes ne sont pas utilisées dans le programme, mais pourraient être adaptées pour calculer et produire les diagrammes de Venn\n",
    "    \n",
    "# #calcul des diagrammes de Venn\n",
    "# def diagramme_venn(liste_en_pp, liste_en_ocr,ocr):\n",
    "#     font2 = {'size': 25} # use for labels\n",
    "#     plt.rc('font', **font2) # sets the default font \n",
    "#     plt.rcParams['text.color'] = 'black' # changes default text colour\n",
    "#     venn2([set(liste_en_pp), set(liste_en_ocr)],set_labels = ('EN Réf', 'EN %s'%ocr),set_colors=(\"darkgrey\", \"darkblue\"),alpha=0.5)\n",
    "\n",
    "#     venn2_circles(subsets=(set(liste_en_pp), set(liste_en_ocr)),linestyle=\"dotted\", linewidth=1) \n",
    "#     print(f\"Analyse de la version {ocr}\")     \n",
    "\n",
    "# #stockage des diagrammes de Venn au format png\n",
    "# def stocker_png(nom_fichier):\n",
    "#     plt.gcf().set_size_inches(12, 7)\n",
    "#     plt.subplots_adjust(left=0.03, right=0.8, top=0.9, bottom=0.1)\n",
    "#     plt.savefig(nom_fichier, dpi=300)\n",
    "#     plt.gcf()\n",
    "#    # plt.clf()\n",
    "#     return nom_fichier\n",
    " \n",
    "    \n",
    "\n",
    "\n"
   ]
  },
  {
   "cell_type": "code",
   "execution_count": 4,
   "id": "f6a77bca",
   "metadata": {},
   "outputs": [
    {
     "data": {
      "text/html": [
       "<div>\n",
       "<style scoped>\n",
       "    .dataframe tbody tr th:only-of-type {\n",
       "        vertical-align: middle;\n",
       "    }\n",
       "\n",
       "    .dataframe tbody tr th {\n",
       "        vertical-align: top;\n",
       "    }\n",
       "\n",
       "    .dataframe thead th {\n",
       "        text-align: right;\n",
       "    }\n",
       "</style>\n",
       "<table border=\"1\" class=\"dataframe\">\n",
       "  <thead>\n",
       "    <tr style=\"text-align: right;\">\n",
       "      <th></th>\n",
       "      <th>Token</th>\n",
       "      <th>LOC</th>\n",
       "      <th>PER</th>\n",
       "      <th>ORG</th>\n",
       "      <th>MISC</th>\n",
       "    </tr>\n",
       "  </thead>\n",
       "  <tbody>\n",
       "    <tr>\n",
       "      <th>0</th>\n",
       "      <td>Première</td>\n",
       "      <td>NaN</td>\n",
       "      <td>NaN</td>\n",
       "      <td>NaN</td>\n",
       "      <td>NaN</td>\n",
       "    </tr>\n",
       "    <tr>\n",
       "      <th>1</th>\n",
       "      <td>partie</td>\n",
       "      <td>NaN</td>\n",
       "      <td>NaN</td>\n",
       "      <td>NaN</td>\n",
       "      <td>NaN</td>\n",
       "    </tr>\n",
       "    <tr>\n",
       "      <th>2</th>\n",
       "      <td>--</td>\n",
       "      <td>NaN</td>\n",
       "      <td>NaN</td>\n",
       "      <td>NaN</td>\n",
       "      <td>NaN</td>\n",
       "    </tr>\n",
       "    <tr>\n",
       "      <th>3</th>\n",
       "      <td>Le</td>\n",
       "      <td>X</td>\n",
       "      <td>NaN</td>\n",
       "      <td>NaN</td>\n",
       "      <td>NaN</td>\n",
       "    </tr>\n",
       "    <tr>\n",
       "      <th>4</th>\n",
       "      <td>Fort</td>\n",
       "      <td>X</td>\n",
       "      <td>NaN</td>\n",
       "      <td>NaN</td>\n",
       "      <td>NaN</td>\n",
       "    </tr>\n",
       "    <tr>\n",
       "      <th>...</th>\n",
       "      <td>...</td>\n",
       "      <td>...</td>\n",
       "      <td>...</td>\n",
       "      <td>...</td>\n",
       "      <td>...</td>\n",
       "    </tr>\n",
       "    <tr>\n",
       "      <th>95</th>\n",
       "      <td>si</td>\n",
       "      <td>NaN</td>\n",
       "      <td>NaN</td>\n",
       "      <td>NaN</td>\n",
       "      <td>NaN</td>\n",
       "    </tr>\n",
       "    <tr>\n",
       "      <th>96</th>\n",
       "      <td>l'</td>\n",
       "      <td>NaN</td>\n",
       "      <td>NaN</td>\n",
       "      <td>NaN</td>\n",
       "      <td>NaN</td>\n",
       "    </tr>\n",
       "    <tr>\n",
       "      <th>97</th>\n",
       "      <td>on</td>\n",
       "      <td>NaN</td>\n",
       "      <td>NaN</td>\n",
       "      <td>NaN</td>\n",
       "      <td>NaN</td>\n",
       "    </tr>\n",
       "    <tr>\n",
       "      <th>98</th>\n",
       "      <td>cherche</td>\n",
       "      <td>NaN</td>\n",
       "      <td>NaN</td>\n",
       "      <td>NaN</td>\n",
       "      <td>NaN</td>\n",
       "    </tr>\n",
       "    <tr>\n",
       "      <th>99</th>\n",
       "      <td>une</td>\n",
       "      <td>NaN</td>\n",
       "      <td>NaN</td>\n",
       "      <td>NaN</td>\n",
       "      <td>NaN</td>\n",
       "    </tr>\n",
       "  </tbody>\n",
       "</table>\n",
       "<p>100 rows × 5 columns</p>\n",
       "</div>"
      ],
      "text/plain": [
       "       Token  LOC  PER  ORG MISC\n",
       "0   Première  NaN  NaN  NaN  NaN\n",
       "1     partie  NaN  NaN  NaN  NaN\n",
       "2         --  NaN  NaN  NaN  NaN\n",
       "3         Le    X  NaN  NaN  NaN\n",
       "4       Fort    X  NaN  NaN  NaN\n",
       "..       ...  ...  ...  ...  ...\n",
       "95        si  NaN  NaN  NaN  NaN\n",
       "96        l'  NaN  NaN  NaN  NaN\n",
       "97        on  NaN  NaN  NaN  NaN\n",
       "98   cherche  NaN  NaN  NaN  NaN\n",
       "99       une  NaN  NaN  NaN  NaN\n",
       "\n",
       "[100 rows x 5 columns]"
      ]
     },
     "metadata": {},
     "output_type": "display_data"
    },
    {
     "name": "stdout",
     "output_type": "stream",
     "text": [
      "{'Orléans', 'de', 'Virginie', 'Le', 'XV', 'Mexique', 'Canada', 'le', \"d'\", 'Hudson', 'Nord', 'Ohio', 'comte', 'Ferney', 'Fort', 'Duquesne', 'Marine', 'Louis', 'Royal', 'baie', 'du', 'France', 'Angleterre', 'Amérique', 'Voltaire', 'Nouvelle', '-', \"L'\", 'XIV', 'golfe', 'Jumonville', 'la', 'Belle-Rivière', \"l'\"}\n"
     ]
    }
   ],
   "source": [
    "#Récupérer les données dans le csv pour les mettres au format adéquat set\n",
    "df = pd.read_csv('../corpus-REN_2023-2024_output/AIMARD_RIVIERE/AIMARD_belle-riviere.txt_annot.csv',sep=\";\",on_bad_lines='skip')\n",
    "display(df[:100]) \n",
    "data_VT=set()\n",
    "\n",
    "data_loc=df.query(\"LOC=='X'\")\n",
    "data_per=df.query(\"PER=='X'\" )\n",
    "data_misc=df.query(\"MISC=='X'\" )\n",
    "data_org=df.query(\"ORG=='X'\" )\n",
    "liste_loc=list(data_loc.Token)\n",
    "# print(liste_loc)\n",
    "liste_per=list(data_per.Token)\n",
    "liste_misc=list(data_misc.Token)\n",
    "liste_org=list(data_org.Token)\n",
    "data_VT.update(liste_per+liste_org+liste_loc+liste_misc)\n",
    "print(data_VT)\n",
    "    "
   ]
  },
  {
   "cell_type": "code",
   "execution_count": 5,
   "id": "2aa93509",
   "metadata": {},
   "outputs": [
    {
     "name": "stdout",
     "output_type": "stream",
     "text": [
      "sm.json\n",
      "{'Un parlementaire', 'Capitaine \\xa0  !', 'Ça', 'Anglais', 'Nous sommes dans les mains', 'Ferney', 'Washington', 'Première', 'comte de Jumonville', 'États-Unis', 'Es - tu fou', 'Baste', 'Dis', 'Capitaine', 'Amérique du Nord', 'Où va Sans-Piste', 'Tes ancêtres', 'Dieu', 'Aucun', 'Tels', 'golfe du Mexique', 'apprendrez', 'comte de Jumonville \\n ', 'brave Berger', 'Crois - tu \\xa0  ', \"baie d ' Hudson\", \"Rêve d' enfant \\xa0 !\", 'Berger', 'En somme', 'Grognon \\xa0  !', 'Européens', 'Le Fort Duquesne \\n I', 'Dinwidie', 'Europe', 'Angleterre', 'I', 'Bois-Brûlés', 'Berger \\xa0  !', 'Grognon', 'M. de Contrecœur', 'Normands', 'fort Duquesne', 'la France', 'Nous avons le temps', 'Va', 'Baste \\xa0  !', 'Louis XIV', 'Pittsbourg', 'Hein', 'Respecte', 'Canadien', 'Canadiens', 'Amérique', 'Québec', 'Voyons', 'Jumonville', 'Jugeant', 'Parle', 'Indiens', 'Virginie', 'M. de Jumonville', 'Contrecœur', 'Votre père', 'Louis XV', 'Canada', 'Ah \\xa0 !', 'Ohio', 'Sans-Piste', 'À quoi bon', 'Mississipiens', 'Frye', 'Ward', 'Indien', 'Le Fort Duquesne', 'Faites excuse', 'grommela', 'Oh \\xa0 !', 'Voltaire', 'Merci', 'Français', 'Carignan', 'comtes de', 'Belle-Rivière', 'La guerre', 'Injuste', \"baie d' Hudson\"}\n",
      "Analyse de la version sm.json\n"
     ]
    },
    {
     "data": {
      "image/png": "[encoded data removed]",
      "text/plain": [
       "<Figure size 640x480 with 1 Axes>"
      ]
     },
     "metadata": {},
     "output_type": "display_data"
    },
    {
     "name": "stdout",
     "output_type": "stream",
     "text": [
      "lg.json\n",
      "{'Un parlementaire', 'Capitaine \\xa0  !', 'Ça', 'Nouvelle - France', 'Anglais', 'Nous sommes dans les mains', 'Ferney', 'Est', 'Washington', 'Première', 'comte de Jumonville', 'États-Unis', 'Es - tu fou', 'Baste', 'Dis', 'Capitaine', 'Amérique du Nord', 'Où va Sans-Piste', 'Tes ancêtres', 'Dieu', 'Aucun', 'Tels', 'golfe du Mexique', 'apprendrez', 'comte de Jumonville \\n ', 'brave Berger', 'Crois - tu \\xa0  ', \"baie d ' Hudson\", \"Rêve d' enfant \\xa0 !\", 'Berger', 'En somme', 'Grognon \\xa0  !', 'Nouvelle - Orléans', 'Européens', 'Le Fort Duquesne \\n I', 'le Peau', 'Dinwidie', 'Europe', 'Angleterre', 'Capitaine \\xa0 !', 'I', 'Bois-Brûlés', 'Berger \\xa0  !', 'Grognon', 'M. de Contrecœur', 'Normands', 'fort Duquesne', 'la France', 'Nous avons le temps', 'bon Berger', 'Michel - Ange', 'Va', 'Baste \\xa0  !', 'Louis XIV', 'Pittsbourg', 'Hein', 'Respecte', 'Canadien', 'Canadiens', 'Amérique', 'Québec', 'Voyons', 'comtes de Jumonville', 'Jumonville', 'Agis', 'Jugeant', 'Parle', 'Indiens', 'Virginie', 'M. de Jumonville', 'colonel Frye', 'Contrecœur', 'Votre père', 'Louis XV', 'Canada', 'Ah \\xa0 !', 'Ohio', 'Sans-Piste', 'À quoi bon', 'Mississipiens', 'Frye', 'Ward', 'Indien', 'Le Fort Duquesne', 'Faites excuse', 'grommela', 'Oh \\xa0 !', 'Royal - Marine', 'Voltaire', 'Merci', 'Fort Duquesne \\n I', 'Français', 'Carignan', 'comtes de', 'Peaux - Rouges', 'Belle-Rivière', 'La guerre', 'Injuste', \"baie d' Hudson\"}\n",
      "Analyse de la version lg.json\n"
     ]
    },
    {
     "data": {
      "image/png": "[encoded data removed]",
      "text/plain": [
       "<Figure size 640x480 with 1 Axes>"
      ]
     },
     "metadata": {},
     "output_type": "display_data"
    }
   ],
   "source": [
    "#Stockage dans une liste des données récupérées depuis le dictionnaire stocké dans le fichier .json  \n",
    "\n",
    "liste_vers=[]\n",
    "liste_entite=[]\n",
    "path_data= \"../corpus-REN_2023-2024_output/AIMARD_RIVIERE/*.json\"\n",
    "for path in glob.glob(path_data):\n",
    "    data=read_json(path)\n",
    "    \n",
    "    vers=path.split(\"/\")[3]\n",
    "    vers=vers.split(\"_\")[-1]\n",
    "    print(vers)\n",
    "    \n",
    "    for k, ssdic in data.items():\n",
    "#         print(ssdic)\n",
    "        for meta, val in ssdic.items():\n",
    "#             print(meta)\n",
    "            if meta==\"entité\":\n",
    "#                 print(val)\n",
    "                liste_entite.append(val)\n",
    "    print(set(liste_entite))\n",
    "    font2 = {'size': 25} # use for labels\n",
    "    plt.rc('font', **font2) # sets the default font \n",
    "    plt.rcParams['text.color'] = 'black' # changes default text colour\n",
    "    venn2([data_VT, set(liste_entite)],set_labels = ('EN Réf', 'EN %s'%vers),set_colors=(\"darkgrey\", \"darkblue\"),alpha=0.5)\n",
    "\n",
    "    venn2_circles(subsets=(data_VT, set(liste_entite)),linestyle=\"dotted\", linewidth=1) \n",
    "    print(f\"Analyse de la version {vers}\")\n",
    "    plt.savefig(f\"../corpus-REN_2023-2024/AIMARD_RIVIERE/AIMARD_RIVIERE_intersection_{vers}.png\", dpi=300)\n",
    "    plt.show()\n",
    "            \n",
    "    \n"
   ]
  },
  {
   "cell_type": "markdown",
   "id": "a5475125",
   "metadata": {},
   "source": [
    "## Distances cosinus "
   ]
  },
  {
   "cell_type": "code",
   "execution_count": 8,
   "id": "e609005e",
   "metadata": {},
   "outputs": [
    {
     "name": "stdout",
     "output_type": "stream",
     "text": [
      "[[0.         0.10233173]\n",
      " [0.10233173 0.        ]]\n",
      "[0.10233173147461505]\n"
     ]
    }
   ],
   "source": [
    "import sklearn\n",
    "from sklearn.neighbors import DistanceMetric\n",
    "from sklearn.feature_extraction.text import CountVectorizer\n",
    "liste_vecteur=[]\n",
    "V = CountVectorizer(ngram_range=(2,3), analyzer='char') \n",
    "X = V.fit_transform([str(data_VT),str(liste_entite)]).toarray()\n",
    "distance_tab1=sklearn.metrics.pairwise.cosine_distances(X) # Distance avec cosinus\n",
    "print(distance_tab1)            \n",
    "liste_vecteur.append(distance_tab1[0][1])\n",
    "print(liste_vecteur)"
   ]
  },
  {
   "cell_type": "code",
   "execution_count": null,
   "id": "5120aba0",
   "metadata": {},
   "outputs": [],
   "source": []
  }
 ],
 "metadata": {
  "kernelspec": {
   "display_name": "Python 3 (ipykernel)",
   "language": "python",
   "name": "python3"
  },
  "language_info": {
   "codemirror_mode": {
    "name": "ipython",
    "version": 3
   },
   "file_extension": ".py",
   "mimetype": "text/x-python",
   "name": "python",
   "nbconvert_exporter": "python",
   "pygments_lexer": "ipython3",
   "version": "3.9.7"
  }
 },
 "nbformat": 4,
 "nbformat_minor": 5
}
