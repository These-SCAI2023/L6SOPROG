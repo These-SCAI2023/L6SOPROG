{
 "cells": [
  {
   "cell_type": "code",
   "execution_count": 37,
   "metadata": {},
   "outputs": [],
   "source": [
    "import glob\n",
    "liste_docs = glob.glob(\"../data/*\")"
   ]
  },
  {
   "cell_type": "code",
   "execution_count": 38,
   "metadata": {},
   "outputs": [
    {
     "name": "stdout",
     "output_type": "stream",
     "text": [
      "../data/et_pg44217.txt\n",
      "../data/fi.txt\n",
      "../data/it_gut.txt\n",
      "../data/en_4300-0.txt\n",
      "../data/pl_gut.txt\n",
      "../data/fr_13846-0.txt\n"
     ]
    }
   ],
   "source": [
    "def lire_fichier(chemin):#input: chein d'un fichier\n",
    "    f = open(chemin)\n",
    "    chaine = f.read()\n",
    "    f.close()\n",
    "    return chaine#en sortie le contenu du fichier sous forme de chaîne de caractères\n",
    "\n",
    "import re\n",
    "\n",
    "dic_langues = {}\n",
    "for chemin in liste_docs:\n",
    "    print(chemin)\n",
    "    #lire fichier: input: chemin, output:chaine\n",
    "    contenu = lire_fichier(chemin)\n",
    "    \n",
    "    nom_fichier = re.split(\"/\", chemin )[-1]#Windows re.split(\"\\\\\", chemin) ou\"\\\\\\\\\"\"\n",
    "    nom_lg = nom_fichier[:2]\n",
    "    \n",
    "    dic = {}\n",
    "    cpt = 0\n",
    "    for car in contenu:\n",
    "        if car not in dic:\n",
    "            dic[car] = 0\n",
    "        dic[car] +=1\n",
    "    for ponctuation in [\" \", \",\", \"\\n\", \"\\t\", \"-\"]:\n",
    "        if ponctuation in dic:\n",
    "            del dic[ponctuation]\n",
    "    liste_tri = []\n",
    "    for caractere, effectif in dic.items():\n",
    "        liste_tri.append([effectif, caractere])\n",
    "    dic_langues[nom_lg] = sorted(liste_tri)\n"
   ]
  },
  {
   "cell_type": "code",
   "execution_count": 39,
   "metadata": {
    "scrolled": true
   },
   "outputs": [
    {
     "name": "stdout",
     "output_type": "stream",
     "text": [
      "et\tfi\tit\ten\tpl\tfr\n",
      "--------------------------------------------------\n",
      "e\ta\te\te\te\te\n",
      "a\ti\ti\tt\ta\ts\n",
      "i\tt\ta\ta\ti\tn\n",
      "s\te\to\to\to\tt\n",
      "t\tn\tn\tn\tn\ti\n",
      "u\ts\tr\ti\tz\tu\n",
      "n\to\tt\ts\tr\tr\n",
      "o\tl\tl\tr\tt\ta\n",
      "l\tu\ts\th\ts\to\n"
     ]
    }
   ],
   "source": [
    "liste_langues = dic_langues.keys()\n",
    "print(\"\\t\".join(liste_langues))\n",
    "print(\"-\"*50)\n",
    "\n",
    "for cpt in range(1,10):\n",
    "    l=[]\n",
    "    for lang in liste_langues:\n",
    "        car_freq = dic_langues[lang][-cpt][1]\n",
    "        l.append(car_freq)\n",
    "    print(\"\\t\".join(l))\n"
   ]
  },
  {
   "cell_type": "code",
   "execution_count": null,
   "metadata": {},
   "outputs": [],
   "source": []
  },
  {
   "cell_type": "code",
   "execution_count": null,
   "metadata": {},
   "outputs": [],
   "source": []
  }
 ],
 "metadata": {
  "kernelspec": {
   "display_name": "Python 3",
   "language": "python",
   "name": "python3"
  },
  "language_info": {
   "codemirror_mode": {
    "name": "ipython",
    "version": 3
   },
   "file_extension": ".py",
   "mimetype": "text/x-python",
   "name": "python",
   "nbconvert_exporter": "python",
   "pygments_lexer": "ipython3",
   "version": "3.7.5"
  }
 },
 "nbformat": 4,
 "nbformat_minor": 2
}
