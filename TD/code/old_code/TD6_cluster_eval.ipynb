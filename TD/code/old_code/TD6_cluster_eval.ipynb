{
 "cells": [
  {
   "cell_type": "code",
   "execution_count": 40,
   "metadata": {},
   "outputs": [
    {
     "name": "stdout",
     "output_type": "stream",
     "text": [
      "['A', 'D', 'B', 'B', 'D', 'D', 'B', 'B', 'B', 'B', 'A', 'D', 'B', 'B', 'B', 'C', 'A', 'C', 'A', 'C', 'D', 'B', 'D', 'C', 'C']\n"
     ]
    }
   ],
   "source": [
    "import random\n",
    "classes = [\"A\", \"B\", \"C\", \"D\"]\n",
    "y_test = []\n",
    "for i in range(25):\n",
    "    pos = random.randint(0, len(classes)-1)\n",
    "    y_test.append(classes[pos])\n",
    "print(y_test)"
   ]
  },
  {
   "cell_type": "code",
   "execution_count": 2,
   "metadata": {},
   "outputs": [
    {
     "name": "stdout",
     "output_type": "stream",
     "text": [
      "[[10, 15, 17, 21], [0, 4, 5, 11, 12, 14, 16, 23], [1, 6, 7, 9, 24], [2, 3, 8, 13, 18, 19, 20, 22]]\n",
      "[1, 2, 3, 3, 1, 1, 2, 2, 3, 2, 0, 1, 1, 3, 1, 0, 1, 0, 3, 3, 3, 0, 3, 1, 2]\n"
     ]
    }
   ],
   "source": [
    "clust = [[],[],[],[]]\n",
    "y_pred = []\n",
    "for i in range(25):\n",
    "    num_clust = random.randint(0, len(clust)-1)\n",
    "    clust[num_clust].append(i)\n",
    "    y_pred.append(num_clust)\n",
    "print(clust)\n",
    "print(y_pred)"
   ]
  },
  {
   "cell_type": "code",
   "execution_count": 50,
   "metadata": {},
   "outputs": [],
   "source": [
    "def associer_cluster_classes(y_pred, y_test):\n",
    "  import numpy\n",
    "  from sklearn.metrics.cluster import contingency_matrix\n",
    "  matrice1 = contingency_matrix(y_pred, y_test)\n",
    "  matrice =  [numpy.ndarray.tolist(l) for l in matrice1]\n",
    "  dic_clusters = {}\n",
    "  while len(dic_clusters)<len(matrice):\n",
    "    for cpt, ligne in enumerate(matrice):\n",
    "      m = max(ligne)\n",
    "      nb = ligne.count(m)\n",
    "      if m == numpy.amax(matrice):\n",
    "        pos = ligne.index(m)\n",
    "        if cpt not in dic_clusters:\n",
    "          dic_clusters[cpt] = pos\n",
    "          matrice[cpt] = [0, 0, 0, 0]\n",
    "          for i in range(len(matrice)):\n",
    "            matrice[i][pos]=0\n",
    "  return dic_clusters, matrice1"
   ]
  },
  {
   "cell_type": "code",
   "execution_count": 51,
   "metadata": {},
   "outputs": [
    {
     "name": "stdout",
     "output_type": "stream",
     "text": [
      "[[1 1 2 0]\n",
      " [2 2 1 3]\n",
      " [0 3 1 1]\n",
      " [1 4 1 2]]\n",
      "{'C': {'Rappel': 0.4, 'Précision': 0.5, 'F-mesure': 0.4444}, 'D': {'Rappel': 0.5, 'Précision': 0.375, 'F-mesure': 0.4286}, 'A': {'Rappel': 0, 'Précision': 0, 'F-mesure': 0}, 'B': {'Rappel': 0.4, 'Précision': 0.5, 'F-mesure': 0.4444}}\n"
     ]
    }
   ],
   "source": [
    "def evaluer_clustering(nom_classes, y_pred, y_test):\n",
    "  dic_classes = {classe:cpt for cpt, classe in enumerate(nom_classes)}\n",
    "  y_test = [dic_classes[x] for x in y_test]\n",
    "  dic_clusters, matrice= associer_cluster_classes(y_pred, y_test)\n",
    "  print(matrice)\n",
    "  dic= {}\n",
    "  for num_cluster, ligne in enumerate(matrice):\n",
    "    num_classe = dic_clusters[num_cluster]\n",
    "    VP = ligne[num_classe]\n",
    "    FP = sum(ligne)-VP\n",
    "    L =[ x[num_classe] for x in matrice]\n",
    "    FN = sum(L)-VP\n",
    "    if VP!=0:\n",
    "      R = VP/(VP+FN)\n",
    "      P = VP/(VP+FP)\n",
    "      beta = 1\n",
    "      F = (1+beta*beta)*(P*R)/((beta*beta*P)+R)\n",
    "    else:\n",
    "      R, P, F =0, 0, 0\n",
    "    resultats = {\"Rappel\":round(R, 4), \"Précision\":round(P, 4), \"F-mesure\":round(F,4)}\n",
    "    dic[nom_classes[num_classe]] = resultats\n",
    "  return dic\n",
    "\n",
    "classes = [\"A\", \"B\", \"C\", \"D\"]\n",
    "## la liste des noms de classes\n",
    "y_test = ['A', 'D', 'B', 'B', 'D', 'D', 'B', 'B', 'B', 'B', 'A',\n",
    "          'D', 'B', 'B', 'B', 'C', 'A', 'C', 'A', 'C', 'D', 'B', 'D', 'C', 'C']\n",
    "##y_test la liste des étiquettes de chaque document\n",
    "y_pred =[1, 2, 3, 3, 1, 1, 2, 2, 3, 2, 0, 1, 1, 3, 1, 0, 1, 0, 3, 3, 3, 0, 3, 1, 2]\n",
    "##y_pred : la liste des clusters de chaque document\n",
    "d = evaluer_clustering(classes, y_pred, y_test)\n",
    "## dé donne pour chaque classe l'évaluation\n",
    "print(d)"
   ]
  },
  {
   "cell_type": "code",
   "execution_count": null,
   "metadata": {
    "collapsed": true
   },
   "outputs": [],
   "source": []
  }
 ],
 "metadata": {
  "kernelspec": {
   "display_name": "Python 3",
   "language": "python",
   "name": "python3"
  },
  "language_info": {
   "codemirror_mode": {
    "name": "ipython",
    "version": 3
   },
   "file_extension": ".py",
   "mimetype": "text/x-python",
   "name": "python",
   "nbconvert_exporter": "python",
   "pygments_lexer": "ipython3",
   "version": "3.7.5"
  }
 },
 "nbformat": 4,
 "nbformat_minor": 2
}
