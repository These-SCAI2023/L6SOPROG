{
 "cells": [
  {
   "cell_type": "code",
   "execution_count": 60,
   "metadata": {},
   "outputs": [],
   "source": [
    "def associer_cluster_classes(y_pred, y_test):\n",
    "  \"\"\"\n",
    "  En entrée : la liste des prédictions (y_pred) et la liste des étiquettes attendues (y_test)\n",
    "  En sortie : une dictionnaire qui associe chaque cluster la classe qui amximise les vrais positifs\n",
    "  \"\"\"\n",
    "  import numpy\n",
    "  from sklearn.metrics.cluster import contingency_matrix\n",
    "  matrice1 = contingency_matrix(y_pred, y_test)\n",
    "  matrice =  [numpy.ndarray.tolist(l) for l in matrice1]# pour manipuler la matrice comme une liste de liste\n",
    "  dic_clusters = {}\n",
    "  while len(dic_clusters)<len(matrice):#tant qu'on n'a pas associé tous les clusters à une classe (y_test)\n",
    "    for cpt, ligne in enumerate(matrice):\n",
    "      m = max(ligne)# on cherche la plus grande valeur pour chaque cluster\n",
    "      if m == numpy.amax(matrice):#si cette valeur correspond à la plus grande valeur de la matrice\n",
    "        if m==0:#la matrice est vide, on associe les clusters restants aux classes restantes\n",
    "          clusters_left = [x for x in range(len(matrice)) if x not in dic_clusters.keys()]\n",
    "          classes_left = [x for x in range(len(matrice)) if x not in dic_clusters.values()]\n",
    "          for cpt, x in enumerate(clusters_left):\n",
    "            dic_clusters[x] = classes_left[cpt]\n",
    "        pos = ligne.index(m)\n",
    "        if cpt not in dic_clusters:#et si on a pas encore associé ce cluster à une classe\n",
    "          dic_clusters[cpt] = pos\n",
    "          matrice[cpt] = [0 for x in matrice[cpt]]#on \"efface\" la ligne, le cluster est désormais associé à une classe\n",
    "          for i in range(len(matrice)):\n",
    "            matrice[i][pos]=0 #on efface aussi la colonne, la classe est désormais associée à un cluster\n",
    "  return dic_clusters, matrice1"
   ]
  },
  {
   "cell_type": "code",
   "execution_count": 63,
   "metadata": {},
   "outputs": [],
   "source": [
    "def evaluer_clustering(nom_classes, y_pred, y_test):\n",
    "  \"\"\"\n",
    "  On va évaluer le clustering pour chaque classe\n",
    "  En entrée : le nom des classes, la prédiction et la vérité de terrain\n",
    "  En sortie : pour chaque classe, Rappel Précision et F-mesure + association clusters et classes\n",
    "  \"\"\"\n",
    "  # Pour chaque nom de classe on donne un identifiant numérique\n",
    "  dic_classes = {classe:cpt for cpt, classe in enumerate(nom_classes)}\n",
    "  # Avec cet identifiant, on \"traduit\" le nom de la classe\n",
    "  y_test = [dic_classes[x] for x in y_test]\n",
    "  #Come cela on peut comparer la prédiction et la vérité (toutes deux sont sous forme de chiffres)\n",
    "  dic_clusters, matrice= associer_cluster_classes(y_pred, y_test)\n",
    "  dic= {}# Pour passer à l'évaluation proprement dite :\n",
    "  for num_cluster, ligne in enumerate(matrice):\n",
    "    num_classe = dic_clusters[num_cluster]#la classe associée au cluster\n",
    "    VP = ligne[num_classe]#le nombre d'élemenst en commun entre la classe et le cluster\n",
    "    FP = sum(ligne)-VP #le reste de la ligne ce sont des faux positifs -> ne devraient pas être dans ce cluster\n",
    "    L =[ x[num_classe] for x in matrice]\n",
    "    FN = sum(L)-VP#le reste de la colone ce sont des faux négatifs -> devraient être dans ce cluster\n",
    "    if VP!=0:\n",
    "      R = VP/(VP+FN)\n",
    "      P = VP/(VP+FP)\n",
    "      beta = 1\n",
    "      F = (1+beta*beta)*(P*R)/((beta*beta*P)+R)\n",
    "    else:\n",
    "      R, P, F =0, 0, 0\n",
    "    resultats = {\"Rappel\":round(R, 4), \"Précision\":round(P, 4), \"F-mesure\":round(F,4)}\n",
    "    dic[nom_classes[num_classe]] = resultats \n",
    "  # On transforme dic_clusters pour donner les vrais noms des classes en sortie\n",
    "  dic_clusters= {num_cluster : nom_classes[num_classe] for num_cluster, num_classe in dic_clusters.items()}\n",
    "  return {\"Résultats\":dic, \"dic_clusters\":dic_clusters}\n"
   ]
  },
  {
   "cell_type": "code",
   "execution_count": 64,
   "metadata": {},
   "outputs": [
    {
     "name": "stdout",
     "output_type": "stream",
     "text": [
      "{2: 'B', 1: 'C', 0: 'A', 3: 'D'}\n",
      "A {'Rappel': 0.5, 'Précision': 1.0, 'F-mesure': 0.6667}\n",
      "C {'Rappel': 1.0, 'Précision': 0.4, 'F-mesure': 0.5714}\n",
      "B {'Rappel': 0.5, 'Précision': 0.75, 'F-mesure': 0.6}\n",
      "D {'Rappel': 0, 'Précision': 0, 'F-mesure': 0}\n"
     ]
    }
   ],
   "source": [
    "## la liste des noms de classes:\n",
    "classes = [\"A\", \"B\", \"C\", \"D\"]\n",
    "\n",
    "##y_test la liste des étiquettes de chaque document\n",
    "y_test = ['A', 'D', 'B', 'B', 'D', 'D', 'B', 'B', 'B', 'B', 'A', \"C\", \"C\"]\n",
    "\n",
    "##y_pred : la liste des clusters attrivués à chaque document\n",
    "y_pred = [  1,   2,   3,   3,   1,   1,   2,   2,   3,   2,   0,   1,   1]\n",
    "\n",
    "## dico donne pour chaque classe l'évaluation (\"Résultats\") et associe clusters et classes\n",
    "dico = evaluer_clustering(classes, y_pred, y_test)\n",
    "print(dico[\"dic_clusters\"])\n",
    "for nom_classe, res in dico[\"Résultats\"].items():\n",
    "    print(nom_classe, res)"
   ]
  },
  {
   "cell_type": "code",
   "execution_count": null,
   "metadata": {},
   "outputs": [],
   "source": []
  }
 ],
 "metadata": {
  "kernelspec": {
   "display_name": "Python 3",
   "language": "python",
   "name": "python3"
  },
  "language_info": {
   "codemirror_mode": {
    "name": "ipython",
    "version": 3
   },
   "file_extension": ".py",
   "mimetype": "text/x-python",
   "name": "python",
   "nbconvert_exporter": "python",
   "pygments_lexer": "ipython3",
   "version": "3.7.5"
  }
 },
 "nbformat": 4,
 "nbformat_minor": 2
}
