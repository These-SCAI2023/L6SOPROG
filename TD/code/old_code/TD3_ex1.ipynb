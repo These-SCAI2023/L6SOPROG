{
 "cells": [
  {
   "cell_type": "code",
   "execution_count": 18,
   "metadata": {},
   "outputs": [],
   "source": [
    "def lire_fichier(chemin):\n",
    "    f = open(chemin, encoding=\"utf-8\")\n",
    "    chaine = f.read()\n",
    "    f.close()\n",
    "    return chaine\n",
    "import glob, re"
   ]
  },
  {
   "cell_type": "code",
   "execution_count": 33,
   "metadata": {},
   "outputs": [
    {
     "name": "stdout",
     "output_type": "stream",
     "text": [
      "./data/et_pg44217.txt\n",
      "et\n",
      "./data/fi.txt\n",
      "fi\n",
      "./data/it_gut.txt\n",
      "it\n",
      "./data/en_4300-0.txt\n",
      "en\n",
      "./data/pl_gut.txt\n",
      "pl\n",
      "./data/fr_13846-0.txt\n",
      "fr\n",
      "dict_keys(['et', 'fi', 'it', 'en', 'pl', 'fr'])\n"
     ]
    }
   ],
   "source": [
    "dic_langues = {}\n",
    "for chemin in glob.glob(\"./data/*\"):\n",
    "    \n",
    "    print(chemin)\n",
    "    chaine = lire_fichier(chemin)\n",
    "    nom_fichier = re.split(\"/\", chemin)[-1]\n",
    "    nom_langue = nom_fichier[:2]\n",
    "    print(nom_langue)\n",
    "    dic_caracteres = {}\n",
    "    for carac in chaine:\n",
    "        if carac not in dic_caracteres:\n",
    "            dic_caracteres[carac]=1\n",
    "        else:\n",
    "            dic_caracteres[carac]+=1\n",
    "    #print(dic_caracteres)\n",
    "    for ponctuation in [\" \", \",\", \"’\", \":\", \"\\n\"]:\n",
    "        if ponctuation in dic_caracteres:\n",
    "            del dic_caracteres[ponctuation]\n",
    "    liste_tri = []\n",
    "    for caractere, effectif in dic_caracteres.items():\n",
    "        liste_tri.append([effectif, caractere])\n",
    "    liste_tri = sorted(liste_tri)\n",
    "    dic_langues[nom_langue] = liste_tri\n",
    "    #print(liste_tri)\n",
    "    #break\n",
    "print(dic_langues.keys())"
   ]
  },
  {
   "cell_type": "code",
   "execution_count": 42,
   "metadata": {},
   "outputs": [],
   "source": [
    "liste_langues = dic_langues.keys()"
   ]
  },
  {
   "cell_type": "code",
   "execution_count": 44,
   "metadata": {},
   "outputs": [
    {
     "name": "stdout",
     "output_type": "stream",
     "text": [
      "et\tfi\tit\ten\tpl\tfr\n",
      "--------------------------------------------------\n",
      "e\ta\te\te\te\te\n",
      "a\ti\ti\tt\ta\ts\n",
      "i\tt\ta\ta\t-\tn\n",
      "s\te\to\to\ti\tt\n",
      "t\tn\tn\tn\to\ti\n",
      "u\ts\tr\ti\tn\tu\n",
      "n\to\tt\ts\tz\tr\n",
      "o\tl\tl\tr\tr\ta\n",
      "l\tu\ts\th\tt\to\n"
     ]
    }
   ],
   "source": [
    "print(\"\\t\".join(liste_langues))\n",
    "print(\"-\"*50)\n",
    "for cpt in range(1,10):\n",
    "    l = []\n",
    "    for langue in liste_langues:\n",
    "        l.append(dic_langues[langue][-cpt][1])\n",
    "    print (\"\\t\".join(l))"
   ]
  },
  {
   "cell_type": "code",
   "execution_count": null,
   "metadata": {},
   "outputs": [],
   "source": []
  }
 ],
 "metadata": {
  "kernelspec": {
   "display_name": "Python 3",
   "language": "python",
   "name": "python3"
  },
  "language_info": {
   "codemirror_mode": {
    "name": "ipython",
    "version": 3
   },
   "file_extension": ".py",
   "mimetype": "text/x-python",
   "name": "python",
   "nbconvert_exporter": "python",
   "pygments_lexer": "ipython3",
   "version": "3.7.5"
  }
 },
 "nbformat": 4,
 "nbformat_minor": 2
}
