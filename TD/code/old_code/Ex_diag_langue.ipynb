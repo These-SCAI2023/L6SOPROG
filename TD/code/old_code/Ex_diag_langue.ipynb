{
 "cells": [
  {
   "cell_type": "code",
   "execution_count": 4,
   "metadata": {},
   "outputs": [
    {
     "name": "stdout",
     "output_type": "stream",
     "text": [
      "['./corpus_multi/en', './corpus_multi/et', './corpus_multi/it', './corpus_multi/mt', './corpus_multi/pt', './corpus_multi/sk', './corpus_multi/sl', './corpus_multi/bg', './corpus_multi/es', './corpus_multi/da', './corpus_multi/nl', './corpus_multi/lt', './corpus_multi/hu', './corpus_multi/pl', './corpus_multi/fr', './corpus_multi/fi', './corpus_multi/lv', './corpus_multi/el', './corpus_multi/ro', './corpus_multi/sv', './corpus_multi/de', './corpus_multi/cs']\n"
     ]
    }
   ],
   "source": [
    "import  glob\n",
    "print(glob.glob(\"./corpus_multi/*\"))"
   ]
  },
  {
   "cell_type": "code",
   "execution_count": 5,
   "metadata": {},
   "outputs": [
    {
     "name": "stdout",
     "output_type": "stream",
     "text": [
      "['./corpus_multi/en/test', './corpus_multi/en/appr']\n"
     ]
    }
   ],
   "source": [
    "print(glob.glob(\"./corpus_multi/en/*\"))"
   ]
  },
  {
   "cell_type": "code",
   "execution_count": 6,
   "metadata": {},
   "outputs": [
    {
     "name": "stdout",
     "output_type": "stream",
     "text": [
      "['./corpus_multi/en/appr/2009-11-16_celex_IP-09-1717.en.html', './corpus_multi/en/appr/2009-09-09_celex_IP-09-1290.en.html', './corpus_multi/en/appr/2009-03-16_celex_IP-09-405.en.html', './corpus_multi/en/appr/2009-11-24_celex_IP-09-1811.en.html', './corpus_multi/en/appr/2009-12-02_celex_IP-09-1864.en.html', './corpus_multi/en/appr/2009-10-15_celex_IP-09-1523.en.html', './corpus_multi/en/appr/2009-10-22_celex_IP-09-1572.en.html', './corpus_multi/en/appr/2009-09-18_celex_IP-09-1334.en.html', './corpus_multi/en/appr/2009-05-14_celex_IP-09-774.en.html', './corpus_multi/en/appr/2009-04-20_celex_IP-09-594.en.html', './corpus_multi/en/appr/2009-03-04_celex_IP-09-348.en.html', './corpus_multi/en/appr/2009-01-30_celex_IP-09-195.en.html', './corpus_multi/en/appr/2009-04-14_celex_IP-09-571.en.html', './corpus_multi/en/appr/2009-12-18_celex_IP-09-1966.en.html', './corpus_multi/en/appr/2009-04-21_celex_IP-09-609.en.html', './corpus_multi/en/appr/2009-02-17_celex_IP-09-272.en.html', './corpus_multi/en/appr/2009-06-30_celex_IP-09-1057.en.html', './corpus_multi/en/appr/2009-04-22_celex_IP-09-615.en.html', './corpus_multi/en/appr/2009-04-02_celex_IP-09-526.en.html', './corpus_multi/en/appr/2009-07-14_celex_IP-09-1136.en.html', './corpus_multi/en/appr/2009-12-04_celex_IP-09-1878.en.html', './corpus_multi/en/appr/2009-04-29_celex_IP-09-655.en.html', './corpus_multi/en/appr/2009-04-08_celex_IP-09-552.en.html', './corpus_multi/en/appr/2009-03-09_celex_IP-09-369.en.html', './corpus_multi/en/appr/2009-06-09_celex_IP-09-891.en.html', './corpus_multi/en/appr/2009-04-27_celex_IP-09-644.en.html', './corpus_multi/en/appr/2009-11-30_celex_IP-09-1841.en.html', './corpus_multi/en/appr/2009-07-22_celex_IP-09-1171.en.html', './corpus_multi/en/appr/2009-07-01_celex_IP-09-1064.en.html', './corpus_multi/en/appr/2009-01-29_celex_IP-09-182.en.html', './corpus_multi/en/appr/2009-10-06_celex_IP-09-1423.en.html', './corpus_multi/en/appr/2009-11-24_celex_IP-09-1807.en.html', './corpus_multi/en/appr/2009-07-24_celex_IP-09-1187.en.html', './corpus_multi/en/appr/2009-02-02_celex_IP-09-202.en.html', './corpus_multi/en/appr/2009-04-29_celex_IP-09-659.en.html', './corpus_multi/en/appr/2009-09-30_celex_IP-09-1397.en.html', './corpus_multi/en/appr/2009-07-13_celex_IP-09-1118.en.html', './corpus_multi/en/appr/2009-11-20_celex_IP-09-1781.en.html', './corpus_multi/en/appr/2009-11-27_celex_IP-09-1833.en.html', './corpus_multi/en/appr/2009-10-08_celex_IP-09-1494.en.html', './corpus_multi/en/appr/2009-11-12_celex_IP-09-1702.en.html', './corpus_multi/en/appr/2009-10-28_celex_IP-09-1599.en.html', './corpus_multi/en/appr/2009-07-16_celex_IP-09-1155.en.html', './corpus_multi/en/appr/2009-05-28_celex_IP-09-840.en.html', './corpus_multi/en/appr/2009-06-10_celex_IP-09-893.en.html', './corpus_multi/en/appr/2009-10-21_celex_IP-09-1554.en.html', './corpus_multi/en/appr/2009-06-03_celex_IP-09-863.en.html', './corpus_multi/en/appr/2009-02-18_celex_IP-09-275.en.html', './corpus_multi/en/appr/2009-05-05_celex_IP-09-702.en.html', './corpus_multi/en/appr/2009-02-13_celex_IP-09-262.en.html', './corpus_multi/en/appr/2009-06-25_celex_IP-09-1035.en.html', './corpus_multi/en/appr/2009-12-10_celex_IP-09-1903.en.html', './corpus_multi/en/appr/2009-12-01_celex_IP-09-1855.en.html', './corpus_multi/en/appr/2009-05-28_celex_IP-09-842.en.html', './corpus_multi/en/appr/2009-01-30_celex_IP-09-196.en.html', './corpus_multi/en/appr/2009-07-22_celex_IP-09-1172.en.html', './corpus_multi/en/appr/2009-12-09_celex_IP-09-1896.en.html', './corpus_multi/en/appr/2009-10-08_celex_IP-09-1487.en.html', './corpus_multi/en/appr/2009-10-15_celex_IP-09-1530.en.html', './corpus_multi/en/appr/2009-06-30_celex_IP-09-1060.en.html', './corpus_multi/en/appr/2009-10-09_celex_IP-09-1501.en.html', './corpus_multi/en/appr/2009-05-04_celex_IP-09-696.en.html', './corpus_multi/en/appr/2009-11-13_celex_IP-09-1710.en.html', './corpus_multi/en/appr/2009-05-05_celex_IP-09-703.en.html', './corpus_multi/en/appr/2009-03-03_celex_IP-09-343.en.html', './corpus_multi/en/appr/2009-07-07_celex_IP-09-1092.en.html', './corpus_multi/en/appr/2009-09-21_celex_IP-09-1339.en.html', './corpus_multi/en/appr/2009-10-16_celex_IP-09-1538.en.html', './corpus_multi/en/appr/2009-06-03_celex_IP-09-859.en.html', './corpus_multi/en/appr/2009-07-28_celex_IP-09-1197.en.html', './corpus_multi/en/appr/2009-07-16_celex_IP-09-1153.en.html', './corpus_multi/en/appr/2009-10-14_celex_IP-09-1519.en.html', './corpus_multi/en/appr/2009-09-03_celex_IP-09-1272.en.html', './corpus_multi/en/appr/2009-05-15_celex_IP-09-792.en.html', './corpus_multi/en/appr/2009-06-18_celex_IP-09-951.en.html', './corpus_multi/en/appr/2009-09-17_celex_IP-09-1332.en.html', './corpus_multi/en/appr/2009-06-18_celex_IP-09-954.en.html', './corpus_multi/en/appr/2009-10-09_celex_IP-09-1498.en.html', './corpus_multi/en/appr/2009-12-16_celex_IP-09-1948.en.html', './corpus_multi/en/appr/2009-08-18_celex_IP-09-1238.en.html', './corpus_multi/en/appr/2009-04-22_celex_IP-09-617.en.html', './corpus_multi/en/appr/2009-11-03_celex_IP-09-1665.en.html', './corpus_multi/en/appr/2009-09-22_celex_IP-09-1341.en.html', './corpus_multi/en/appr/2009-07-23_celex_IP-09-1180.en.html', './corpus_multi/en/appr/2009-10-21_celex_IP-09-1552.en.html', './corpus_multi/en/appr/2009-06-19_celex_IP-09-969.en.html', './corpus_multi/en/appr/2009-04-24_celex_IP-09-635.en.html', './corpus_multi/en/appr/2009-05-04_celex_IP-09-693.en.html', './corpus_multi/en/appr/2009-12-21_celex_IP-09-1983.en.html', './corpus_multi/en/appr/2009-10-28_celex_IP-09-1597.en.html', './corpus_multi/en/appr/2009-09-15_celex_IP-09-1315.en.html', './corpus_multi/en/appr/2009-02-18_celex_IP-09-276.en.html', './corpus_multi/en/appr/2009-10-15_celex_IP-09-1525.en.html', './corpus_multi/en/appr/2009-01-28_celex_IP-09-138.en.html', './corpus_multi/en/appr/2009-10-05_celex_IP-09-1421.en.html', './corpus_multi/en/appr/2009-04-14_celex_IP-09-570.en.html', './corpus_multi/en/appr/2009-10-28_celex_IP-09-1594.en.html', './corpus_multi/en/appr/2009-11-23_celex_IP-09-1803.en.html', './corpus_multi/en/appr/2009-07-29_celex_IP-09-1201.en.html', './corpus_multi/en/appr/2009-10-07_celex_IP-09-1431.en.html', './corpus_multi/en/appr/2009-02-24_celex_IP-09-310.en.html', './corpus_multi/en/appr/2009-11-23_celex_IP-09-1802.en.html', './corpus_multi/en/appr/2009-04-01_celex_IP-09-515.en.html', './corpus_multi/en/appr/2009-07-27_celex_IP-09-1192.en.html', './corpus_multi/en/appr/2009-10-20_celex_IP-09-1545.en.html', './corpus_multi/en/appr/2009-08-20_celex_IP-09-1244.en.html', './corpus_multi/en/appr/2009-03-10_celex_IP-09-371.en.html', './corpus_multi/en/appr/2009-11-03_celex_IP-09-1666.en.html', './corpus_multi/en/appr/2009-09-01_celex_IP-09-1261.en.html', './corpus_multi/en/appr/2009-01-14_celex_IP-09-48.en.html', './corpus_multi/en/appr/2009-11-27_celex_IP-09-1837.en.html', './corpus_multi/en/appr/2009-10-27_celex_IP-09-1585.en.html', './corpus_multi/en/appr/2009-08-19_celex_IP-09-1241.en.html', './corpus_multi/en/appr/2009-07-02_celex_IP-09-1072.en.html', './corpus_multi/en/appr/2009-11-06_celex_IP-09-1683.en.html', './corpus_multi/en/appr/2009-02-25_celex_IP-09-317.en.html', './corpus_multi/en/appr/2009-10-22_celex_IP-09-1564.en.html', './corpus_multi/en/appr/2009-02-19_celex_IP-09-297.en.html', './corpus_multi/en/appr/2009-10-14_celex_IP-09-1521.en.html', './corpus_multi/en/appr/2009-04-23_celex_IP-09-628.en.html', './corpus_multi/en/appr/2009-01-30_celex_IP-09-191.en.html', './corpus_multi/en/appr/2009-07-09_celex_IP-09-1109.en.html', './corpus_multi/en/appr/2009-10-28_celex_IP-09-1593.en.html', './corpus_multi/en/appr/2009-03-25_celex_IP-09-472.en.html', './corpus_multi/en/appr/2009-02-11_celex_IP-09-240.en.html', './corpus_multi/en/appr/2009-07-02_celex_IP-09-1070.en.html', './corpus_multi/en/appr/2009-05-18_celex_IP-09-800.en.html', './corpus_multi/en/appr/2009-08-28_celex_IP-09-1257.en.html', './corpus_multi/en/appr/2009-08-04_celex_IP-09-1221.en.html', './corpus_multi/en/appr/2009-09-17_celex_IP-09-1333.en.html', './corpus_multi/en/appr/2009-11-20_celex_IP-09-1800.en.html', './corpus_multi/en/appr/2009-01-28_celex_IP-09-131.en.html', './corpus_multi/en/appr/2009-04-03_celex_IP-09-536.en.html', './corpus_multi/en/appr/2009-10-22_celex_IP-09-1563.en.html', './corpus_multi/en/appr/2009-12-08_celex_IP-09-1887.en.html', './corpus_multi/en/appr/2009-10-08_celex_IP-09-1489.en.html', './corpus_multi/en/appr/2009-06-12_celex_IP-09-910.en.html', './corpus_multi/en/appr/2009-06-16_celex_IP-09-926.en.html', './corpus_multi/en/appr/2009-11-09_celex_IP-09-1686.en.html', './corpus_multi/en/appr/2009-09-15_celex_IP-09-1317.en.html', './corpus_multi/en/appr/2009-03-04_celex_IP-09-351.en.html', './corpus_multi/en/appr/2009-02-13_celex_IP-09-259.en.html', './corpus_multi/en/appr/2009-04-29_celex_IP-09-665.en.html', './corpus_multi/en/appr/2009-09-24_celex_IP-09-1351.en.html', './corpus_multi/en/appr/2009-11-10_celex_IP-09-1688.en.html', './corpus_multi/en/appr/2009-09-25_celex_IP-09-1361.en.html', './corpus_multi/en/appr/2009-03-03_celex_IP-09-344.en.html', './corpus_multi/en/appr/2009-01-19_celex_IP-09-67.en.html', './corpus_multi/en/appr/2009-11-24_celex_IP-09-1812.en.html', './corpus_multi/en/appr/2009-05-11_celex_IP-09-730.en.html', './corpus_multi/en/appr/2009-10-23_celex_IP-09-1576.en.html', './corpus_multi/en/appr/2009-10-20_celex_IP-09-1548.en.html', './corpus_multi/en/appr/2009-12-15_celex_IP-09-1926.en.html', './corpus_multi/en/appr/2009-11-17_celex_IP-09-1725.en.html', './corpus_multi/en/appr/2009-11-12_celex_IP-09-1703.en.html', './corpus_multi/en/appr/2009-10-28_celex_IP-09-1596.en.html', './corpus_multi/en/appr/2009-01-15_celex_IP-09-57.en.html', './corpus_multi/en/appr/2009-10-15_celex_IP-09-1524.en.html', './corpus_multi/en/appr/2009-07-24_celex_IP-09-1188.en.html', './corpus_multi/en/appr/2009-04-27_celex_IP-09-642.en.html', './corpus_multi/en/appr/2009-11-18_celex_IP-09-1731.en.html', './corpus_multi/en/appr/2009-11-24_celex_IP-09-1808.en.html', './corpus_multi/en/appr/2009-11-10_celex_IP-09-1690.en.html', './corpus_multi/en/appr/2009-02-16_celex_IP-09-266.en.html', './corpus_multi/en/appr/2009-10-16_celex_IP-09-1534.en.html', './corpus_multi/en/appr/2009-01-21_celex_IP-09-86.en.html', './corpus_multi/en/appr/2009-04-01_celex_IP-09-519.en.html', './corpus_multi/en/appr/2009-06-26_celex_IP-09-1043.en.html', './corpus_multi/en/appr/2009-07-06_celex_IP-09-1090.en.html', './corpus_multi/en/appr/2009-05-07_celex_IP-09-716.en.html', './corpus_multi/en/appr/2009-11-09_celex_IP-09-1685.en.html', './corpus_multi/en/appr/2009-09-14_celex_IP-09-1310.en.html', './corpus_multi/en/appr/2009-02-05_celex_IP-09-218.en.html', './corpus_multi/en/appr/2009-04-03_celex_IP-09-534.en.html', './corpus_multi/en/appr/2009-05-14_celex_IP-09-783.en.html', './corpus_multi/en/appr/2009-01-29_celex_IP-09-190.en.html', './corpus_multi/en/appr/2009-03-30_celex_IP-09-501.en.html', './corpus_multi/en/appr/2009-07-15_celex_IP-09-1138.en.html', './corpus_multi/en/appr/2009-03-11_celex_IP-09-390.en.html', './corpus_multi/en/appr/2009-04-20_celex_IP-09-593.en.html', './corpus_multi/en/appr/2009-01-22_celex_IP-09-112.en.html', './corpus_multi/en/appr/2009-09-30_celex_IP-09-1385.en.html', './corpus_multi/en/appr/2009-03-25_celex_IP-09-473.en.html', './corpus_multi/en/appr/2009-06-08_celex_IP-09-880.en.html', './corpus_multi/en/appr/2009-10-22_celex_IP-09-1562.en.html', './corpus_multi/en/appr/2009-05-12_celex_IP-09-740.en.html', './corpus_multi/en/appr/2009-10-28_celex_IP-09-1595.en.html', './corpus_multi/en/appr/2009-04-08_celex_IP-09-563.en.html', './corpus_multi/en/appr/2009-11-27_celex_IP-09-1828.en.html', './corpus_multi/en/appr/2009-03-25_celex_IP-09-480.en.html', './corpus_multi/en/appr/2009-05-06_celex_IP-09-704.en.html', './corpus_multi/en/appr/2009-06-19_celex_IP-09-967.en.html', './corpus_multi/en/appr/2009-09-25_celex_IP-09-1356.en.html', './corpus_multi/en/appr/2009-09-28_celex_IP-09-1367.en.html', './corpus_multi/en/appr/2009-11-17_celex_IP-09-1726.en.html', './corpus_multi/en/appr/2009-06-25_celex_IP-09-1021.en.html', './corpus_multi/en/appr/2009-09-28_celex_IP-09-1366.en.html', './corpus_multi/en/appr/2009-03-03_celex_IP-09-342.en.html', './corpus_multi/en/appr/2009-11-03_celex_IP-09-1663.en.html', './corpus_multi/en/appr/2009-04-27_celex_IP-09-640.en.html', './corpus_multi/en/appr/2009-06-18_celex_IP-09-952.en.html', './corpus_multi/en/appr/2009-01-22_celex_IP-09-92.en.html', './corpus_multi/en/appr/2009-03-03_celex_IP-09-341.en.html', './corpus_multi/en/appr/2009-11-30_celex_IP-09-1842.en.html', './corpus_multi/en/appr/2009-12-16_celex_IP-09-1950.en.html', './corpus_multi/en/appr/2009-11-16_celex_IP-09-1716.en.html', './corpus_multi/en/appr/2009-07-10_celex_IP-09-1112.en.html', './corpus_multi/en/appr/2009-09-28_celex_IP-09-1364.en.html', './corpus_multi/en/appr/2009-04-08_celex_IP-09-551.en.html', './corpus_multi/en/appr/2009-03-31_celex_IP-09-512.en.html', './corpus_multi/en/appr/2009-05-07_celex_IP-09-710.en.html', './corpus_multi/en/appr/2009-04-29_celex_IP-09-674.en.html', './corpus_multi/en/appr/2009-06-12_celex_IP-09-912.en.html', './corpus_multi/en/appr/2009-07-13_celex_IP-09-1116.en.html', './corpus_multi/en/appr/2009-06-30_celex_IP-09-1059.en.html', './corpus_multi/en/appr/2009-02-05_celex_IP-09-220.en.html']\n"
     ]
    }
   ],
   "source": [
    "print(glob.glob(\"./corpus_multi/en/appr/*\"))"
   ]
  },
  {
   "cell_type": "code",
   "execution_count": 11,
   "metadata": {},
   "outputs": [
    {
     "name": "stdout",
     "output_type": "stream",
     "text": [
      "IP/09/1717 Brussels, 16 November 2009 Internet Governance Forum: Commission welcomes landmark step t\n"
     ]
    }
   ],
   "source": [
    "f = open(\"./corpus_multi/en/appr/2009-11-16_celex_IP-09-1717.en.html\")\n",
    "chaine = f.read()\n",
    "f.close()\n",
    "print(chaine[:100])"
   ]
  },
  {
   "cell_type": "code",
   "execution_count": 13,
   "metadata": {},
   "outputs": [
    {
     "name": "stdout",
     "output_type": "stream",
     "text": [
      "['IP/09/1717', 'Brussels,', '16', 'November', '2009', 'Internet', 'Governance', 'Forum:', 'Commission', 'welcomes']\n"
     ]
    }
   ],
   "source": [
    "liste_mots = chaine.split()\n",
    "print(liste_mots[:10])"
   ]
  },
  {
   "cell_type": "code",
   "execution_count": 18,
   "metadata": {},
   "outputs": [
    {
     "name": "stdout",
     "output_type": "stream",
     "text": [
      "[[11, 'domain'], [11, 'will'], [13, 'for'], [13, 'names'], [14, 'internet'], [18, 'of'], [21, 'and'], [22, 'to'], [24, 'in'], [40, 'the']]\n"
     ]
    }
   ],
   "source": [
    "dic = {}\n",
    "for mot in liste_mots:\n",
    "    if mot not in dic:\n",
    "        dic[mot] = 1\n",
    "    else:\n",
    "        dic[mot] = dic[mot]+1\n",
    "liste = []\n",
    "\n",
    "for cle, valeur in dic.items():\n",
    "    liste.append([valeur, cle])\n",
    "\n",
    "print(sorted(liste)[-10:])"
   ]
  },
  {
   "cell_type": "code",
   "execution_count": 31,
   "metadata": {},
   "outputs": [
    {
     "name": "stdout",
     "output_type": "stream",
     "text": [
      "fr\n",
      "[[1868, 'pour'], [1899, 'du'], [3164, 'en'], [3315, 'le'], [4328, 'à'], [4821, 'des'], [4999, 'les'], [5177, 'et'], [6466, 'la'], [11801, 'de']]\n",
      "en\n",
      "[[1335, 'is'], [1621, 'on'], [1716, 'The'], [2396, 'for'], [2403, 'a'], [3667, 'in'], [4787, 'to'], [5430, 'of'], [5692, 'and'], [9547, 'the']]\n",
      "it\n",
      "[[1814, 'i'], [1846, 'del'], [2099, 'che'], [2657, 'a'], [2660, 'il'], [2746, 'per'], [2958, 'la'], [2987, 'in'], [4838, 'e'], [7617, 'di']]\n"
     ]
    }
   ],
   "source": [
    "\n",
    "def toto(chemin):\n",
    "  f = open(chemin)\n",
    "  chaine = f.read()\n",
    "  f.close()\n",
    "  return chaine\n",
    "\n",
    "dic = {}\n",
    "\n",
    "for langue in [\"fr\", \"en\", \"it\"]:\n",
    "  liste_fichiers = glob.glob(\"./corpus_multi/%s/appr/*\"%langue)\n",
    "  dic[langue] = {}\n",
    "  for path in liste_fichiers:\n",
    "    contenu = toto(path)\n",
    "    liste_mots = contenu.split()\n",
    "    for mot in liste_mots:\n",
    "        if mot not in dic[langue]:\n",
    "            dic[langue][mot] = 1\n",
    "        else:\n",
    "            dic[langue][mot] = dic[langue][mot]+1\n",
    "\n",
    "for langue in [\"fr\", \"en\", \"it\"]:\n",
    "  liste = []\n",
    "  print(langue)\n",
    "  for cle, valeur in dic[langue].items():\n",
    "    liste.append([valeur, cle])\n",
    "\n",
    "  print(sorted(liste)[-10:])"
   ]
  },
  {
   "cell_type": "code",
   "execution_count": null,
   "metadata": {},
   "outputs": [],
   "source": []
  }
 ],
 "metadata": {
  "kernelspec": {
   "display_name": "Python 3",
   "language": "python",
   "name": "python3"
  },
  "language_info": {
   "codemirror_mode": {
    "name": "ipython",
    "version": 3
   },
   "file_extension": ".py",
   "mimetype": "text/x-python",
   "name": "python",
   "nbconvert_exporter": "python",
   "pygments_lexer": "ipython3",
   "version": "3.7.5"
  }
 },
 "nbformat": 4,
 "nbformat_minor": 2
}
