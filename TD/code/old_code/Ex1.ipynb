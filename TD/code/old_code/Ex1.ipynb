{
 "cells": [
  {
   "cell_type": "code",
   "execution_count": 1,
   "metadata": {},
   "outputs": [
    {
     "ename": "FileNotFoundError",
     "evalue": "[Errno 2] No such file or directory: 'fr_13846-0.txt'",
     "output_type": "error",
     "traceback": [
      "\u001b[0;31m---------------------------------------------------------------------------\u001b[0m",
      "\u001b[0;31mFileNotFoundError\u001b[0m                         Traceback (most recent call last)",
      "\u001b[0;32m<ipython-input-1-20c0e2d79abc>\u001b[0m in \u001b[0;36m<module>\u001b[0;34m\u001b[0m\n\u001b[0;32m----> 1\u001b[0;31m \u001b[0mf\u001b[0m \u001b[0;34m=\u001b[0m \u001b[0mopen\u001b[0m\u001b[0;34m(\u001b[0m\u001b[0;34m\"fr_13846-0.txt\"\u001b[0m\u001b[0;34m)\u001b[0m\u001b[0;34m\u001b[0m\u001b[0;34m\u001b[0m\u001b[0m\n\u001b[0m\u001b[1;32m      2\u001b[0m \u001b[0mchaine\u001b[0m \u001b[0;34m=\u001b[0m \u001b[0mf\u001b[0m\u001b[0;34m.\u001b[0m\u001b[0mread\u001b[0m\u001b[0;34m(\u001b[0m\u001b[0;34m)\u001b[0m\u001b[0;31m###\u001b[0m\u001b[0;34m\u001b[0m\u001b[0;34m\u001b[0m\u001b[0m\n\u001b[1;32m      3\u001b[0m \u001b[0mf\u001b[0m\u001b[0;34m.\u001b[0m\u001b[0mclose\u001b[0m\u001b[0;34m(\u001b[0m\u001b[0;34m)\u001b[0m\u001b[0;34m\u001b[0m\u001b[0;34m\u001b[0m\u001b[0m\n",
      "\u001b[0;31mFileNotFoundError\u001b[0m: [Errno 2] No such file or directory: 'fr_13846-0.txt'"
     ]
    }
   ],
   "source": [
    "f = open(\"fr_13846-0.txt\")\n",
    "chaine = f.read()###\n",
    "f.close()"
   ]
  },
  {
   "cell_type": "markdown",
   "metadata": {},
   "source": [
    "### toto"
   ]
  },
  {
   "cell_type": "code",
   "execution_count": 4,
   "metadata": {},
   "outputs": [
    {
     "name": "stdout",
     "output_type": "stream",
     "text": [
      "﻿The Project Gutenberg EBook of Discours de la méthode, by René Descartes\n",
      "\n",
      "This eBook is for the use\n"
     ]
    }
   ],
   "source": [
    "###\n",
    "print(chaine[:100])###\n",
    "\n",
    "liste_mots = chaine.split()###\n"
   ]
  },
  {
   "cell_type": "code",
   "execution_count": 5,
   "metadata": {},
   "outputs": [],
   "source": [
    "\n",
    "dic_longueurs1 = {}\n",
    "for mot in liste_mots:\n",
    "  longueur = len(mot)\n",
    "  if longueur not in dic_longueurs1:\n",
    "    dic_longueurs1[longueur]=1\n",
    "  else:\n",
    "    dic_longueurs1[longueur]+=1###\n"
   ]
  },
  {
   "cell_type": "code",
   "execution_count": 6,
   "metadata": {},
   "outputs": [
    {
     "name": "stdout",
     "output_type": "stream",
     "text": [
      "0 : 0\n",
      "1 : 2798\n",
      "2 : 26680\n",
      "3 : 18999\n",
      "4 : 15694\n",
      "5 : 13169\n",
      "6 : 9970\n",
      "7 : 9158\n",
      "8 : 6888\n",
      "9 : 6051\n",
      "10 : 3986\n",
      "11 : 2294\n"
     ]
    }
   ],
   "source": [
    "\n",
    "for toto in range(12):###\n",
    "  if toto in dic_longueurs1:\n",
    "    nbr_occurences = dic_longueurs1[toto]\n",
    "    print(\"%i : %i\"%(toto, nbr_occurences))\n",
    "  else:\n",
    "    nbr_occurences = 0 ###\n",
    "    print(\"%i : %i\"%(toto, nbr_occurences))\n"
   ]
  },
  {
   "cell_type": "code",
   "execution_count": 8,
   "metadata": {},
   "outputs": [
    {
     "name": "stdout",
     "output_type": "stream",
     "text": [
      "{4: 15694, 7: 9158, 9: 6051, 5: 13169, 2: 26680, 8: 6888, 3: 18999, 6: 9970, 12: 1476, 11: 2294, 17: 16, 10: 3986, 13: 861, 1: 2798, 14: 501, 15: 160, 16: 69, 18: 4, 20: 2, 38: 1, 24: 2, 22: 1, 39: 1, 30: 1, 21: 2, 29: 1, 19: 1, 23: 1}\n"
     ]
    },
    {
     "data": {
      "image/png": "[encoded data removed]",
      "text/plain": [
       "<Figure size 432x288 with 1 Axes>"
      ]
     },
     "metadata": {
      "needs_background": "light"
     },
     "output_type": "display_data"
    }
   ],
   "source": [
    "import matplotlib.pyplot as pyplot\n",
    "\n",
    "liste_effectifs = []\n",
    "for toto in range(1,30):\n",
    "  if toto in dic_longueurs1:\n",
    "    liste_effectifs.append(dic_longueurs1[toto])\n",
    "  else:\n",
    "    liste_effectifs.append(0)\n",
    "print(dic_longueurs1)\n",
    "pyplot.plot(liste_effectifs)###\n",
    "pyplot.show()###"
   ]
  },
  {
   "cell_type": "code",
   "execution_count": null,
   "metadata": {
    "collapsed": true
   },
   "outputs": [],
   "source": []
  },
  {
   "cell_type": "code",
   "execution_count": null,
   "metadata": {
    "collapsed": true
   },
   "outputs": [],
   "source": []
  }
 ],
 "metadata": {
  "kernelspec": {
   "display_name": "Python 3",
   "language": "python",
   "name": "python3"
  },
  "language_info": {
   "codemirror_mode": {
    "name": "ipython",
    "version": 3
   },
   "file_extension": ".py",
   "mimetype": "text/x-python",
   "name": "python",
   "nbconvert_exporter": "python",
   "pygments_lexer": "ipython3",
   "version": "3.7.5"
  }
 },
 "nbformat": 4,
 "nbformat_minor": 2
}
