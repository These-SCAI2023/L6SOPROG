{
 "cells": [
  {
   "cell_type": "code",
   "execution_count": 8,
   "metadata": {},
   "outputs": [
    {
     "name": "stdout",
     "output_type": "stream",
     "text": [
      "Nombre de fichiers : 0\n",
      "['.\\\\3D Objects', '.\\\\AppData', '.\\\\Application Data', '.\\\\Contacts', '.\\\\Cookies', '.\\\\corpus_multi.json', '.\\\\Desktop', '.\\\\DocsElec_TD9_EX1.ipynb', '.\\\\DocsElec_TD9_EX2.ipynb', '.\\\\DocsElec_TD9_EX2_corrige_latex.ipynb', '.\\\\Documents', '.\\\\Downloads', '.\\\\Favorites', '.\\\\IntelGraphicsProfiles', '.\\\\Links', '.\\\\Local Settings', '.\\\\Menu Démarrer', '.\\\\Mes documents', '.\\\\models_10.json', '.\\\\models_20.json', '.\\\\models_30.json', '.\\\\models_43.json', '.\\\\Modèles', '.\\\\Music', '.\\\\NTUSER.DAT', '.\\\\ntuser.dat.LOG1', '.\\\\ntuser.dat.LOG2', '.\\\\NTUSER.DAT{1c2b59c6-c5f5-11eb-bacb-000d3a96488e}.TM.blf', '.\\\\NTUSER.DAT{1c2b59c6-c5f5-11eb-bacb-000d3a96488e}.TMContainer00000000000000000001.regtrans-ms', '.\\\\NTUSER.DAT{1c2b59c6-c5f5-11eb-bacb-000d3a96488e}.TMContainer00000000000000000002.regtrans-ms', '.\\\\ntuser.ini', '.\\\\OneDrive', '.\\\\Pictures', '.\\\\pipwin', '.\\\\Praat', '.\\\\R', '.\\\\Recent', '.\\\\Saved Games', '.\\\\Searches', '.\\\\SendTo', '.\\\\TD4_fonctions.ipynb', '.\\\\Untitled.ipynb', '.\\\\Untitled1.ipynb', '.\\\\Untitled2.ipynb', '.\\\\Videos', \".\\\\Voisinage d'impression\", '.\\\\Voisinage réseau']\n"
     ]
    }
   ],
   "source": [
    "import glob\n",
    "liste_fichiers = glob.glob(\"corpus_multi/*/*/appr/*\")\n",
    "print(\"Nombre de fichiers : %i\"%len(liste_fichiers))\n",
    "print(glob.glob(\"./*\"))"
   ]
  },
  {
   "cell_type": "code",
   "execution_count": 3,
   "metadata": {},
   "outputs": [
    {
     "name": "stdout",
     "output_type": "stream",
     "text": [
      "dict_keys([])\n"
     ]
    }
   ],
   "source": [
    "def lire_fichier(chemin):\n",
    "    with open(chemin, encoding=\"utf-8\") as f:\n",
    "        chaine = f.read()\n",
    "    return chaine\n",
    "def get_dic_langues():\n",
    "    dic_langues = {}\n",
    "    for chemin in liste_fichiers:\n",
    "        dossiers = chemin.split(\"\\\\\")\n",
    "        langue = dossiers [2]\n",
    "        chaine = lire_fichier(chemin)\n",
    "        mots = chaine.split()\n",
    "        if langue not in dic_langues:\n",
    "            dic_langues[langue] = {}\n",
    "        for m in mots:\n",
    "            if m not in dic_langues[langue]:\n",
    "                dic_langues[langue][m]=1\n",
    "            else:\n",
    "                dic_langues[langue][m]+=1\n",
    "    return dic_langues\n",
    "\n",
    "dic_langues = get_dic_langues()\n",
    "print(dic_langues.keys())"
   ]
  },
  {
   "cell_type": "code",
   "execution_count": 4,
   "metadata": {},
   "outputs": [],
   "source": [
    "def get_model(dic_langues, n_tri):\n",
    "    dic_modeles = {}\n",
    "    for langue, dic_effectifs in dic_langues.items():\n",
    "        paires = []\n",
    "        for mot, effectif in dic_effectifs.items():\n",
    "            paires.append([effectif, mot])\n",
    "        liste_tri = sorted(paires)[-n_tri:]\n",
    "        dic_modeles[langue]=[mot for effectif, mot in liste_tri]\n",
    "    return dic_modeles, \"utu\"\n"
   ]
  },
  {
   "cell_type": "code",
   "execution_count": 5,
   "metadata": {},
   "outputs": [],
   "source": [
    "import json\n",
    "for NB_mots in [10, 20, 30, 43]:\n",
    "    dic_modeles = get_model(dic_langues, NB_mots)\n",
    "    with open(\"models_%i.json\"%NB_mots, \"w\", encoding=\"utf-8\") as w:\n",
    "        w.write(json.dumps(dic_modeles, indent =2,ensure_ascii=False))\n"
   ]
  },
  {
   "cell_type": "code",
   "execution_count": null,
   "metadata": {},
   "outputs": [],
   "source": []
  }
 ],
 "metadata": {
  "kernelspec": {
   "display_name": "Python 3 (ipykernel)",
   "language": "python",
   "name": "python3"
  },
  "language_info": {
   "codemirror_mode": {
    "name": "ipython",
    "version": 3
   },
   "file_extension": ".py",
   "mimetype": "text/x-python",
   "name": "python",
   "nbconvert_exporter": "python",
   "pygments_lexer": "ipython3",
   "version": "3.11.5"
  }
 },
 "nbformat": 4,
 "nbformat_minor": 2
}
