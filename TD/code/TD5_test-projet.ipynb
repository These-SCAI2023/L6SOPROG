{
 "cells": [
  {
   "cell_type": "code",
   "execution_count": 7,
   "id": "24fd8bff",
   "metadata": {},
   "outputs": [
    {
     "name": "stdout",
     "output_type": "stream",
     "text": [
      "../corpus-REN_2023-2024/NOAILLES/NOAILLES_la-nouvelle-esperance.txt\n",
      "NOAILLES_la-nouvelle-esperance.txt  :  65667\n"
     ]
    }
   ],
   "source": [
    "import glob\n",
    "import spacy\n",
    "import csv\n",
    "import re\n",
    "def lire_fichier (chemin):\n",
    "    f = open(chemin , encoding = 'utf−8')\n",
    "    chaine = f.read ()\n",
    "    f.close ()\n",
    "    return chaine\n",
    "\n",
    "\n",
    "nlp = spacy.load(\"fr_core_news_lg\")\n",
    "# path_corp=\"../DATA/DAUDET/*Kraken-base.txt\"\n",
    "path_corp=\"../corpus-REN_2023-2024/NOAILLES/*.txt\"\n",
    "for path_file in glob.glob(path_corp):\n",
    "    liste_tok=[]\n",
    "    liste_tok_cot=[]\n",
    "    print(path_file)\n",
    "    filename=path_file.split(\"/\")[-1]\n",
    "    texte=lire_fichier(path_file)\n",
    "    for ponctuation in [\"\\n\",\"  \",\"\\t\",\";\"]:\n",
    "        texte=re.sub(ponctuation,\"$\",texte)\n",
    "    \n",
    "    doc = nlp(texte)\n",
    "    with open(f'../corpus-REN_2023-2024/NOAILLES/{filename}_annot.csv', 'w', newline='') as csvfile:\n",
    "        spamwriter = csv.writer(csvfile, delimiter=';',quotechar='\\t', quoting=csv.QUOTE_MINIMAL)\n",
    "        spamwriter.writerow([\"Token\",\"LOC\",\"PER\",\"ORG\",\"MISC\"])\n",
    "        \n",
    "        for token in doc:\n",
    "            if token.text !=\"$\":\n",
    "                liste_tok.append(token.text)\n",
    "                spamwriter.writerow([token.text])\n",
    "#             else:\n",
    "#                 liste_tok_cot.append(token.text)\n",
    "            \n",
    "\n",
    "    print(filename,\" : \",len(liste_tok))\n",
    "    \n"
   ]
  },
  {
   "cell_type": "code",
   "execution_count": null,
   "id": "26ee8003",
   "metadata": {},
   "outputs": [],
   "source": []
  }
 ],
 "metadata": {
  "kernelspec": {
   "display_name": "Python 3 (ipykernel)",
   "language": "python",
   "name": "python3"
  },
  "language_info": {
   "codemirror_mode": {
    "name": "ipython",
    "version": 3
   },
   "file_extension": ".py",
   "mimetype": "text/x-python",
   "name": "python",
   "nbconvert_exporter": "python",
   "pygments_lexer": "ipython3",
   "version": "3.9.7"
  }
 },
 "nbformat": 4,
 "nbformat_minor": 5
}
