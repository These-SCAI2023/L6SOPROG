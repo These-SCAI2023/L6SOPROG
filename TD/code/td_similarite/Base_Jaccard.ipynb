{
 "cells": [
  {
   "cell_type": "code",
   "execution_count": 7,
   "metadata": {},
   "outputs": [
    {
     "name": "stdout",
     "output_type": "stream",
     "text": [
      "{'climat,', \"n'y\", 'plan', 'planète', 'de', 'il', 'Sur', 'le', 'B.', 'Car', 'B', 'pas', 'a'}\n",
      "{\"n'y\", 'plan', 'planète', 'de', 'il', 'car', 'B', 'pas', 'Il', 'a'}\n",
      "{'la', 'Mars', \"n'y\", 'planète', 'plan', 'de', 'il', 'pour', 'Sur', 'le', 'B', 'pas', 'climat', 'a'}\n"
     ]
    }
   ],
   "source": [
    "## Un exemple simple tout d'abord :\n",
    "\n",
    "str1 = \"Sur le climat, il n'y a pas de plan B. Car il n'y a pas de planète B\"\n",
    "str2 = \"Il n'y a pas de plan B car il n'y a pas de planète B\"\n",
    "str3 = \"Sur la planète Mars il n'y a pas de plan B pour le climat\"\n",
    "\n",
    "w1 = set(str1.split())\n",
    "print(w1)\n",
    "w2 = set(str2.split())\n",
    "print(w2)\n",
    "w3 = set(str3.split())\n",
    "print(w3)"
   ]
  },
  {
   "cell_type": "code",
   "execution_count": 8,
   "metadata": {},
   "outputs": [
    {
     "name": "stdout",
     "output_type": "stream",
     "text": [
      "En commun str1 et str2 :\n",
      "{\"n'y\", 'plan', 'planète', 'de', 'il', 'B', 'pas', 'a'}\n"
     ]
    }
   ],
   "source": [
    "print(\"En commun str1 et str2 :\")\n",
    "print(w1.intersection(w2))\n",
    "### à continuer pour les autres comparaisons str2 VS str3 ...\n"
   ]
  },
  {
   "cell_type": "code",
   "execution_count": 10,
   "metadata": {},
   "outputs": [
    {
     "name": "stdout",
     "output_type": "stream",
     "text": [
      "str1 VS str2 :\n",
      "0.5333333333333333\n"
     ]
    }
   ],
   "source": [
    "##Ensuite on calcule le nombre de mots en commun puis le ration par rapport aux mots des deux chaînes:\n",
    "\n",
    "print(\"str1 VS str2 :\")\n",
    "intersection_str1_str2 = w1.intersection(w2)\n",
    "union_str1_str2 = w1.union(w2)\n",
    "taille_inter = len(intersection_str1_str2)\n",
    "taille_union = len(union_str1_str2)\n",
    "print(taille_inter/taille_union)\n",
    "\n",
    "###Idem pour str1 VS str3 ..."
   ]
  },
  {
   "cell_type": "markdown",
   "metadata": {},
   "source": [
    "C'est ce que l'on nomme Indice de Jaccard : https://fr.wikipedia.org/wiki/Indice_et_distance_de_Jaccard"
   ]
  },
  {
   "cell_type": "code",
   "execution_count": 9,
   "metadata": {},
   "outputs": [
    {
     "name": "stdout",
     "output_type": "stream",
     "text": [
      "['data/mini_corpus/version1.txt', 'data/mini_corpus/version2.txt']\n"
     ]
    }
   ],
   "source": [
    "## Maintenant on fait ça sur de vrais documents\n",
    "import glob\n",
    "liste1 = glob.glob(\"data/mini_corpus/*\")\n",
    "print(liste1)"
   ]
  },
  {
   "cell_type": "code",
   "execution_count": 11,
   "metadata": {},
   "outputs": [],
   "source": [
    "def ouvrir_fichier(chemin, lines = False):\n",
    "    f = open(chemin)\n",
    "    if lines ==True:\n",
    "        sortie = f.readlines()#liste de chaines (lignes dans le fichier)\n",
    "    else:\n",
    "        sortie = f.read()#une seule chaîne\n",
    "    f.close()\n",
    "    return sortie\n"
   ]
  },
  {
   "cell_type": "code",
   "execution_count": null,
   "metadata": {},
   "outputs": [],
   "source": [
    "texte1 = ouvrir_fichier(liste1[0])\n",
    "texte2 = ouvrir_fichier(liste1[1])\n",
    "\n",
    "## on découpe chaque texte en mots, on calcule l'intersection...puis l'indice de Jaccard\n",
    "\n"
   ]
  },
  {
   "cell_type": "code",
   "execution_count": 13,
   "metadata": {},
   "outputs": [],
   "source": [
    "## on compare chaque ligne du texte 1 à la même ligne du texte2 :\n",
    "lignes1 = ouvrir_fichier(liste1[0], lines = True)\n",
    "lignes2 = ouvrir_fichier(liste1[1], lines = True)\n",
    "##pour chaque valeur de 0 à la taille de lignes1 on compare...."
   ]
  },
  {
   "cell_type": "code",
   "execution_count": null,
   "metadata": {},
   "outputs": [],
   "source": [
    "## Ici la même chose\n"
   ]
  }
 ],
 "metadata": {
  "kernelspec": {
   "display_name": "Python 3 (ipykernel)",
   "language": "python",
   "name": "python3"
  },
  "language_info": {
   "codemirror_mode": {
    "name": "ipython",
    "version": 3
   },
   "file_extension": ".py",
   "mimetype": "text/x-python",
   "name": "python",
   "nbconvert_exporter": "python",
   "pygments_lexer": "ipython3",
   "version": "3.9.7"
  }
 },
 "nbformat": 4,
 "nbformat_minor": 2
}
