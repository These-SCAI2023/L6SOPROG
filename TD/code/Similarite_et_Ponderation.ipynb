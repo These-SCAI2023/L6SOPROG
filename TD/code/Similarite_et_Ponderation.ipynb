{
 "cells": [
  {
   "cell_type": "markdown",
   "metadata": {},
   "source": [
    "<img width=\"150\" src=\"http://lettres.sorbonne-universite.fr/sites/default/files/media/2019-10/sorbonne-lettre_1.svg\"/>\n",
    "\n",
    "\n",
    "# Similarité et Pondération\n",
    "## UFR de sociologie et d'informatique pour les sciences humaines\n",
    "### Programmation de Modèles Linguistiques (I)\n",
    "\n",
    "#### Gaël Lejeune et Carlos González\n",
    "\n",
    "---\n",
    "    "
   ]
  },
  {
   "cell_type": "markdown",
   "metadata": {},
   "source": [
    "## Modèle Vectoriel Résumé\n",
    "\n",
    "**Du corpus à la matrice en passant par la matrice**\n",
    "\n",
    "* Des documents ( $I$ lignes de la matrice )\n",
    "* Des descripteurs ( $J$ colonnes )\n",
    "* Une valeur brute (effectif, fréquence) avec ou sans foction de pondération \n",
    "* Une valeur affectée ( $A_{i, j}$ )\n",
    "* Un algorithme de calcul de distance (ou de similarité)\n",
    "* Une nouvelle matrice, carrée: $M_{k, l}$ est la distance entre le document $k$ et le document $l$\n"
   ]
  },
  {
   "cell_type": "markdown",
   "metadata": {},
   "source": [
    "## Ensemble de documents\n",
    "\n",
    "`document1` : \"un trou noir empêche toute forme de matière ou de rayonnement de s' en échapper\"\n",
    "\n",
    "`document2` : \"le trou noir est un cocktail à base d' alcool généralement servi dans un shooter\"\n",
    "\n",
    "`document3` : \"les pays avérés du trou noir de le immobilier sont le Japon et l' Allemagne\"\n",
    "\n",
    "`document4` : \"un trou de ver relierait deux feuillets distincts un trou noir et un trou blanc\"\n",
    "\n",
    "`document5` : \"placer une saucisse cocktail au bord de une bande de pâte enrouler la pâte autour de la saucisse\""
   ]
  },
  {
   "cell_type": "code",
   "execution_count": 1,
   "metadata": {},
   "outputs": [],
   "source": [
    "document1 = \"un trou noir empêche toute forme de matière ou de rayonnement de s' en échapper\"\n",
    "\n",
    "document2 = \"le trou noir est un cocktail à base d' alcool généralement servi dans un shooter\"\n",
    "\n",
    "document3 = \"les pays avérés du trou noir de le immobilier sont le Japon et l' Allemagne\"\n",
    "\n",
    "document4 = \"un trou de ver relierait deux feuillets distincts un trou noir et un trou blanc\"\n",
    "\n",
    "document5 = \"placer une saucisse cocktail au bord de une bande de pâte enrouler la pâte autour de la saucisse\"\n",
    "\n",
    "documents = {\"document1\": document1, \"document2\": document2, \"document3\": document3, \"document4\": document4, \"document5\": document5}"
   ]
  },
  {
   "cell_type": "markdown",
   "metadata": {},
   "source": [
    "## Obtention du vocabulaire et creation d'index"
   ]
  },
  {
   "cell_type": "code",
   "execution_count": 2,
   "metadata": {},
   "outputs": [
    {
     "name": "stdout",
     "output_type": "stream",
     "text": [
      "un ['document1', 'document2', 'document4']\n",
      "trou ['document1', 'document2', 'document3', 'document4']\n",
      "noir ['document1', 'document2', 'document3', 'document4']\n",
      "empêche ['document1']\n",
      "toute ['document1']\n",
      "forme ['document1']\n",
      "de ['document1', 'document3', 'document4', 'document5']\n",
      "matière ['document1']\n",
      "ou ['document1']\n",
      "rayonnement ['document1']\n",
      "s' ['document1']\n",
      "en ['document1']\n",
      "échapper ['document1']\n",
      "le ['document2', 'document3']\n",
      "est ['document2']\n",
      "cocktail ['document2', 'document5']\n",
      "à ['document2']\n",
      "base ['document2']\n",
      "d' ['document2']\n",
      "alcool ['document2']\n"
     ]
    }
   ],
   "source": [
    "def creer_index():\n",
    "\n",
    "    index = {}\n",
    "\n",
    "    for nom, texte in documents.items():\n",
    "        for terme in texte.split():\n",
    "            if terme not in index:\n",
    "                index[terme] = set()\n",
    "            index[terme].add(nom)\n",
    "\n",
    "    index = {terme:sorted(list(noms)) for terme, noms in index.items()}        \n",
    "    return index\n",
    "\n",
    "index = creer_index()\n",
    "for terme, noms in list(index.items())[:20]:\n",
    "    print(terme,noms)\n",
    "        "
   ]
  },
  {
   "cell_type": "markdown",
   "metadata": {},
   "source": [
    "## Création de la \"matrice\" documents-termes\n",
    "\n",
    "\n",
    "**documents/termes** | $terme_1$ | $terme_2$ | $terme_3$ | $\\cdots$ | $terme_J$\n",
    " --- | --- | --- | --- | --- | ---\n",
    "$document_1$ | $A_{1,1}$ | $A_{1,2}$ | $A_{1,3}$ | $\\cdots$ | $A_{1, J}$\n",
    "$document_2$ | $A_{2,1}$ | $\\ddots$| | |$\\vdots$\n",
    "$document_3$ | $A_{3,1}$ |  |$\\ddots$  |  |$\\vdots$\n",
    "$\\vdots$ | $\\vdots$ |  |  | $\\ddots$  | $\\vdots$\n",
    "$document_I$ | $A_{I,1}$ | $\\cdots$ | $\\cdots$ | $\\cdots$ | $A_{I,J}$\n"
   ]
  },
  {
   "cell_type": "code",
   "execution_count": 3,
   "metadata": {},
   "outputs": [
    {
     "name": "stdout",
     "output_type": "stream",
     "text": [
      "{'document1': {'un': 1, 'trou': 1, 'noir': 1, 'empêche': 1, 'toute': 1, 'forme': 1, 'de': 3, 'matière': 1, 'ou': 1, 'rayonnement': 1, \"s'\": 1, 'en': 1, 'échapper': 1}, 'document2': {'le': 1, 'trou': 1, 'noir': 1, 'est': 1, 'un': 2, 'cocktail': 1, 'à': 1, 'base': 1, \"d'\": 1, 'alcool': 1, 'généralement': 1, 'servi': 1, 'dans': 1, 'shooter': 1}, 'document3': {'les': 1, 'pays': 1, 'avérés': 1, 'du': 1, 'trou': 1, 'noir': 1, 'de': 1, 'le': 2, 'immobilier': 1, 'sont': 1, 'Japon': 1, 'et': 1, \"l'\": 1, 'Allemagne': 1}, 'document4': {'un': 3, 'trou': 3, 'de': 1, 'ver': 1, 'relierait': 1, 'deux': 1, 'feuillets': 1, 'distincts': 1, 'noir': 1, 'et': 1, 'blanc': 1}, 'document5': {'placer': 1, 'une': 2, 'saucisse': 2, 'cocktail': 1, 'au': 1, 'bord': 1, 'de': 3, 'bande': 1, 'pâte': 2, 'enrouler': 1, 'la': 2, 'autour': 1}}\n"
     ]
    }
   ],
   "source": [
    "def creer_index_inverse():\n",
    "\n",
    "    index_inverse = {}\n",
    "\n",
    "    for nom, texte in documents.items():\n",
    "        index_inverse[nom] = dict()\n",
    "        for terme in texte.split():\n",
    "            if terme not in index_inverse[nom]:\n",
    "                index_inverse[nom][terme] = 1\n",
    "            else:\n",
    "                index_inverse[nom][terme] += 1\n",
    "\n",
    "    return index_inverse\n",
    "\n",
    "index_inverse = creer_index_inverse()\n",
    "print(index_inverse)"
   ]
  },
  {
   "cell_type": "markdown",
   "metadata": {},
   "source": [
    "## Requêter le corpus \n"
   ]
  },
  {
   "cell_type": "code",
   "execution_count": 4,
   "metadata": {},
   "outputs": [
    {
     "name": "stdout",
     "output_type": "stream",
     "text": [
      "['document1', 'document3', 'document4', 'document2']\n"
     ]
    }
   ],
   "source": [
    "def requeter_documets(requete, index):\n",
    "    documents_trouves = list()\n",
    "    requete_mots = requete.split() # découper la requête en mots\n",
    "    \n",
    "    # chercher pour chaque mot les documents où il apparaît\n",
    "    for mot in requete_mots: \n",
    "        if mot in index:\n",
    "            for document in index[mot]:\n",
    "                if document not in documents_trouves:\n",
    "                    documents_trouves.append(document)\n",
    "\n",
    "    return documents_trouves\n",
    "\n",
    "\n",
    "requete = \"matière et trou noir\"\n",
    "documents_trouves = requeter_documets(requete, index)\n",
    "print(documents_trouves)\n"
   ]
  },
  {
   "cell_type": "markdown",
   "metadata": {},
   "source": [
    "## Similarité de Jaccard\n",
    "\n",
    "$ J(A,B) = { {|A \\cap B| } \\over |A \\cup B| }$\n",
    "\n",
    "$|A \\cap B|$ : Taille de l'intersection des documents considérés \n",
    "\n",
    "$|A \\cup B|$ : Taille de l'union des documents considérés "
   ]
  },
  {
   "cell_type": "markdown",
   "metadata": {},
   "source": [
    "* ### Marice de similarité (Jaccard) pour l'ensemble de documents"
   ]
  },
  {
   "cell_type": "code",
   "execution_count": 5,
   "metadata": {},
   "outputs": [
    {
     "name": "stdout",
     "output_type": "stream",
     "text": [
      "JACCARD\t\tdocument1\tdocument2\tdocument3\tdocument4\tdocument5\n",
      "document1\t1.000\t\t0.125\t\t0.125\t\t0.200\t\t0.042\t\t\n",
      "document2\t0.125\t\t1.000\t\t0.120\t\t0.136\t\t0.040\t\t\n",
      "document3\t0.125\t\t0.120\t\t1.000\t\t0.190\t\t0.040\t\t\n",
      "document4\t0.200\t\t0.136\t\t0.190\t\t1.000\t\t0.045\t\t\n",
      "document5\t0.042\t\t0.040\t\t0.040\t\t0.045\t\t1.000\t\t\n",
      "****************************************\n",
      "{'document1': {'document1': 1.0, 'document2': 0.125, 'document3': 0.125, 'document4': 0.2, 'document5': 0.041666666666666664}, 'document2': {'document1': 0.125, 'document2': 1.0, 'document3': 0.12, 'document4': 0.13636363636363635, 'document5': 0.04}, 'document3': {'document1': 0.125, 'document2': 0.12, 'document3': 1.0, 'document4': 0.19047619047619047, 'document5': 0.04}, 'document4': {'document1': 0.2, 'document2': 0.13636363636363635, 'document3': 0.19047619047619047, 'document4': 1.0, 'document5': 0.045454545454545456}, 'document5': {'document1': 0.041666666666666664, 'document2': 0.04, 'document3': 0.04, 'document4': 0.045454545454545456, 'document5': 1.0}}\n"
     ]
    }
   ],
   "source": [
    "def creer_matrice_jaccard(index_inverse):\n",
    "\n",
    "    matrice_sim = dict()\n",
    "    \n",
    "    for nom, termes_document in index_inverse.items():\n",
    "        matrice_sim[nom] = dict()\n",
    "        for nom_int, termes_document_int in index_inverse.items():\n",
    "            #Taille de l'intersection des documents considérés \n",
    "            intersection = len(set(termes_document).intersection(set(termes_document_int)))\n",
    "            #Taille de l'union des documents considérés \n",
    "            union = len(set(termes_document).union(set(termes_document_int)))\n",
    "            matrice_sim[nom][nom_int] = intersection/union\n",
    "\n",
    "    noms = matrice_sim.keys()\n",
    "    print(\"JACCARD\\t\\t\"+\"\\t\".join(noms))\n",
    "    for nom in noms:\n",
    "        print(nom, end=\"\\t\")\n",
    "        for nom_int in noms:\n",
    "            print(\"{:.3f}\".format(matrice_sim[nom][nom_int]), end=\"\\t\\t\")\n",
    "        print(\"\")\n",
    "    return matrice_sim\n",
    "\n",
    "matrice_sim = creer_matrice_jaccard(index_inverse)\n",
    "print(\"*\"*40)\n",
    "print(matrice_sim)"
   ]
  },
  {
   "cell_type": "markdown",
   "metadata": {},
   "source": [
    "* ### Pondération des resultats avec la similarité de Jaccard"
   ]
  },
  {
   "cell_type": "code",
   "execution_count": 6,
   "metadata": {},
   "outputs": [
    {
     "name": "stdout",
     "output_type": "stream",
     "text": [
      "['document1', 'document2', 'document3', 'document4']\n",
      "{'document1': 0.14285714285714285, 'document2': 0.13333333333333333, 'document3': 0.13333333333333333, 'document4': 0.2727272727272727}\n"
     ]
    }
   ],
   "source": [
    "def calculer_ponderation_jaccard(requete, index_inverse, documents_trouves):\n",
    "    \n",
    "    ponderations = dict()\n",
    "    requete_mots = requete.split()\n",
    "    \n",
    "    for document in documents_trouves:\n",
    "        #Termes du document trouvé\n",
    "        termes_document = index_inverse[document]\n",
    "        #Taille de l'intersection des documents considérés \n",
    "        intersection = len(set(termes_document).intersection(set(requete_mots)))\n",
    "        #Taille de l'union des documents considérés \n",
    "        union = len(set(termes_document).union(set(requete_mots)))\n",
    "        ponderations[document] = intersection/union\n",
    "    \n",
    "    return ponderations\n",
    "            \n",
    "requete = \"trou noir blanc\"\n",
    "documents_trouves = requeter_documets(requete, index)\n",
    "print(documents_trouves)\n",
    "ponderations_jaccard = calculer_ponderation_jaccard(requete,index_inverse, documents_trouves)\n",
    "print(ponderations_jaccard)"
   ]
  },
  {
   "cell_type": "markdown",
   "metadata": {},
   "source": [
    "## Similarité cosinus\n",
    "\n",
    "Permet de calculer la similarité entre deux documents ($A$ et $B$) à $n$ termes en déterminant le cosinus de l'angle entre eux. \n",
    "\n",
    "$sim(A,B) = \\cos(\\mathbf{A},\\mathbf{B}) = \\frac{\\mathbf{A} \\cdot \\mathbf{B}}{||\\mathbf{A}|| \\cdot ||\\mathbf{B}||} ; [-1,+1]$\n",
    "\n",
    "$\\mathbf{A} \\cdot \\mathbf{B} = \\sum_{i=1}^{n} A_iB_i $ ; produit scalaire entre $\\mathbf{A}$ et $\\mathbf{B}$\n",
    "\n",
    "$||\\mathbf{A}|| = \\sqrt{\\sum{_{i=1}^{n}}A_i^2}$ ; norme de $\\mathbf{A}$\n",
    "\n",
    "$||\\mathbf{B}|| = \\sqrt{\\sum{_{i=1}^{n}}B_i^2}$ ; norme de $\\mathbf{B}$\n",
    "\n",
    "\n",
    "---\n",
    "\n",
    "$A$ = le chat noir mignon\n",
    "\n",
    "$B$ = le chien blanc mingon\n",
    "\n",
    "**documents/termes** |le | chat | noir | chien | blanc | mignon\n",
    "--- | --- | --- | --- | --- | --- | ---\n",
    "$A$ | 1 | 1 | 1 | 0 | 0 | 1\n",
    "$B$ | 1 | 0 | 0 | 1 | 1 | 1\n",
    "\n",
    "\n",
    "$n = 6 $\n",
    "\n",
    "$\\mathbf{A} = (1,1,1,0,0,1)$\n",
    "\n",
    "$\\mathbf{B} = (1,0,0,1,1,1)$\n",
    "\n",
    "$\\mathbf{A} \\cdot \\mathbf{B} = \\sum_{i=1}^{n} A_iB_i = (1\\times1)+(1\\times0)+(1\\times0)+(0\\times1)+(0\\times1)+(1\\times1) = 2$\n",
    "\n",
    "$||\\mathbf{A}|| = \\sqrt{\\sum{_{i=1}^{n}}A_i^2} = \\sqrt{1^2+1^2+1^2+0^2+0^2+1^2} = \\sqrt{4} = 2$\n",
    " \n",
    "$||\\mathbf{B}|| = \\sqrt{\\sum{_{i=1}^{n}}B_i^2} = \\sqrt{1^2+0^2+0^2+1^2+1^2+1^2} = \\sqrt{4} = 2$\n",
    "\n",
    "$sim(A,B) = \\cos(\\mathbf{A},\\mathbf{B}) = \\frac{\\mathbf{A} \\cdot \\mathbf{B}}{||\\mathbf{A}|| \\cdot ||\\mathbf{B}||} = \\frac{2}{2 \\times 2} = \\frac{2}{4} = \\frac{1}{2} =  0.5$\n",
    "  "
   ]
  },
  {
   "cell_type": "markdown",
   "metadata": {},
   "source": [
    "* ### Calculer la similarité cosinus entre deux documents"
   ]
  },
  {
   "cell_type": "code",
   "execution_count": 7,
   "metadata": {},
   "outputs": [
    {
     "name": "stdout",
     "output_type": "stream",
     "text": [
      "0.21170244960998524\n"
     ]
    }
   ],
   "source": [
    "import math\n",
    "def calculer_sim_cosinus(docA, docB):\n",
    "    termes_communs = list(set(docA).intersection(set(docB)))\n",
    "    \n",
    "    #produit scalaire\n",
    "    AB = 0\n",
    "    for terme_commun in termes_communs:\n",
    "        AB += docA[terme_commun] * docB[terme_commun]\n",
    "\n",
    "    #norme A\n",
    "    A_norme = 0\n",
    "    for terme, freq in docA.items():\n",
    "        A_norme += pow(freq, 2)\n",
    "    A_norme = math.sqrt(A_norme)\n",
    "\n",
    "    #norme B\n",
    "    B_norme = 0\n",
    "    for terme, freq in docB.items():\n",
    "        B_norme += pow(freq, 2)\n",
    "    B_norme = math.sqrt(B_norme)\n",
    "    \n",
    "    sim_cosinus = AB / (A_norme * B_norme)\n",
    "    \n",
    "    return sim_cosinus\n",
    "\n",
    "r = calculer_sim_cosinus(index_inverse[\"document1\"], index_inverse[\"document2\"])\n",
    "print(r)"
   ]
  },
  {
   "cell_type": "markdown",
   "metadata": {},
   "source": [
    "* ### Marice de similarité (Cosinus) pour l'ensemble de documents"
   ]
  },
  {
   "cell_type": "code",
   "execution_count": 8,
   "metadata": {},
   "outputs": [
    {
     "name": "stdout",
     "output_type": "stream",
     "text": [
      "COSINUS\t\tdocument1\tdocument2\tdocument3\tdocument4\tdocument5\n",
      "document1\t1.000\t\t0.212\t\t0.265\t\t0.420\t\t0.347\t\t\n",
      "document2\t0.212\t\t1.000\t\t0.235\t\t0.467\t\t0.043\t\t\n",
      "document3\t0.265\t\t0.235\t\t1.000\t\t0.280\t\t0.129\t\t\n",
      "document4\t0.420\t\t0.467\t\t0.280\t\t1.000\t\t0.102\t\t\n",
      "document5\t0.347\t\t0.043\t\t0.129\t\t0.102\t\t1.000\t\t\n",
      "****************************************\n",
      "{'document1': {'document2': 0.21170244960998524, 'document3': 0.26462806201248157, 'document4': 0.41996052556580804, 'document5': 0.3471825374147068}, 'document2': {'document1': 0.21170244960998524, 'document3': 0.23529411764705882, 'document4': 0.46676002800933664, 'document5': 0.042874646285627205}, 'document3': {'document1': 0.26462806201248157, 'document2': 0.23529411764705882, 'document4': 0.280056016805602, 'document5': 0.12862393885688161}, 'document4': {'document1': 0.41996052556580804, 'document2': 0.46676002800933664, 'document3': 0.280056016805602, 'document5': 0.10206207261596574}, 'document5': {'document1': 0.3471825374147068, 'document2': 0.042874646285627205, 'document3': 0.12862393885688161, 'document4': 0.10206207261596574}}\n"
     ]
    }
   ],
   "source": [
    "import itertools\n",
    "def creer_matrice_cosinus(index_inverse):\n",
    "\n",
    "    matrice_sim = dict()\n",
    "    paires_docs = list(itertools.permutations(index_inverse.keys(), 2))    \n",
    "    \n",
    "    for docA, docB in paires_docs:\n",
    "        if docA not in matrice_sim:\n",
    "            matrice_sim[docA] = dict()\n",
    "        a=calculer_sim_cosinus(index_inverse[docA], index_inverse[docB])\n",
    "        matrice_sim[docA][docB] = calculer_sim_cosinus(index_inverse[docA], index_inverse[docB])\n",
    "\n",
    "    noms = matrice_sim.keys()\n",
    "    print(\"COSINUS\\t\\t\"+\"\\t\".join(noms))\n",
    "    for nom in noms:\n",
    "        print(nom, end=\"\\t\")\n",
    "        for nom_int in noms:\n",
    "            if nom_int not in matrice_sim[nom]:\n",
    "                print(\"1.000\", end=\"\\t\\t\")    \n",
    "            else:\n",
    "             print(\"{:.3f}\".format(matrice_sim[nom][nom_int]), end=\"\\t\\t\")\n",
    "        print(\"\")\n",
    "    return matrice_sim\n",
    "\n",
    "matrice_sim = creer_matrice_cosinus(index_inverse)\n",
    "print(\"*\"*40)\n",
    "print(matrice_sim)"
   ]
  },
  {
   "cell_type": "markdown",
   "metadata": {},
   "source": [
    "* ### Pondération des resultats avec la similarité cosinus"
   ]
  },
  {
   "cell_type": "code",
   "execution_count": 9,
   "metadata": {},
   "outputs": [
    {
     "name": "stdout",
     "output_type": "stream",
     "text": [
      "['document1', 'document2', 'document3', 'document4']\n",
      "{'document1': 0.1543033499620919, 'document2': 0.17149858514250882, 'document3': 0.17149858514250882, 'document4': 0.5443310539518172}\n"
     ]
    }
   ],
   "source": [
    "def indexer_requete(requete):\n",
    "    \n",
    "    index_requete = dict()\n",
    "    \n",
    "    for terme in requete.split():\n",
    "        if terme not in index_requete:\n",
    "            index_requete[terme] = 1\n",
    "        else:\n",
    "            index_requete[terme] += 1\n",
    "            \n",
    "    return index_requete\n",
    "\n",
    "def calculer_ponderation_cosinus(requete, index_inverse, documents_trouves):\n",
    "    \n",
    "    ponderations = dict()\n",
    "    index_requete = indexer_requete(requete)\n",
    "    \n",
    "    for docA in documents_trouves:\n",
    "        \n",
    "        ponderations[docA] = calculer_sim_cosinus(index_inverse[docA], index_requete)\n",
    "    \n",
    "    return ponderations\n",
    "            \n",
    "requete = \"trou blanc\"\n",
    "documents_trouves = requeter_documets(requete, index)\n",
    "print(documents_trouves)\n",
    "ponderations_cosinus = calculer_ponderation_cosinus(requete, index_inverse, documents_trouves)\n",
    "print(ponderations_cosinus)"
   ]
  },
  {
   "cell_type": "markdown",
   "metadata": {},
   "source": [
    "## Représenter en termes de TF-IDF\n",
    "\n",
    "\n",
    "À partir de notre exemple de Similarité cosinus :\n",
    "\n",
    "$A$ = le chat noir mignon\n",
    "\n",
    "$B$ = le chien blanc mingon\n",
    "\n",
    "```python\n",
    "alldocs = {\"A\": {\"le\": 1, \"chat\": 1, \"noir\": 1, \"mignon\": 1},\n",
    "           \"B\": {\"le\": 1, \"chien\": 1, \"blanc\": 1, \"mignon\": 1}}\n",
    "\n",
    "allvoc = {\"le\": 2 , \"chat\": 1, \"noir\": 1, \"mignon\": 2, \"chien\": 1, \"blanc\":1}\n",
    "```\n",
    "\n",
    "**Term Frequency (TF)** : le taux d'apparition d'un mot dans un document. Il est toujours dans l'interval de 0 à 1 (inclus). Cette mesure présente si ce mot est fréquent (donc important) par rapport aux autres mots du même document.\n",
    "\n",
    "\n",
    "$TF_{(terme_m, document_d)}=$ (nombre d'occurrence du $terme_m$ dans $document_d$) / (nombre total de toutes les occurrences de tous les termes dans $document_d$)\n",
    " \n",
    "\n",
    "```python\n",
    "TF = {\"A\": {\"le\": 0.25, \"chat\": 0.25, \"noir\": 0.25, \"mignon\": 0.25},\n",
    "           \"B\": {\"le\": 0.25, \"chien\": 0.25, \"blanc\": 0.25, \"mignon\": 0.25}}\n",
    "```\n",
    "\n",
    "**Inverse Document Frequency (IDF)** : Une mesure globale pour un terme. Cette mesure est dans l'interval de 0 à 1 (inclus). Elle représente l'importance d'un mot pour marquer un document dans la base. Si un mot n'est présent dans qu'un seul document, ce mot est important pour retrouver le document. En revanche, si un mot est présent dans tous les documents de la base, il n'est pas significatif et son score IDF sera faible.\n",
    "\n",
    "$IDF{(terme_m)} = log_{10}( $ (nombre total de documents)/(nombre de documents où $terme_m$ est présent) $)$\n",
    "\n",
    "Total de documents : 2\n",
    "\n",
    "```python\n",
    "IDF = {\"le\": 0.0 , \"chat\": 0.301, \"noir\": 0.301, \"mignon\": 0.0, \"chien\": 0.301, \"blanc\": 0.301}\n",
    "```"
   ]
  },
  {
   "cell_type": "code",
   "execution_count": 10,
   "metadata": {},
   "outputs": [
    {
     "name": "stdout",
     "output_type": "stream",
     "text": [
      "0.3010299956639812\n",
      "0.0\n"
     ]
    }
   ],
   "source": [
    "print(math.log10(2/1))\n",
    "print(math.log10(2/2))"
   ]
  },
  {
   "cell_type": "markdown",
   "metadata": {},
   "source": [
    "Finalement, \n",
    "\n",
    "```python\n",
    "TF = {\"A\": {\"le\": 0.25, \"chat\": 0.25, \"noir\": 0.25, \"mignon\": 0.25},\n",
    "      \"B\": {\"le\": 0.25, \"chien\": 0.25, \"blanc\": 0.25, \"mignon\": 0.25}}\n",
    "\n",
    "IDF = {\"le\": 0.0 , \"chat\": 0.301, \"noir\": 0.301, \"mignon\": 0.0, \"chien\": 0.301, \"blanc\": 0.301}\n",
    "```\n",
    "\n",
    "**TF-IDF** = $TF \\cdot IDF$\n",
    "\n",
    "```python\n",
    "alldocs_TFIDF = {\"A\": {\"le\": 0.25*0.0, \"chat\": 0.25*0.301, \"noir\": 0.25*0.301, \"mignon\": 0.25*0.0},\n",
    "                 \"B\": {\"le\": 0.25*0.0, \"chien\": 0.25*0.301, \"blanc\": 0.25*0.301, \"mignon\": 0.25*0.0}}\n",
    "\n",
    "alldocs_TFIDF = {\"A\": {\"le\": 0.0, \"chat\": 0.075, \"noir\": 0.075, \"mignon\": 0.0},\n",
    "                 \"B\": {\"le\": 0.0, \"chien\": 0.075, \"blanc\": 0.075, \"mignon\": 0.0}}\n",
    "```\n",
    "\n",
    "---\n",
    "\n",
    "$A$ = le chat noir mignon\n",
    "\n",
    "$B$ = le chien blanc mingon\n",
    "\n",
    "**documents/termes** |le | chat | noir | chien | blanc | mignon\n",
    "--- | --- | --- | --- | --- | --- | ---\n",
    "$A$ | 0 | 0.075 | 0.075| 0 | 0 | 0\n",
    "$B$ | 0 | 0 | 0 | 0.075 | 0.075 | 0\n",
    "\n",
    "\n"
   ]
  },
  {
   "cell_type": "markdown",
   "metadata": {},
   "source": [
    "* ### Calculer TF-IDF pour l'ensemble de documents"
   ]
  },
  {
   "cell_type": "code",
   "execution_count": 11,
   "metadata": {},
   "outputs": [
    {
     "name": "stdout",
     "output_type": "stream",
     "text": [
      "{'un': 0.014789916641090426, 'trou': 0.006460667533870428, 'noir': 0.006460667533870428, 'empêche': 0.04659800028906792, 'toute': 0.04659800028906792, 'forme': 0.04659800028906792, 'de': 0.019382002601611284, 'matière': 0.04659800028906792, 'ou': 0.04659800028906792, 'rayonnement': 0.04659800028906792, \"s'\": 0.04659800028906792, 'en': 0.04659800028906792, 'échapper': 0.04659800028906792}\n"
     ]
    }
   ],
   "source": [
    "import math\n",
    "import copy\n",
    "\n",
    "def calculer_tfidf(index_inverse, index):\n",
    "\n",
    "    tfidf_index_inverse = copy.deepcopy(index_inverse)\n",
    "\n",
    "    # Calculer TF\n",
    "    for nom, termes_document in index_inverse.items():\n",
    "        totale_freqs = 0\n",
    "        for _, freq in termes_document.items():\n",
    "             totale_freqs += freq\n",
    "        for terme in tfidf_index_inverse[nom].keys():\n",
    "            tfidf_index_inverse[nom][terme] /= totale_freqs\n",
    "\n",
    "    # Calculer IDF        \n",
    "    totale_docs = len(index_inverse.keys())\n",
    "    idf_index = copy.deepcopy(index)\n",
    "    \n",
    "    for terme, noms in idf_index.items():\n",
    "        terme_rep = len(noms)\n",
    "        idf_val = math.log10(totale_docs / terme_rep)\n",
    "        idf_index[terme] = idf_val\n",
    "\n",
    "\n",
    "    # Calculer TFIDF\n",
    "    \n",
    "    for nom, termes_document in tfidf_index_inverse.items():\n",
    "        for terme in termes_document.keys():\n",
    "            tfidf_index_inverse[nom][terme] *= idf_index[terme]\n",
    "        \n",
    "    return tfidf_index_inverse, idf_index\n",
    "\n",
    "    \n",
    "tfidf_index_inverse, idf_index = calculer_tfidf(index_inverse, index)\n",
    "\n",
    "print(tfidf_index_inverse[\"document1\"])"
   ]
  },
  {
   "cell_type": "markdown",
   "metadata": {},
   "source": [
    "* ### Marices de similarité (Jaccard et Cosinus) pour l'ensemble de documents"
   ]
  },
  {
   "cell_type": "code",
   "execution_count": 12,
   "metadata": {},
   "outputs": [
    {
     "name": "stdout",
     "output_type": "stream",
     "text": [
      "JACCARD\t\tdocument1\tdocument2\tdocument3\tdocument4\tdocument5\n",
      "document1\t1.000\t\t0.125\t\t0.125\t\t0.200\t\t0.042\t\t\n",
      "document2\t0.125\t\t1.000\t\t0.120\t\t0.136\t\t0.040\t\t\n",
      "document3\t0.125\t\t0.120\t\t1.000\t\t0.190\t\t0.040\t\t\n",
      "document4\t0.200\t\t0.136\t\t0.190\t\t1.000\t\t0.045\t\t\n",
      "document5\t0.042\t\t0.040\t\t0.040\t\t0.045\t\t1.000\t\t\n",
      "COSINUS\t\tdocument1\tdocument2\tdocument3\tdocument4\tdocument5\n",
      "document1\t1.000\t\t0.025\t\t0.010\t\t0.052\t\t0.012\t\t\n",
      "document2\t0.025\t\t1.000\t\t0.066\t\t0.079\t\t0.022\t\t\n",
      "document3\t0.010\t\t0.066\t\t1.000\t\t0.047\t\t0.004\t\t\n",
      "document4\t0.052\t\t0.079\t\t0.047\t\t1.000\t\t0.004\t\t\n",
      "document5\t0.012\t\t0.022\t\t0.004\t\t0.004\t\t1.000\t\t\n"
     ]
    }
   ],
   "source": [
    "tfidf_matrice_jaccard = creer_matrice_jaccard(tfidf_index_inverse)\n",
    "\n",
    "tfidf_matrice_cosinus = creer_matrice_cosinus(tfidf_index_inverse)"
   ]
  },
  {
   "cell_type": "markdown",
   "metadata": {},
   "source": [
    "* ### Pondération des resultats avec la similarité cosinus et TFIDF"
   ]
  },
  {
   "cell_type": "code",
   "execution_count": 13,
   "metadata": {},
   "outputs": [
    {
     "name": "stdout",
     "output_type": "stream",
     "text": [
      "['document3', 'document5', 'document2']\n",
      "....\n",
      "{'document3': 0.140028008402801, 'document5': 0.30618621784789724, 'document2': 0.140028008402801}\n",
      "....\n",
      "{'document3': 0.20073287673501566, 'document5': 0.3214152782744513, 'document2': 0.06693445686443975}\n"
     ]
    }
   ],
   "source": [
    "def calculer_ponderation_cosinus_tfidf(requete, index_inverse, idf_index, documents_trouves):\n",
    "    \n",
    "    ponderations = dict()\n",
    "    index_requete = indexer_requete(requete)\n",
    "    \n",
    "    for terme in index_requete.keys():\n",
    "        index_requete[terme] *= idf_index[terme]\n",
    "    \n",
    "    for docA in documents_trouves:\n",
    "        \n",
    "        ponderations[docA] = calculer_sim_cosinus(index_inverse[docA], index_requete)\n",
    "    \n",
    "    return ponderations\n",
    "   \n",
    "    \n",
    "    \n",
    "requete = \"les saucisse cocktail\"\n",
    "documents_trouves = requeter_documets(requete, index)\n",
    "print(documents_trouves)\n",
    "print(\"....\")\n",
    "\n",
    "ponderations_cosinus = calculer_ponderation_cosinus(requete, index_inverse, documents_trouves)\n",
    "print(ponderations_cosinus)\n",
    "print(\"....\")\n",
    "ponderations_cosinus_tfidf = calculer_ponderation_cosinus_tfidf(requete, tfidf_index_inverse, idf_index, documents_trouves)\n",
    "print(ponderations_cosinus_tfidf)"
   ]
  }
 ],
 "metadata": {
  "kernelspec": {
   "display_name": "Python 3 (ipykernel)",
   "language": "python",
   "name": "python3"
  },
  "language_info": {
   "codemirror_mode": {
    "name": "ipython",
    "version": 3
   },
   "file_extension": ".py",
   "mimetype": "text/x-python",
   "name": "python",
   "nbconvert_exporter": "python",
   "pygments_lexer": "ipython3",
   "version": "3.9.7"
  }
 },
 "nbformat": 4,
 "nbformat_minor": 4
}
