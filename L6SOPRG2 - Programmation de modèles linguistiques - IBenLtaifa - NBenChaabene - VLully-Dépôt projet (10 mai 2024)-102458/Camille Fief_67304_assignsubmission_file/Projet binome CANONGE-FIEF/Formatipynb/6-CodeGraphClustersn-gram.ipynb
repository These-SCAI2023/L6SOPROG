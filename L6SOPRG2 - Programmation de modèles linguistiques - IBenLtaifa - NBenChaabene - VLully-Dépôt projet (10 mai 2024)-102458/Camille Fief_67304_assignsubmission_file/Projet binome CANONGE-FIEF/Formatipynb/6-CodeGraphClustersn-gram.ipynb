{
 "cells": [
  {
   "cell_type": "code",
   "execution_count": null,
   "id": "5100ff45",
   "metadata": {},
   "outputs": [],
   "source": [
    "import json\n",
    "import matplotlib.pyplot as plt\n",
    "import os"
   ]
  },
  {
   "cell_type": "code",
   "execution_count": null,
   "id": "56e3c75d",
   "metadata": {},
   "outputs": [],
   "source": [
    "# Fonction pour créer un graphique à partir d'un fichier JSON\n",
    "def creer_graphique(fichier_json):\n",
    "    # Chargement des données depuis le fichier JSON\n",
    "    with open(fichier_json) as json_file:\n",
    "        donnees = json.load(json_file)\n",
    "\n",
    "    # Récupération du nombre de clusters par langue\n",
    "    langues = list(donnees.keys())\n",
    "    nombre_clusters = [donnees[langue]['nombre_clusters'] for langue in langues]\n",
    "\n",
    "    # Si le fichier se termine par \"5\", multipliez le nombre de clusters par 2\n",
    "    if fichier_json.endswith(\"5.json\"):\n",
    "        nombre_clusters = [n * 2 for n in nombre_clusters]\n",
    "\n",
    "    # Création du graphique à barres\n",
    "    plt.figure(figsize=(10, 6))\n",
    "    bars = plt.bar(langues, nombre_clusters, color='skyblue')\n",
    "    plt.xlabel('Langue')\n",
    "    plt.ylabel('Nombre de clusters')\n",
    "    plt.title(f'Nombre de clusters par langue - {fichier_json}')\n",
    "    plt.xticks(fontsize=10)\n",
    "    plt.yticks(fontsize=10)\n",
    "    plt.grid(axis='y', linestyle='--', alpha=0.7)\n",
    "\n",
    "    # Ajout des nombres exacts au-dessus des barres\n",
    "    for bar, nombre in zip(bars, nombre_clusters):\n",
    "        plt.text(bar.get_x() + bar.get_width() / 2, bar.get_height(), str(nombre), ha='center', va='bottom', fontsize=9)\n",
    "\n",
    "    # Vérifie si le dossier 'graphiquesetape6et7ngramme' existe, sinon le crée\n",
    "    if not os.path.exists('graphiquesetape6et7ngramme'):\n",
    "        os.makedirs('graphiquesetape6et7ngramme')\n",
    "\n",
    "    # Enregistre le graphique dans le dossier 'graphiquesetape6et7ngramme'\n",
    "    plt.savefig(f\"graphiquesetape6et7ngramme/{fichier_json.split('.')[0]}.png\")\n",
    "    plt.close()"
   ]
  },
  {
   "cell_type": "code",
   "execution_count": null,
   "id": "992a758b",
   "metadata": {},
   "outputs": [],
   "source": [
    "# Liste des fichiers à traiter\n",
    "fichiers_a_traiter = [\"clusters_hierarchiqueB.json\", \"clusters_hierarchiqueT.json\", \"clusters_hierarchique4.json\", \"clusters_hierarchique5.json\"]\n",
    "\n",
    "# Création du graphique pour chaque fichier\n",
    "for fichier in fichiers_a_traiter:\n",
    "    creer_graphique(fichier)"
   ]
  }
 ],
 "metadata": {
  "kernelspec": {
   "display_name": "Python 3 (ipykernel)",
   "language": "python",
   "name": "python3"
  },
  "language_info": {
   "codemirror_mode": {
    "name": "ipython",
    "version": 3
   },
   "file_extension": ".py",
   "mimetype": "text/x-python",
   "name": "python",
   "nbconvert_exporter": "python",
   "pygments_lexer": "ipython3",
   "version": "3.11.5"
  }
 },
 "nbformat": 4,
 "nbformat_minor": 5
}
