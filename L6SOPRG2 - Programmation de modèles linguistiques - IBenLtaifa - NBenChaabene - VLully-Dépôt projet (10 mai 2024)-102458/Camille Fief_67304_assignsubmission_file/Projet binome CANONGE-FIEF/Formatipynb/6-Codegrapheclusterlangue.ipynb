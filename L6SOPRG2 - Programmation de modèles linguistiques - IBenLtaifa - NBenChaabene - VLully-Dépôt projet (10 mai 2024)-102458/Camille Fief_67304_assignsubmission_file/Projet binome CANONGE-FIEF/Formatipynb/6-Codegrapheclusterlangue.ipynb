{
 "cells": [
  {
   "cell_type": "code",
   "execution_count": null,
   "id": "4002a6d2",
   "metadata": {},
   "outputs": [],
   "source": [
    "import json\n",
    "import matplotlib.pyplot as plt\n",
    "import os"
   ]
  },
  {
   "cell_type": "code",
   "execution_count": null,
   "id": "dc9309a2",
   "metadata": {},
   "outputs": [],
   "source": [
    "# Chargement des données depuis le fichier JSON\n",
    "with open(\"clusters_hierarchiqueB.json\") as json_file:\n",
    "    donnees_B = json.load(json_file)\n",
    "\n",
    "with open(\"clusters_hierarchiqueT.json\") as json_file:\n",
    "    donnees_T = json.load(json_file)\n",
    "\n",
    "with open(\"clusters_hierarchique4.json\") as json_file:\n",
    "    donnees_4 = json.load(json_file)\n",
    "\n",
    "with open(\"clusters_hierarchique5.json\") as json_file:\n",
    "    donnees_5 = json.load(json_file)\n",
    "\n",
    "# Récupération du nombre de clusters par langue pour chaque type de fichier\n",
    "langues = list(donnees_B.keys())\n",
    "nombre_clusters_B = [donnees_B[langue]['nombre_clusters'] for langue in langues]\n",
    "nombre_clusters_T = [donnees_T[langue]['nombre_clusters'] for langue in langues]\n",
    "nombre_clusters_4 = [donnees_4[langue]['nombre_clusters'] for langue in langues]\n",
    "nombre_clusters_5 = [donnees_5[langue]['nombre_clusters']*2 for langue in langues]\n",
    "\n",
    "# Création des sous-graphiques par langue\n",
    "fig, axs = plt.subplots(len(langues), figsize=(10, 6*len(langues)), sharex=True)\n",
    "\n",
    "# Ajout des données à chaque sous-graphique\n",
    "for i, langue in enumerate(langues):\n",
    "    axs[i].bar(['B', 'T', '4', '5'], [nombre_clusters_B[i], nombre_clusters_T[i], nombre_clusters_4[i], nombre_clusters_5[i]], color=['skyblue', 'lightgreen', 'coral', 'gold'])\n",
    "    axs[i].set_ylabel('Nombre de clusters')\n",
    "    axs[i].set_title(f'Nombre de clusters pour la langue {langue}')\n",
    "\n",
    "plt.xlabel('Type de fichier')\n",
    "plt.tight_layout()\n",
    "\n",
    "# Vérifie si le dossier 'graphiquesetape6et7langue' existe, sinon le crée\n",
    "if not os.path.exists('graphiquesetape6et7langue'):\n",
    "    os.makedirs('graphiquesetape6et7langue')\n",
    "\n",
    "# Enregistre chaque figure dans le dossier 'graphiquesetape6et7langue'\n",
    "for index, langue in enumerate(langues):\n",
    "    plt.savefig(f\"graphiquesetape6et7langue/cluster_{langue}.png\")\n",
    "\n",
    "plt.show()"
   ]
  }
 ],
 "metadata": {
  "kernelspec": {
   "display_name": "Python 3 (ipykernel)",
   "language": "python",
   "name": "python3"
  },
  "language_info": {
   "codemirror_mode": {
    "name": "ipython",
    "version": 3
   },
   "file_extension": ".py",
   "mimetype": "text/x-python",
   "name": "python",
   "nbconvert_exporter": "python",
   "pygments_lexer": "ipython3",
   "version": "3.11.5"
  }
 },
 "nbformat": 4,
 "nbformat_minor": 5
}
