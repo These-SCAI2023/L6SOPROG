{
 "cells": [
  {
   "cell_type": "code",
   "execution_count": null,
   "id": "79467de1",
   "metadata": {},
   "outputs": [],
   "source": [
    "import numpy as np\n",
    "from sklearn.feature_extraction.text import CountVectorizer\n",
    "from sklearn.metrics.pairwise import cosine_distances\n",
    "from sklearn.cluster import AgglomerativeClustering\n",
    "import json\n",
    "import glob\n",
    "import os"
   ]
  },
  {
   "cell_type": "code",
   "execution_count": null,
   "id": "3c75ea06",
   "metadata": {},
   "outputs": [],
   "source": [
    "def lire_fichier(chemin):\n",
    "    with open(chemin) as json_data:\n",
    "        texte = json.load(json_data)\n",
    "    return texte\n",
    "\n",
    "chemin_entree = \"donneesjson4\"  # Chemin d'entrée où se trouvent les fichiers JSON à traiter"
   ]
  },
  {
   "cell_type": "code",
   "execution_count": null,
   "id": "b6b86aec",
   "metadata": {},
   "outputs": [],
   "source": [
    "# Fonction pour effectuer le clustering hiérarchique par langue\n",
    "def cluster_hierarchique_par_langue(data, langue):\n",
    "    if not data:\n",
    "        return [], [], [], []  # Retourner des listes vides si aucune donnée pour la langue donnée\n",
    "    \n",
    "    # Conversion des données en vecteurs (pas nécessaire dans ce cas)\n",
    "    vectorizer = CountVectorizer(ngram_range=(4,4), analyzer='char')\n",
    "    X = vectorizer.fit_transform(data)\n",
    "    \n",
    "    # Calcul des distances entre les échantillons\n",
    "    distances = cosine_distances(X)\n",
    "    \n",
    "    # Clustering hiérarchique\n",
    "    clustering = AgglomerativeClustering(n_clusters=None, metric='precomputed', linkage='complete', distance_threshold=0.7)\n",
    "    clustering.fit(distances)\n",
    "    \n",
    "    # Extraction des clusters\n",
    "    clusters_centroides = []\n",
    "    clusters_mots = []\n",
    "    clusters_nombre_mots = []\n",
    "    clusters_frequence_totale = []\n",
    "    \n",
    "    for cluster_id in np.unique(clustering.labels_):\n",
    "        cluster_indices = np.where(clustering.labels_ == cluster_id)[0]\n",
    "        cluster = [data[i] for i in cluster_indices]\n",
    "        exemplar = cluster[0]\n",
    "        frequence_totale = sum([data.count(mot) for mot in cluster])\n",
    "        clusters_centroides.append(exemplar)\n",
    "        clusters_mots.append(cluster)\n",
    "        clusters_nombre_mots.append(len(cluster))\n",
    "        clusters_frequence_totale.append(frequence_totale)\n",
    "    \n",
    "    return clusters_centroides, clusters_mots, clusters_nombre_mots, clusters_frequence_totale"
   ]
  },
  {
   "cell_type": "code",
   "execution_count": null,
   "id": "a9139191",
   "metadata": {},
   "outputs": [],
   "source": [
    "# Dictionnaire pour stocker les données de chaque langue\n",
    "donnees_par_langue = {}\n",
    "\n",
    "# Boucle sur les langues\n",
    "for langue in [\"en\", \"es\", \"fr\"]:\n",
    "    data_langue = []\n",
    "    # Boucle sur les fichiers JSON\n",
    "    json_files = glob.glob(os.path.join(chemin_entree, langue, \"*\", \"*.json\"))\n",
    "    for json_file in json_files:\n",
    "        data_langue += lire_fichier(json_file)\n",
    "    \n",
    "    # Effectuer le clustering hiérarchique par langue\n",
    "    clusters_centroides, clusters_mots, clusters_nombre_mots, clusters_frequence_totale = cluster_hierarchique_par_langue(data_langue, langue)\n",
    "    \n",
    "    # Stocker les données dans le dictionnaire\n",
    "    donnees_par_langue[langue] = {\n",
    "        'nombre_clusters': len(clusters_centroides),\n",
    "        'centroids': clusters_centroides,\n",
    "        '4-grammes': clusters_mots,\n",
    "        '4-gramme_counts': clusters_nombre_mots,\n",
    "        'total_4-gramme_frequencies': clusters_frequence_totale\n",
    "    }\n",
    "\n",
    "# Chemin de sauvegarde du fichier JSON\n",
    "chemin_sortie_json = \"clusters_hierarchique4.json\"\n",
    "\n",
    "# Écriture du dictionnaire dans un fichier\n",
    "with open(chemin_sortie_json, 'w') as json_file:\n",
    "    json.dump(donnees_par_langue, json_file, indent=4)"
   ]
  }
 ],
 "metadata": {
  "kernelspec": {
   "display_name": "Python 3 (ipykernel)",
   "language": "python",
   "name": "python3"
  },
  "language_info": {
   "codemirror_mode": {
    "name": "ipython",
    "version": 3
   },
   "file_extension": ".py",
   "mimetype": "text/x-python",
   "name": "python",
   "nbconvert_exporter": "python",
   "pygments_lexer": "ipython3",
   "version": "3.11.5"
  }
 },
 "nbformat": 4,
 "nbformat_minor": 5
}
