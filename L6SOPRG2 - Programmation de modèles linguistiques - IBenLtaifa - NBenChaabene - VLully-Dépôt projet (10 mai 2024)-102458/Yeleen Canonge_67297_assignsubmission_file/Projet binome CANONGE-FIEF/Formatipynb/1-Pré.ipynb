{
 "cells": [
  {
   "cell_type": "code",
   "execution_count": null,
   "id": "43d9080e",
   "metadata": {},
   "outputs": [],
   "source": [
    "import nltk\n",
    "import spacy"
   ]
  },
  {
   "cell_type": "code",
   "execution_count": null,
   "id": "c8925594",
   "metadata": {},
   "outputs": [],
   "source": [
    "def download_nltk_resources():\n",
    "    # Télécharger les ressources nécessaires pour nltk\n",
    "    nltk.download('punkt')"
   ]
  },
  {
   "cell_type": "code",
   "execution_count": null,
   "id": "03b7e9d7",
   "metadata": {},
   "outputs": [],
   "source": [
    "def download_spacy_models():\n",
    "    # Télécharger les modèles SpaCy pour les trois langues\n",
    "    languages = ['en_core_web_sm', 'fr_core_news_sm', 'es_core_news_sm']\n",
    "    for lang in languages:\n",
    "        spacy.cli.download(lang)"
   ]
  },
  {
   "cell_type": "code",
   "execution_count": null,
   "id": "90e7aa65",
   "metadata": {},
   "outputs": [],
   "source": [
    "# Télécharger les ressources nécessaires pour nltk\n",
    "download_nltk_resources()"
   ]
  },
  {
   "cell_type": "code",
   "execution_count": null,
   "id": "6e7ec8b6",
   "metadata": {},
   "outputs": [],
   "source": [
    "# Télécharger les modèles SpaCy pour les trois langues\n",
    "download_spacy_models()"
   ]
  }
 ],
 "metadata": {
  "kernelspec": {
   "display_name": "Python 3 (ipykernel)",
   "language": "python",
   "name": "python3"
  },
  "language_info": {
   "codemirror_mode": {
    "name": "ipython",
    "version": 3
   },
   "file_extension": ".py",
   "mimetype": "text/x-python",
   "name": "python",
   "nbconvert_exporter": "python",
   "pygments_lexer": "ipython3",
   "version": "3.11.5"
  }
 },
 "nbformat": 4,
 "nbformat_minor": 5
}
