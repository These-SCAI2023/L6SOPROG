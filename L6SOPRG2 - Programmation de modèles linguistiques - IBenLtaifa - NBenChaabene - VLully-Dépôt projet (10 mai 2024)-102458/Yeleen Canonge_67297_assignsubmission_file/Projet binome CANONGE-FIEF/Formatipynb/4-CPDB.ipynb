{
 "cells": [
  {
   "cell_type": "code",
   "execution_count": null,
   "id": "be4d66d1",
   "metadata": {},
   "outputs": [],
   "source": [
    "import glob\n",
    "import json\n",
    "import os\n",
    "import re"
   ]
  },
  {
   "cell_type": "code",
   "execution_count": null,
   "id": "3469b293",
   "metadata": {},
   "outputs": [],
   "source": [
    "# Fonction pour nettoyer les données textuelles\n",
    "def nettoyer_texte(texte, langue=None):\n",
    "    # Supprimer la ponctuation et les chiffres\n",
    "    texte = re.sub(r'[^a-zA-Z]', '', texte)\n",
    "    # Conversion en minuscules\n",
    "    texte = texte.lower()\n",
    "    # Génération de bi-grammes de lettres consécutives\n",
    "    bi_grams = [texte[i:i+2] for i in range(len(texte)-1)]\n",
    "    return bi_grams"
   ]
  },
  {
   "cell_type": "code",
   "execution_count": null,
   "id": "74e7f9ed",
   "metadata": {},
   "outputs": [],
   "source": [
    "def process_files(folder_path, max_files_per_language=20):\n",
    "    data = {}\n",
    "    files_per_language = {'fr': 0, 'en': 0, 'es': 0}  # Compteur pour les fichiers traités par langue\n",
    "    for file_path in glob.glob(os.path.join(folder_path, \"corpusM\", \"**\", \"**\", \"*.html\"), recursive=True):\n",
    "        # Extraire la langue du chemin du fichier\n",
    "        lang = file_path.split(os.path.sep)[-3]\n",
    "        if lang not in files_per_language:\n",
    "            continue  # Ignorer les langues autres que fr, en, es\n",
    "        \n",
    "        # Vérifier si le nombre maximum de fichiers par langue a été atteint\n",
    "        if files_per_language[lang] >= max_files_per_language:\n",
    "            continue\n",
    "        \n",
    "        with open(file_path, 'r', encoding='utf-8') as file:\n",
    "            file_data = file.read().strip()\n",
    "            \n",
    "            # Nettoyage des données textuelles\n",
    "            tokens = nettoyer_texte(file_data, lang)\n",
    "            \n",
    "            # Utilisation du chemin relatif comme clé\n",
    "            relative_path = os.path.relpath(file_path, os.path.join(folder_path, \"corpusM\"))\n",
    "            data[relative_path] = set(tokens)\n",
    "            \n",
    "            # Incrémenter le compteur de fichiers traités pour cette langue\n",
    "            files_per_language[lang] += 1\n",
    "            \n",
    "    return data"
   ]
  },
  {
   "cell_type": "code",
   "execution_count": null,
   "id": "c7ab804a",
   "metadata": {},
   "outputs": [],
   "source": [
    "# Si ce script est exécuté en tant que programme principal\n",
    "if __name__ == \"__main__\":\n",
    "    # Récupère le chemin du répertoire actuel\n",
    "    folder_path = '.'\n",
    "    # Crée un chemin pour le répertoire de sortie \"donneesjson\" dans le répertoire actuel\n",
    "    output_folder = os.path.join(folder_path, \"donneesjsonB\")\n",
    "    # Crée le répertoire de sortie s'il n'existe pas déjà\n",
    "    os.makedirs(output_folder, exist_ok=True)\n",
    "    \n",
    "    # Traite les fichiers dans le répertoire actuel et ses sous-répertoires\n",
    "    processed_data = process_files(folder_path)\n",
    "    \n",
    "    # Parcourt les données traitées\n",
    "    for filename, file_data in processed_data.items():\n",
    "        # Crée le chemin de sortie pour chaque fichier JSON en conservant la structure des dossiers\n",
    "        output_path = os.path.join(output_folder, filename.replace('.html', '.json'))\n",
    "        # Crée les dossiers nécessaires pour le fichier de sortie\n",
    "        os.makedirs(os.path.dirname(output_path), exist_ok=True)\n",
    "        # Ouvre chaque fichier JSON en mode écriture, spécifiant l'encodage utf-8\n",
    "        with open(output_path, 'w', encoding='utf-8') as outfile:\n",
    "            # Convertit les données du fichier en une liste de tokens et les écrit dans le fichier JSON\n",
    "            json.dump(list(file_data), outfile, ensure_ascii=False, indent=4)"
   ]
  }
 ],
 "metadata": {
  "kernelspec": {
   "display_name": "Python 3 (ipykernel)",
   "language": "python",
   "name": "python3"
  },
  "language_info": {
   "codemirror_mode": {
    "name": "ipython",
    "version": 3
   },
   "file_extension": ".py",
   "mimetype": "text/x-python",
   "name": "python",
   "nbconvert_exporter": "python",
   "pygments_lexer": "ipython3",
   "version": "3.11.5"
  }
 },
 "nbformat": 4,
 "nbformat_minor": 5
}
