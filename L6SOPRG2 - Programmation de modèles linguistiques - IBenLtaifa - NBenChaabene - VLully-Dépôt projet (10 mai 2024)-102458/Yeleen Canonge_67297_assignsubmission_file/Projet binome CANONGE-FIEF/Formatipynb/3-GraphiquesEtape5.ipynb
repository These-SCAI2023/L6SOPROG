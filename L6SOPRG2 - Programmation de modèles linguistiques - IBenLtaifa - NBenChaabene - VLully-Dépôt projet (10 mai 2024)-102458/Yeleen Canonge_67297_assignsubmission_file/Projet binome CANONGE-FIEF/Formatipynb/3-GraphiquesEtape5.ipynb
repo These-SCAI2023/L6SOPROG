{
 "cells": [
  {
   "cell_type": "code",
   "execution_count": null,
   "id": "180766af",
   "metadata": {},
   "outputs": [],
   "source": [
    "import json\n",
    "import matplotlib.pyplot as plt"
   ]
  },
  {
   "cell_type": "code",
   "execution_count": null,
   "id": "13e6efb8",
   "metadata": {},
   "outputs": [],
   "source": [
    "# Chargement des données depuis le fichier JSON\n",
    "with open('informations.json', 'r') as f:\n",
    "    data = json.load(f)"
   ]
  },
  {
   "cell_type": "code",
   "execution_count": null,
   "id": "1a938d23",
   "metadata": {},
   "outputs": [],
   "source": [
    "# Fonction pour créer les nuages de points pour chaque langue\n",
    "def plot_metrics_scatter(langue):\n",
    "    # Récupération des données pour la langue donnée\n",
    "    nb_tokens = data[langue]['nb_tokens_par_texte']\n",
    "    nb_token_type = data[langue]['nb_token_type_par_texte']\n",
    "    proportion_lemmes = data[langue]['proportion_lemmes_par_texte']\n",
    "    proportion_noms_propres = data[langue]['proportion_noms_propres_par_texte']\n",
    "\n",
    "    # Création du nuage de points pour le nombre de tokens par texte\n",
    "    plt.figure(figsize=(10, 8))\n",
    "    plt.scatter(range(1, len(nb_tokens) + 1), nb_tokens, color='blue')\n",
    "    plt.title(f'Nombre de tokens par texte ({langue})')\n",
    "    plt.xlabel('Texte')\n",
    "    plt.ylabel('Nombre de tokens')\n",
    "    plt.show()\n",
    "\n",
    "    # Création du nuage de points pour le nombre de token types par texte\n",
    "    plt.figure(figsize=(10, 8))\n",
    "    plt.scatter(range(1, len(nb_token_type) + 1), nb_token_type, color='blue')\n",
    "    plt.title(f'Nombre de token types par texte ({langue})')\n",
    "    plt.xlabel('Texte')\n",
    "    plt.ylabel('Nombre de token types')\n",
    "    plt.show()\n",
    "\n",
    "    # Création du nuage de points pour la proportion de lemmes par texte\n",
    "    plt.figure(figsize=(10, 8))\n",
    "    plt.scatter(range(1, len(proportion_lemmes) + 1), proportion_lemmes, color='blue')\n",
    "    plt.title(f'Proportion de lemmes par texte ({langue})')\n",
    "    plt.xlabel('Texte')\n",
    "    plt.ylabel('Proportion de lemmes')\n",
    "    plt.show()\n",
    "\n",
    "    # Création du nuage de points pour la proportion de noms propres par texte\n",
    "    plt.figure(figsize=(10, 8))\n",
    "    plt.scatter(range(1, len(proportion_noms_propres) + 1), proportion_noms_propres, color='blue')\n",
    "    plt.title(f'Proportion de noms propres par texte ({langue})')\n",
    "    plt.xlabel('Texte')\n",
    "    plt.ylabel('Proportion de noms propres')\n",
    "    plt.show()"
   ]
  },
  {
   "cell_type": "code",
   "execution_count": null,
   "id": "3376d7fa",
   "metadata": {},
   "outputs": [],
   "source": [
    "# Création des nuages de points pour chaque langue\n",
    "plot_metrics_scatter('fr')  # Français\n",
    "plot_metrics_scatter('en')  # Anglais\n",
    "plot_metrics_scatter('es')  # Espagnol"
   ]
  }
 ],
 "metadata": {
  "kernelspec": {
   "display_name": "Python 3 (ipykernel)",
   "language": "python",
   "name": "python3"
  },
  "language_info": {
   "codemirror_mode": {
    "name": "ipython",
    "version": 3
   },
   "file_extension": ".py",
   "mimetype": "text/x-python",
   "name": "python",
   "nbconvert_exporter": "python",
   "pygments_lexer": "ipython3",
   "version": "3.11.5"
  }
 },
 "nbformat": 4,
 "nbformat_minor": 5
}
