{
 "cells": [
  {
   "cell_type": "markdown",
   "metadata": {},
   "source": [
    "# Import des bibliothèques et chargement des données"
   ]
  },
  {
   "cell_type": "code",
   "execution_count": 98,
   "metadata": {},
   "outputs": [],
   "source": [
    "from sklearn.naive_bayes import MultinomialNB\n",
    "from sklearn.ensemble import AdaBoostClassifier\n",
    "import pandas as pd\n",
    "import numpy as np"
   ]
  },
  {
   "cell_type": "code",
   "execution_count": 105,
   "metadata": {},
   "outputs": [],
   "source": [
    "data = pd.read_csv(\"spambase.data\").values\n",
    "np.random.shuffle(data) #Cela donne une table numpy contenant des valeurs numériques"
   ]
  },
  {
   "cell_type": "markdown",
   "metadata": {},
   "source": [
    "# Préparation des données"
   ]
  },
  {
   "cell_type": "code",
   "execution_count": 106,
   "metadata": {},
   "outputs": [
    {
     "name": "stdout",
     "output_type": "stream",
     "text": [
      "[[0.0000e+00 0.0000e+00 0.0000e+00 ... 1.0533e+01 6.5000e+01 1.5800e+02]\n",
      " [1.1700e+00 3.5200e+00 0.0000e+00 ... 1.0000e+00 1.0000e+00 1.4000e+01]\n",
      " [0.0000e+00 0.0000e+00 0.0000e+00 ... 1.4000e+00 3.0000e+00 7.0000e+00]\n",
      " ...\n",
      " [1.5000e-01 0.0000e+00 1.2200e+00 ... 5.1010e+00 6.3000e+01 8.0100e+02]\n",
      " [0.0000e+00 0.0000e+00 8.5000e-01 ... 1.2060e+00 7.0000e+00 1.1700e+02]\n",
      " [0.0000e+00 0.0000e+00 1.5000e-01 ... 5.4230e+00 5.1000e+01 1.1280e+03]]\n"
     ]
    }
   ],
   "source": [
    "#Essai numéro 1\n",
    "#X = [i[:-1] for i in data]\n",
    "#print(X)\n",
    "\n",
    "#Essai numéro 2\n",
    "X = np.zeros(shape = (4600,57)) #print(data.shape)\n",
    "for i in range(len(data)):\n",
    "    X [i] = data[i][:-1]\n",
    "print(X)"
   ]
  },
  {
   "cell_type": "code",
   "execution_count": 127,
   "metadata": {},
   "outputs": [
    {
     "name": "stdout",
     "output_type": "stream",
     "text": [
      "[1. 0. 0. ... 1. 1. 1.]\n"
     ]
    }
   ],
   "source": [
    "Y = np.zeros(shape = (4600,1)) #print(data.shape)\n",
    "for i in range(len(data)):\n",
    "    Y[i] = data[i][-1]\n",
    "Y = Y.ravel()\n",
    "print(Y)"
   ]
  },
  {
   "cell_type": "code",
   "execution_count": 128,
   "metadata": {},
   "outputs": [],
   "source": [
    "Xtrain = X[:-100]\n",
    "Ytrain = Y[:-100]"
   ]
  },
  {
   "cell_type": "code",
   "execution_count": 129,
   "metadata": {},
   "outputs": [],
   "source": [
    "Xtest = X[-100:]\n",
    "Ytest = Y[-100:]"
   ]
  },
  {
   "cell_type": "markdown",
   "metadata": {},
   "source": [
    "# Chargement des modèles"
   ]
  },
  {
   "cell_type": "raw",
   "metadata": {},
   "source": [
    "    Entrainement sur le modèle MultinomialNB"
   ]
  },
  {
   "cell_type": "code",
   "execution_count": 132,
   "metadata": {},
   "outputs": [
    {
     "data": {
      "text/plain": [
       "MultinomialNB(alpha=1.0, class_prior=None, fit_prior=True)"
      ]
     },
     "execution_count": 132,
     "metadata": {},
     "output_type": "execute_result"
    }
   ],
   "source": [
    "modelMulti = MultinomialNB()\n",
    "modelMulti.fit(Xtrain, Ytrain)"
   ]
  },
  {
   "cell_type": "code",
   "execution_count": 133,
   "metadata": {},
   "outputs": [
    {
     "name": "stdout",
     "output_type": "stream",
     "text": [
      "Précision pour NB: 0.78\n"
     ]
    }
   ],
   "source": [
    "precisionMulti = modelMulti.score(Xtest, Ytest)\n",
    "print(\"Précision pour NB:\", precisionMulti) # Résultat de 78% de précision"
   ]
  },
  {
   "cell_type": "raw",
   "metadata": {},
   "source": [
    "    Entrainement sur le modèle AdaBoostClassifier"
   ]
  },
  {
   "cell_type": "code",
   "execution_count": 134,
   "metadata": {},
   "outputs": [
    {
     "data": {
      "text/plain": [
       "AdaBoostClassifier(algorithm='SAMME.R', base_estimator=None, learning_rate=1.0,\n",
       "                   n_estimators=50, random_state=None)"
      ]
     },
     "execution_count": 134,
     "metadata": {},
     "output_type": "execute_result"
    }
   ],
   "source": [
    "#Cette fois-ci avec AdaBoostClassifier\n",
    "modelAda = AdaBoostClassifier()\n",
    "modelAda.fit(Xtrain, Ytrain)"
   ]
  },
  {
   "cell_type": "code",
   "execution_count": 135,
   "metadata": {},
   "outputs": [
    {
     "name": "stdout",
     "output_type": "stream",
     "text": [
      "Précision pour NB: 0.92\n"
     ]
    }
   ],
   "source": [
    "precisionAda = modelAda.score(Xtest, Ytest)\n",
    "print(\"Précision pour NB:\", precisionAda) # Résultat de 92% de précision"
   ]
  },
  {
   "cell_type": "raw",
   "metadata": {},
   "source": [
    "Les résultats du modèle AdaBoostClassifier sont bien plus corrects, avec seulement 8% d'inprécision, contre 26% pour le modèle MultinomialNB."
   ]
  }
 ],
 "metadata": {
  "kernelspec": {
   "display_name": "Python 3",
   "language": "python",
   "name": "python3"
  },
  "language_info": {
   "codemirror_mode": {
    "name": "ipython",
    "version": 3
   },
   "file_extension": ".py",
   "mimetype": "text/x-python",
   "name": "python",
   "nbconvert_exporter": "python",
   "pygments_lexer": "ipython3",
   "version": "3.8.8"
  }
 },
 "nbformat": 4,
 "nbformat_minor": 4
}
