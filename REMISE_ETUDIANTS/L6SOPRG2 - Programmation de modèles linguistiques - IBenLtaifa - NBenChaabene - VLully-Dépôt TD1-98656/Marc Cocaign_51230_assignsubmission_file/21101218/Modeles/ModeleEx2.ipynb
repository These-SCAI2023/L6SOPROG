{
 "cells": [
  {
   "cell_type": "markdown",
   "metadata": {},
   "source": [
    "# Import des bibliothèques et chargement des données"
   ]
  },
  {
   "cell_type": "code",
   "execution_count": 36,
   "metadata": {},
   "outputs": [],
   "source": [
    "import numpy as np\n",
    "import pandas as pd\n",
    "from sklearn.feature_extraction.text import TfidfVectorizer\n",
    "from sklearn.model_selection import train_test_split\n",
    "from sklearn.naive_bayes import MultinomialNB\n",
    "from sklearn.model_selection import train_test_split\n",
    "from sklearn.ensemble import AdaBoostClassifier"
   ]
  },
  {
   "cell_type": "code",
   "execution_count": 2,
   "metadata": {},
   "outputs": [],
   "source": [
    "df = pd.read_csv(\"spam.csv\", encoding=\"ISO 8859 1\")"
   ]
  },
  {
   "cell_type": "markdown",
   "metadata": {},
   "source": [
    "# Traitement des données"
   ]
  },
  {
   "cell_type": "code",
   "execution_count": 3,
   "metadata": {},
   "outputs": [
    {
     "name": "stdout",
     "output_type": "stream",
     "text": [
      "        v1                                                 v2 Unnamed: 2  \\\n",
      "0      ham  Go until jurong point, crazy.. Available only ...        NaN   \n",
      "1      ham                      Ok lar... Joking wif u oni...        NaN   \n",
      "2     spam  Free entry in 2 a wkly comp to win FA Cup fina...        NaN   \n",
      "3      ham  U dun say so early hor... U c already then say...        NaN   \n",
      "4      ham  Nah I don't think he goes to usf, he lives aro...        NaN   \n",
      "...    ...                                                ...        ...   \n",
      "5567  spam  This is the 2nd time we have tried 2 contact u...        NaN   \n",
      "5568   ham              Will Ì_ b going to esplanade fr home?        NaN   \n",
      "5569   ham  Pity, * was in mood for that. So...any other s...        NaN   \n",
      "5570   ham  The guy did some bitching but I acted like i'd...        NaN   \n",
      "5571   ham                         Rofl. Its true to its name        NaN   \n",
      "\n",
      "     Unnamed: 3 Unnamed: 4  \n",
      "0           NaN        NaN  \n",
      "1           NaN        NaN  \n",
      "2           NaN        NaN  \n",
      "3           NaN        NaN  \n",
      "4           NaN        NaN  \n",
      "...         ...        ...  \n",
      "5567        NaN        NaN  \n",
      "5568        NaN        NaN  \n",
      "5569        NaN        NaN  \n",
      "5570        NaN        NaN  \n",
      "5571        NaN        NaN  \n",
      "\n",
      "[5572 rows x 5 columns]\n"
     ]
    }
   ],
   "source": [
    "print(df)"
   ]
  },
  {
   "cell_type": "code",
   "execution_count": 4,
   "metadata": {},
   "outputs": [
    {
     "name": "stdout",
     "output_type": "stream",
     "text": [
      "     labels                                               data\n",
      "0       ham  Go until jurong point, crazy.. Available only ...\n",
      "1       ham                      Ok lar... Joking wif u oni...\n",
      "2      spam  Free entry in 2 a wkly comp to win FA Cup fina...\n",
      "3       ham  U dun say so early hor... U c already then say...\n",
      "4       ham  Nah I don't think he goes to usf, he lives aro...\n",
      "...     ...                                                ...\n",
      "5567   spam  This is the 2nd time we have tried 2 contact u...\n",
      "5568    ham              Will Ì_ b going to esplanade fr home?\n",
      "5569    ham  Pity, * was in mood for that. So...any other s...\n",
      "5570    ham  The guy did some bitching but I acted like i'd...\n",
      "5571    ham                         Rofl. Its true to its name\n",
      "\n",
      "[5572 rows x 2 columns]\n"
     ]
    }
   ],
   "source": [
    "df = df.drop([\"Unnamed: 2\", \"Unnamed: 3\", \"Unnamed: 4\"] , axis=1)\n",
    "df.columns =  [\"labels\", \"data\"]\n",
    "# On a supprimé les colonnes \"Unnamed\" qui contenaient des cases vides\n",
    "# et modifié les noms de colonnes.\n",
    "print(df)"
   ]
  },
  {
   "cell_type": "code",
   "execution_count": 5,
   "metadata": {},
   "outputs": [
    {
     "name": "stdout",
     "output_type": "stream",
     "text": [
      "     labels                                               data  b_labels\n",
      "0       ham  Go until jurong point, crazy.. Available only ...         0\n",
      "1       ham                      Ok lar... Joking wif u oni...         0\n",
      "2      spam  Free entry in 2 a wkly comp to win FA Cup fina...         1\n",
      "3       ham  U dun say so early hor... U c already then say...         0\n",
      "4       ham  Nah I don't think he goes to usf, he lives aro...         0\n",
      "...     ...                                                ...       ...\n",
      "5567   spam  This is the 2nd time we have tried 2 contact u...         1\n",
      "5568    ham              Will Ì_ b going to esplanade fr home?         0\n",
      "5569    ham  Pity, * was in mood for that. So...any other s...         0\n",
      "5570    ham  The guy did some bitching but I acted like i'd...         0\n",
      "5571    ham                         Rofl. Its true to its name         0\n",
      "\n",
      "[5572 rows x 3 columns]\n"
     ]
    }
   ],
   "source": [
    "b_labels = [0 for i in range(5572)]\n",
    "for i in range(len(df[\"labels\"])):\n",
    "    if df[\"labels\"][i] == \"spam\":\n",
    "        b_labels[i] += 1\n",
    "    else:\n",
    "        b_labels[i] = 0\n",
    "#Ci-dessus on a créé une variable qui prend les valeurs de 0 et 1\n",
    "# selon que c'est un spam ou non\n",
    "\n",
    "df[\"b_labels\"] = b_labels\n",
    "print(df)"
   ]
  },
  {
   "cell_type": "markdown",
   "metadata": {},
   "source": [
    "# Entraînement du modèle"
   ]
  },
  {
   "cell_type": "code",
   "execution_count": 31,
   "metadata": {},
   "outputs": [
    {
     "data": {
      "text/plain": [
       "(5572, 8672)"
      ]
     },
     "execution_count": 31,
     "metadata": {},
     "output_type": "execute_result"
    }
   ],
   "source": [
    "#Essai numéro 1\n",
    "#X = np.zeros(shape = (5572,3)) #print(data.shape)\n",
    "#for i in range(len(df)):\n",
    "#    X [i] = df[i][:-1]\n",
    "#print(X)\n",
    "\n",
    "#Essai numéro 2\n",
    "#X = df[[\"labels\", \"data\"]]\n",
    "#print(X)\n",
    "#Y = df[[\"b_labels\"]]\n",
    "#print(Y)\n",
    "\n",
    "#Essai numéro 3\n",
    "tfidf = TfidfVectorizer()\n",
    "X = tfidf.fit_transform(df[\"data\"])\n",
    "Y = df[[\"b_labels\"]]\n",
    "np.shape(X)"
   ]
  },
  {
   "cell_type": "code",
   "execution_count": 32,
   "metadata": {},
   "outputs": [],
   "source": [
    "#x_train,x_test,y_train,y_test= train_test_split(X,Y,test_size=0.3,shuffle=True)\n",
    "x_train,x_test,y_train,y_test= train_test_split(X,Y,test_size=0.3,shuffle=True)"
   ]
  },
  {
   "cell_type": "code",
   "execution_count": 9,
   "metadata": {},
   "outputs": [],
   "source": [
    "#tfidf = TfidfVectorizer(decode_error=\"ignore\") -> On crée un vecteur modèle\n",
    "#Xtrain = tfidf.fit_transform(df_train) -> On fait correspondre les données avec le vecteur\n",
    "#Xtest = tfidf.transform(df_test) -> On applique ces données sur le vecteur test"
   ]
  },
  {
   "cell_type": "code",
   "execution_count": 33,
   "metadata": {},
   "outputs": [
    {
     "name": "stderr",
     "output_type": "stream",
     "text": [
      "C:\\Users\\user\\anaconda3\\lib\\site-packages\\sklearn\\utils\\validation.py:63: DataConversionWarning: A column-vector y was passed when a 1d array was expected. Please change the shape of y to (n_samples, ), for example using ravel().\n",
      "  return f(*args, **kwargs)\n"
     ]
    },
    {
     "data": {
      "text/plain": [
       "MultinomialNB()"
      ]
     },
     "execution_count": 33,
     "metadata": {},
     "output_type": "execute_result"
    }
   ],
   "source": [
    "model = MultinomialNB ()\n",
    "model.fit(x_train , y_train)"
   ]
  },
  {
   "cell_type": "code",
   "execution_count": 34,
   "metadata": {},
   "outputs": [
    {
     "name": "stdout",
     "output_type": "stream",
     "text": [
      "Précision pour le corpus: 0.9503588516746412\n"
     ]
    }
   ],
   "source": [
    "precision = model.score(x_test , y_test)\n",
    "print(\"Précision pour le corpus:\", precision ) #Résultat de 95% de précision"
   ]
  },
  {
   "cell_type": "code",
   "execution_count": 37,
   "metadata": {},
   "outputs": [
    {
     "name": "stderr",
     "output_type": "stream",
     "text": [
      "C:\\Users\\user\\anaconda3\\lib\\site-packages\\sklearn\\utils\\validation.py:63: DataConversionWarning: A column-vector y was passed when a 1d array was expected. Please change the shape of y to (n_samples, ), for example using ravel().\n",
      "  return f(*args, **kwargs)\n"
     ]
    },
    {
     "data": {
      "text/plain": [
       "AdaBoostClassifier()"
      ]
     },
     "execution_count": 37,
     "metadata": {},
     "output_type": "execute_result"
    }
   ],
   "source": [
    "#Cette fois-ci avec AdaBoostClassifier\n",
    "modelAda = AdaBoostClassifier()\n",
    "modelAda.fit(x_train, y_train)"
   ]
  },
  {
   "cell_type": "code",
   "execution_count": 38,
   "metadata": {},
   "outputs": [
    {
     "name": "stdout",
     "output_type": "stream",
     "text": [
      "Précision pour NB: 0.9742822966507177\n"
     ]
    }
   ],
   "source": [
    "precisionAda = modelAda.score(x_test, y_test)\n",
    "print(\"Précision pour NB:\", precisionAda) # Résultat de 97% de précision"
   ]
  }
 ],
 "metadata": {
  "kernelspec": {
   "display_name": "Python 3",
   "language": "python",
   "name": "python3"
  },
  "language_info": {
   "codemirror_mode": {
    "name": "ipython",
    "version": 3
   },
   "file_extension": ".py",
   "mimetype": "text/x-python",
   "name": "python",
   "nbconvert_exporter": "python",
   "pygments_lexer": "ipython3",
   "version": "3.8.8"
  }
 },
 "nbformat": 4,
 "nbformat_minor": 4
}
